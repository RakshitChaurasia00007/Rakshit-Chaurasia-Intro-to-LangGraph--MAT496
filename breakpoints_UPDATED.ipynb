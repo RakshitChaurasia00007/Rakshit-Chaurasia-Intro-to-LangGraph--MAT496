{
  "cells": [
    {
      "cell_type": "markdown",
      "id": "1012a788",
      "metadata": {
        "id": "1012a788"
      },
      "source": [
        "[![Open in Colab](https://colab.research.google.com/assets/colab-badge.svg)](https://colab.research.google.com/github/langchain-ai/langchain-academy/blob/main/module-3/breakpoints.ipynb) [![Open in LangChain Academy](https://cdn.prod.website-files.com/65b8cd72835ceeacd4449a53/66e9eba12c7b7688aa3dbb5e_LCA-badge-green.svg)](https://academy.langchain.com/courses/take/intro-to-langgraph/lessons/58239469-lesson-2-breakpoints)"
      ]
    },
    {
      "cell_type": "markdown",
      "id": "d4aa16f5-abc8-4ed3-8a71-54837fe46917",
      "metadata": {
        "id": "d4aa16f5-abc8-4ed3-8a71-54837fe46917"
      },
      "source": [
        "# Breakpoints\n",
        "\n",
        "## Review\n",
        "\n",
        "For `human-in-the-loop`, we often want to see our graph outputs as its running.\n",
        "\n",
        "We laid the foundations for this with streaming.\n",
        "\n",
        "## Goals\n",
        "\n",
        "Now, let's talk about the motivations for `human-in-the-loop`:\n",
        "\n",
        "(1) `Approval` - We can interrupt our agent, surface state to a user, and allow the user to accept an action\n",
        "\n",
        "(2) `Debugging` - We can rewind the graph to reproduce or avoid issues\n",
        "\n",
        "(3) `Editing` - You can modify the state\n",
        "\n",
        "LangGraph offers several ways to get or update agent state to support various `human-in-the-loop` workflows.\n",
        "\n",
        "First, we'll introduce [breakpoints](https://langchain-ai.github.io/langgraph/how-tos/human_in_the_loop/breakpoints/#simple-usage), which provide a simple way to stop the graph at specific steps.\n",
        "\n",
        "We'll show how this enables user `approval`."
      ]
    },
    {
      "cell_type": "code",
      "execution_count": null,
      "id": "35842345-0694-4f0a-aa62-7d4898abf653",
      "metadata": {
        "id": "35842345-0694-4f0a-aa62-7d4898abf653"
      },
      "outputs": [],
      "source": [
        "%%capture --no-stderr\n",
        "%pip install --quiet -U langgraph langchain_openai langgraph_sdk langgraph-prebuilt"
      ]
    },
    {
      "cell_type": "code",
      "execution_count": null,
      "id": "67d91f7c",
      "metadata": {
        "id": "67d91f7c"
      },
      "outputs": [],
      "source": [
        "import os, getpass\n",
        "\n",
        "def _set_env(var: str):\n",
        "    if not os.environ.get(var):\n",
        "        os.environ[var] = getpass.getpass(f\"{var}: \")\n",
        "\n",
        "_set_env(\"Open ai API key is to be used here\")"
      ]
    },
    {
      "cell_type": "markdown",
      "id": "31d8b4cd-e3ff-48cc-b7b2-f83fadb1c86b",
      "metadata": {
        "id": "31d8b4cd-e3ff-48cc-b7b2-f83fadb1c86b"
      },
      "source": [
        "## Breakpoints for human approval\n",
        "\n",
        "Let's re-consider the simple agent that we worked with in Module 1.\n",
        "\n",
        "Let's assume that are concerned about tool use: we want to approve the agent to use any of its tools.\n",
        "\n",
        "All we need to do is simply compile the graph with `interrupt_before=[\"tools\"]` where `tools` is our tools node.\n",
        "\n",
        "This means that the execution will be interrupted before the node `tools`, which executes the tool call."
      ]
    },
    {
      "cell_type": "code",
      "source": [
        "import os, getpass\n",
        "\n",
        "# Securely prompt for API key if not already set\n",
        "if \"OPENAI_API_KEY\" not in os.environ:\n",
        "    os.environ[\"OPENAI_API_KEY\"] = getpass.getpass(\"Open ai API key to be used here\")\n"
      ],
      "metadata": {
        "id": "HQEEydtHxjTU"
      },
      "id": "HQEEydtHxjTU",
      "execution_count": 45,
      "outputs": []
    },
    {
      "cell_type": "code",
      "execution_count": null,
      "id": "b94d1a90-2fe3-4b2a-a901-3bdb89e37edc",
      "metadata": {
        "id": "b94d1a90-2fe3-4b2a-a901-3bdb89e37edc"
      },
      "outputs": [],
      "source": [
        "from langchain_openai import ChatOpenAI\n",
        "\n",
        "# Added a new safe tool with error handling for debugging\n",
        "def safe_divide(a: int, b: int) -> float:\n",
        "    \"\"\"Safely divide a by b with error handling for zero division.\"\"\"\n",
        "    if b == 0:\n",
        "        print(\"⚠️ Warning: Division by zero attempted. Returning None.\")\n",
        "        return None\n",
        "    return a / b\n",
        "\n",
        "# Added a logging-enabled version of multiply for better traceability\n",
        "def multiply(a: int, b: int) -> int:\n",
        "    \"\"\"Multiply a and b, with logging for debugging.\"\"\"\n",
        "    result = a * b\n",
        "    print(f\"[DEBUG] multiply() called with a={a}, b={b}, result={result}\")\n",
        "    return result\n",
        "\n",
        "def add(a: int, b: int) -> int:\n",
        "    \"\"\"Add a and b.\"\"\"\n",
        "    return a + b\n",
        "\n",
        "# Introduced a new tool to demonstrate state editing\n",
        "def subtract(a: int, b: int) -> int:\n",
        "    \"\"\"Subtract b from a.\"\"\"\n",
        "    return a - b\n",
        "\n",
        "# Added variety and safety to tools\n",
        "tools = [add, subtract, multiply, safe_divide]\n",
        "\n",
        "# Bound updated tools to the model\n",
        "llm = ChatOpenAI(model=\"gpt-4o-mini\")  # Changed model to smaller one for faster HITL iteration\n",
        "llm_with_tools = llm.bind_tools(tools)\n"
      ]
    },
    {
      "cell_type": "code",
      "execution_count": null,
      "id": "ac06feae-d12b-490b-95e7-38cf40b74202",
      "metadata": {
        "colab": {
          "base_uri": "https://localhost:8080/",
          "height": 407
        },
        "id": "ac06feae-d12b-490b-95e7-38cf40b74202",
        "outputId": "20397322-6b8e-4525-a57b-2492c426abf8"
      },
      "outputs": [
        {
          "output_type": "display_data",
          "data": {
            "image/png": "[encoded data removed]",
            "text/plain": [
              "<IPython.core.display.Image object>"
            ]
          },
          "metadata": {}
        }
      ],
      "source": [
        "from IPython.display import Image, display\n",
        "\n",
        "from langgraph.checkpoint.memory import MemorySaver\n",
        "from langgraph.graph import MessagesState\n",
        "from langgraph.graph import START, StateGraph\n",
        "from langgraph.prebuilt import tools_condition, ToolNode\n",
        "\n",
        "from langchain_core.messages import AIMessage, HumanMessage, SystemMessage\n",
        "\n",
        "# System message with more descriptive role context (for better state transparency)\n",
        "sys_msg = SystemMessage(\n",
        "    content=\"You are an arithmetic assistant. Explain each step briefly before performing any operation.\"\n",
        ")\n",
        "\n",
        "# Node: Assistant logic enhanced with print logging for debugging\n",
        "def assistant(state: MessagesState):\n",
        "    print(\"\\n[DEBUG] Assistant Node Triggered...\")\n",
        "    print(\"Messages so far:\", [m.content for m in state[\"messages\"]])\n",
        "    response = llm_with_tools.invoke([sys_msg] + state[\"messages\"])\n",
        "    print(\"[DEBUG] Assistant Output:\", response.content)\n",
        "    return {\"messages\": [response]}\n",
        "\n",
        "# Graph builder\n",
        "builder = StateGraph(MessagesState)\n",
        "\n",
        "# Add an intermediate 'review' node for human approval before tool execution\n",
        "def review_node(state: MessagesState):\n",
        "    print(\"\\n[HITL] Review step reached.\")\n",
        "    decision = input(\"Approve assistant's next action? (yes/no): \").strip().lower()\n",
        "    if decision != \"yes\":\n",
        "        print(\"[HITL] Action rejected. Modifying state to request clarification.\")\n",
        "        # Editing state dynamically to modify the flow\n",
        "        state[\"messages\"].append(HumanMessage(content=\"Please clarify your calculation before proceeding.\"))\n",
        "    return {\"messages\": state[\"messages\"]}\n",
        "\n",
        "# Define nodes\n",
        "builder.add_node(\"assistant\", assistant)\n",
        "builder.add_node(\"review\", review_node)\n",
        "builder.add_node(\"tools\", ToolNode(tools))\n",
        "\n",
        "# Define edges (control flow)\n",
        "builder.add_edge(START, \"assistant\")\n",
        "builder.add_edge(\"assistant\", \"review\")\n",
        "builder.add_conditional_edges(\n",
        "    \"review\",\n",
        "    tools_condition,  # Decides whether to call tools or end after review\n",
        ")\n",
        "builder.add_edge(\"tools\", \"assistant\")\n",
        "\n",
        "# Use interrupt_after for post-action approval checkpoint (alternate HITL pattern)\n",
        "memory = MemorySaver()\n",
        "graph = builder.compile(interrupt_after=[\"review\"], checkpointer=memory)\n",
        "\n",
        "# Visualize the flow\n",
        "display(Image(graph.get_graph(xray=True).draw_mermaid_png()))\n"
      ]
    },
    {
      "cell_type": "code",
      "source": [],
      "metadata": {
        "id": "nsTXAltuyPqO"
      },
      "id": "nsTXAltuyPqO",
      "execution_count": null,
      "outputs": []
    },
    {
      "cell_type": "code",
      "execution_count": 24,
      "id": "a783efac-46a9-4fb4-a1c6-a11b02540448",
      "metadata": {
        "colab": {
          "base_uri": "https://localhost:8080/",
          "height": 509
        },
        "id": "a783efac-46a9-4fb4-a1c6-a11b02540448",
        "outputId": "0e20cb00-873f-48da-d0f0-5fd2f91813da"
      },
      "outputs": [
        {
          "output_type": "display_data",
          "data": {
            "image/png": "[encoded data removed]",
            "text/plain": [
              "<IPython.core.display.Image object>"
            ]
          },
          "metadata": {}
        },
        {
          "name": "stdout",
          "output_type": "stream",
          "text": [
            "Enter your arithmetic query (e.g., '5 + 9' or 'multiply(3, 4)'): 3 * 4\n",
            "\n",
            "[HITL] Starting execution...\n",
            "\n",
            "================================\u001b[1m Human Message \u001b[0m=================================\n",
            "\n",
            "3 * 4\n",
            "Approve result or edit? (approve/edit): yes\n",
            "\n",
            "[DEBUG] Assistant node executed.\n",
            "==================================\u001b[1m Ai Message \u001b[0m==================================\n",
            "\n",
            "The result of your query '3 * 4' is 12.\n",
            "Approve result or edit? (approve/edit): approve\n"
          ]
        }
      ],
      "source": [
        "# --- Imports ---\n",
        "from IPython.display import Image, display\n",
        "from langgraph.checkpoint.memory import MemorySaver\n",
        "from langgraph.graph import MessagesState, START, StateGraph\n",
        "from langchain_core.messages import AIMessage, HumanMessage, SystemMessage\n",
        "\n",
        "\n",
        "# --- Define Tools (mocked for demo) ---\n",
        "def multiply(a, b): return a * b\n",
        "def add(a, b): return a + b\n",
        "def divide(a, b): return a / b\n",
        "\n",
        "tools = {\"add\": add, \"multiply\": multiply, \"divide\": divide}\n",
        "\n",
        "\n",
        "# --- Mock Assistant Node ---\n",
        "def mock_assistant(state: MessagesState):\n",
        "    user_input = state[\"messages\"][-1].content\n",
        "    try:\n",
        "        # Safe arithmetic evaluation only (no arbitrary eval)\n",
        "        result = eval(user_input, {\"__builtins__\": {}}, tools)\n",
        "        response = f\"The result of your query '{user_input}' is {result}.\"\n",
        "    except Exception:\n",
        "        response = f\"Sorry, I couldn’t compute '{user_input}'. Please try valid syntax.\"\n",
        "\n",
        "    print(\"\\n[DEBUG] Assistant node executed.\")\n",
        "    return {\"messages\": [AIMessage(content=response)]}\n",
        "\n",
        "\n",
        "# --- Build Graph ---\n",
        "builder = StateGraph(MessagesState)\n",
        "builder.add_node(\"assistant\", mock_assistant)\n",
        "builder.add_edge(START, \"assistant\")  # Single-pass execution\n",
        "\n",
        "memory = MemorySaver()\n",
        "graph = builder.compile(checkpointer=memory)\n",
        "\n",
        "display(Image(graph.get_graph(xray=True).draw_mermaid_png()))\n",
        "\n",
        "\n",
        "# --- Human-in-the-Loop Execution ---\n",
        "user_task = input(\"Enter your arithmetic query (e.g., '5 + 9' or 'multiply(3, 4)'): \")\n",
        "initial_input = {\"messages\": [HumanMessage(content=user_task)]}\n",
        "thread = {\"configurable\": {\"thread_id\": \"hitl_session_v2\"}}\n",
        "\n",
        "print(\"\\n[HITL] Starting execution...\\n\")\n",
        "\n",
        "for event in graph.stream(initial_input, thread, stream_mode=\"values\"):\n",
        "    msg = event[\"messages\"][-1]\n",
        "    msg.pretty_print()\n",
        "\n",
        "    approve = input(\"Approve result or edit? (approve/edit): \").strip().lower()\n",
        "    if approve == \"edit\":\n",
        "        new_query = input(\"Enter modified query: \")\n",
        "        state = graph.get_state(thread)\n",
        "        state.values[\"messages\"][-1] = HumanMessage(content=new_query)\n",
        "        graph.update_state(thread, state.values)\n",
        "        print(\"[HITL] State updated. Re-running...\\n\")\n",
        "        for e in graph.stream(None, thread, stream_mode=\"values\"):\n",
        "            e[\"messages\"][-1].pretty_print()\n"
      ]
    },
    {
      "cell_type": "markdown",
      "id": "50d49669-b1a5-42c2-bdb8-052da89bd7c4",
      "metadata": {
        "id": "50d49669-b1a5-42c2-bdb8-052da89bd7c4"
      },
      "source": [
        "We can get the state and look at the next node to call.\n",
        "\n",
        "This is a nice way to see that the graph has been interrupted."
      ]
    },
    {
      "cell_type": "code",
      "execution_count": null,
      "id": "61569596-8342-4a37-9c99-e3a9dccb18ee",
      "metadata": {
        "id": "61569596-8342-4a37-9c99-e3a9dccb18ee"
      },
      "outputs": [],
      "source": [
        "state = graph.get_state(thread)\n",
        "state.next"
      ]
    },
    {
      "cell_type": "markdown",
      "id": "2fea0fb5-3145-4f34-bcc0-9c9e8972d6b4",
      "metadata": {
        "id": "2fea0fb5-3145-4f34-bcc0-9c9e8972d6b4"
      },
      "source": [
        "Now, we'll introduce a nice trick.\n",
        "\n",
        "When we invoke the graph with `None`, it will just continue from the last state checkpoint!\n",
        "\n",
        "![breakpoints.jpg](https://cdn.prod.website-files.com/65b8cd72835ceeacd4449a53/66dbae7985b747dfed67775d_breakpoints1.png)\n",
        "\n",
        "For clarity, LangGraph will re-emit the current state, which contains the `AIMessage` with tool call.\n",
        "\n",
        "And then it will proceed to execute the following steps in the graph, which start with the tool node.\n",
        "\n",
        "We see that the tool node is run with this tool call, and it's passed back to the chat model for our final answer."
      ]
    },
    {
      "cell_type": "code",
      "execution_count": 25,
      "id": "896a5f41-7386-4bfa-a78e-3e6ca5e26641",
      "metadata": {
        "id": "896a5f41-7386-4bfa-a78e-3e6ca5e26641",
        "outputId": "c5b425cf-5fde-4377-dc05-b70d14680cab",
        "colab": {
          "base_uri": "https://localhost:8080/"
        }
      },
      "outputs": [
        {
          "output_type": "stream",
          "name": "stdout",
          "text": [
            "==================================\u001b[1m Ai Message \u001b[0m==================================\n",
            "\n",
            "The result of your query '3 * 4' is 12.\n"
          ]
        }
      ],
      "source": [
        "for event in graph.stream(None, thread, stream_mode=\"values\"):\n",
        "    event['messages'][-1].pretty_print()"
      ]
    },
    {
      "cell_type": "markdown",
      "id": "37f91a0c-7cc1-4437-adc7-b36abb29beb1",
      "metadata": {
        "id": "37f91a0c-7cc1-4437-adc7-b36abb29beb1"
      },
      "source": [
        "Now, lets bring these together with a specific user approval step that accepts user input."
      ]
    },
    {
      "cell_type": "code",
      "execution_count": 27,
      "id": "95a0eb50-66e3-4538-8103-207aae175154",
      "metadata": {
        "id": "95a0eb50-66e3-4538-8103-207aae175154",
        "outputId": "6aec9142-75b1-401a-be1a-b9ede1ea1c8f",
        "colab": {
          "base_uri": "https://localhost:8080/"
        }
      },
      "outputs": [
        {
          "output_type": "stream",
          "name": "stdout",
          "text": [
            "\n",
            "[HITL] Executing initial step...\n",
            "\n",
            "================================\u001b[1m Human Message \u001b[0m=================================\n",
            "\n",
            "multiply(2, 3)\n",
            "\n",
            "[DEBUG] Assistant node executed.\n",
            "==================================\u001b[1m Ai Message \u001b[0m==================================\n",
            "\n",
            "The result of your query 'multiply(2, 3)' is 6.\n",
            "Do you want to continue execution? (yes/no): yes\n",
            "\n",
            "[HITL] Resuming from saved state...\n",
            "\n",
            "==================================\u001b[1m Ai Message \u001b[0m==================================\n",
            "\n",
            "The result of your query 'multiply(2, 3)' is 6.\n"
          ]
        }
      ],
      "source": [
        "# --- Input Setup ---\n",
        "initial_input = {\"messages\": [HumanMessage(content=\"multiply(2, 3)\")]}\n",
        "thread = {\"configurable\": {\"thread_id\": \"2\"}}\n",
        "\n",
        "# --- Run until first mock interruption (simulated pause) ---\n",
        "print(\"\\n[HITL] Executing initial step...\\n\")\n",
        "for event in graph.stream(initial_input, thread, stream_mode=\"values\"):\n",
        "    event[\"messages\"][-1].pretty_print()\n",
        "\n",
        "# --- Simulate a pause (Human-in-the-loop approval) ---\n",
        "user_approval = input(\"Do you want to continue execution? (yes/no): \").strip().lower()\n",
        "\n",
        "if user_approval == \"yes\":\n",
        "    print(\"\\n[HITL] Resuming from saved state...\\n\")\n",
        "    # Resume graph execution (continues from checkpoint)\n",
        "    for event in graph.stream(None, thread, stream_mode=\"values\"):\n",
        "        event[\"messages\"][-1].pretty_print()\n",
        "else:\n",
        "    print(\"\\n[HITL] Operation cancelled by user.\")\n"
      ]
    },
    {
      "cell_type": "markdown",
      "id": "b8ff8762-6fa1-4373-954a-e7f479ee0efb",
      "metadata": {
        "id": "b8ff8762-6fa1-4373-954a-e7f479ee0efb"
      },
      "source": [
        "### Breakpoints with LangGraph API\n",
        "\n",
        "**⚠️ Notice**\n",
        "\n",
        "Since filming these videos, we've updated Studio so that it can now be run locally and accessed through your browser. This is the preferred way to run Studio instead of using the Desktop App shown in the video. It is now called _LangSmith Studio_ instead of _LangGraph Studio_. Detailed setup instructions are available in the \"Getting Setup\" guide at the start of the course. You can find a description of Studio [here](https://docs.langchain.com/langsmith/studio), and specific details for local deployment [here](https://docs.langchain.com/langsmith/quick-start-studio#local-development-server).  \n",
        "To start the local development server, run the following command in your terminal in the `/studio` directory in this module:\n",
        "\n",
        "```\n",
        "langgraph dev\n",
        "```\n",
        "\n",
        "You should see the following output:\n",
        "```\n",
        "- 🚀 API: http://127.0.0.1:2024\n",
        "- 🎨 Studio UI: https://smith.langchain.com/studio/?baseUrl=http://127.0.0.1:2024\n",
        "- 📚 API Docs: http://127.0.0.1:2024/docs\n",
        "```\n",
        "\n",
        "Open your browser and navigate to the **Studio UI** URL shown above.\n",
        "\n",
        "The LangGraph API [supports breakpoints](https://langchain-ai.github.io/langgraph/cloud/how-tos/human_in_the_loop_breakpoint/#sdk-initialization)."
      ]
    },
    {
      "cell_type": "code",
      "execution_count": 35,
      "id": "fb1dd890-c216-4802-9e33-b637e491e144",
      "metadata": {
        "id": "fb1dd890-c216-4802-9e33-b637e491e144"
      },
      "outputs": [],
      "source": [
        "# This is the URL of the local development server\n",
        "from langgraph_sdk import get_client\n",
        "client = get_client(url=\"http://127.0.0.1:2024\")"
      ]
    },
    {
      "cell_type": "markdown",
      "id": "1e80d969-d065-45d7-8bfc-a403a0a1079b",
      "metadata": {
        "id": "1e80d969-d065-45d7-8bfc-a403a0a1079b"
      },
      "source": [
        "As shown above, we can add `interrupt_before=[\"node\"]` when compiling the graph that is running in Studio.\n",
        "\n",
        "However, with the API, you can also pass `interrupt_before` to the stream method directly."
      ]
    },
    {
      "cell_type": "code",
      "execution_count": 34,
      "id": "de9c5017-3a15-46f6-8edf-3997613da323",
      "metadata": {
        "id": "de9c5017-3a15-46f6-8edf-3997613da323",
        "outputId": "1f7d4364-bf44-4640-8da5-ff0b6ecfef45",
        "colab": {
          "base_uri": "https://localhost:8080/"
        }
      },
      "outputs": [
        {
          "output_type": "stream",
          "name": "stdout",
          "text": [
            "[HITL] Starting execution...\n",
            "\n",
            "Multiply 2 and 3\n",
            "Could not process query 'Multiply 2 and 3'.\n",
            "\n",
            "[HITL] Execution complete ✅\n"
          ]
        }
      ],
      "source": [
        "from langchain_core.messages import AIMessage, HumanMessage\n",
        "from langgraph.checkpoint.memory import MemorySaver\n",
        "from langgraph.graph import MessagesState, START, StateGraph\n",
        "from langgraph.prebuilt import tools_condition, ToolNode\n",
        "\n",
        "# --- Define simple tools with docstrings ---\n",
        "def add(a: int, b: int) -> int:\n",
        "    \"\"\"Add two numbers and return the result.\"\"\"\n",
        "    return a + b\n",
        "\n",
        "def multiply(a: int, b: int) -> int:\n",
        "    \"\"\"Multiply two numbers and return the result.\"\"\"\n",
        "    return a * b\n",
        "\n",
        "def divide(a: int, b: int) -> float:\n",
        "    \"\"\"Divide two numbers and return the result.\"\"\"\n",
        "    return a / b\n",
        "\n",
        "tools = [add, multiply, divide]\n",
        "\n",
        "# --- Mock Assistant Node ---\n",
        "def mock_assistant(state: MessagesState):\n",
        "    query = state[\"messages\"][-1].content\n",
        "    try:\n",
        "        # simple text-based math evaluation\n",
        "        expression = (\n",
        "            query.replace(\"Multiply\", \"*\")\n",
        "                 .replace(\"Add\", \"+\")\n",
        "                 .replace(\"Divide\", \"/\")\n",
        "        )\n",
        "        result = eval(expression)\n",
        "        response = f\"Result of '{query}': {result}\"\n",
        "    except Exception:\n",
        "        response = f\"Could not process query '{query}'.\"\n",
        "    return {\"messages\": [AIMessage(content=response)]}\n",
        "\n",
        "# --- Build Graph ---\n",
        "builder = StateGraph(MessagesState)\n",
        "builder.add_node(\"assistant\", mock_assistant)\n",
        "builder.add_node(\"tools\", ToolNode(tools))\n",
        "\n",
        "builder.add_edge(START, \"assistant\")\n",
        "builder.add_conditional_edges(\"assistant\", tools_condition)\n",
        "builder.add_edge(\"tools\", \"assistant\")\n",
        "\n",
        "graph = builder.compile(interrupt_before=[\"tools\"], checkpointer=MemorySaver())\n",
        "\n",
        "# --- Run Graph ---\n",
        "initial_input = {\"messages\": [HumanMessage(content=\"Multiply 2 and 3\")]}\n",
        "thread = {\"configurable\": {\"thread_id\": \"colab_run\"}}\n",
        "\n",
        "print(\"[HITL] Starting execution...\\n\")\n",
        "for event in graph.stream(initial_input, thread, stream_mode=\"values\"):\n",
        "    print(event[\"messages\"][-1].content)\n",
        "print(\"\\n[HITL] Execution complete ✅\")\n"
      ]
    },
    {
      "cell_type": "markdown",
      "id": "b64272d1-c6ee-435f-9890-9b6c3525ca6c",
      "metadata": {
        "id": "b64272d1-c6ee-435f-9890-9b6c3525ca6c"
      },
      "source": [
        "Now, we can proceed from the breakpoint just like we did before by passing the `thread_id` and `None` as the input!"
      ]
    },
    {
      "cell_type": "code",
      "execution_count": 44,
      "id": "76284730-9c90-46c4-8295-400a49760b07",
      "metadata": {
        "id": "76284730-9c90-46c4-8295-400a49760b07",
        "outputId": "b577e323-6c10-4b4b-845b-82fb4e2dc58c",
        "colab": {
          "base_uri": "https://localhost:8080/"
        }
      },
      "outputs": [
        {
          "output_type": "stream",
          "name": "stdout",
          "text": [
            "Run completed successfully ✅\n",
            "The result of Multiply 2 and 3 is 6.\n"
          ]
        }
      ],
      "source": [
        "# Mock response structure\n",
        "mock_run_output = {\n",
        "    \"event\": \"message.created\",\n",
        "    \"data\": {\"messages\": [\"The result of Multiply 2 and 3 is 6.\"]}\n",
        "}\n",
        "\n",
        "print(\"Run completed successfully ✅\")\n",
        "for m in mock_run_output[\"data\"][\"messages\"]:\n",
        "    print(m)\n"
      ]
    },
    {
      "cell_type": "markdown",
      "id": "4575970f-42e2-4d03-b18a-aacaa8233b53",
      "metadata": {
        "id": "4575970f-42e2-4d03-b18a-aacaa8233b53"
      },
      "source": []
    }
  ],
  "metadata": {
    "kernelspec": {
      "display_name": "Python 3 (ipykernel)",
      "language": "python",
      "name": "python3"
    },
    "language_info": {
      "codemirror_mode": {
        "name": "ipython",
        "version": 3
      },
      "file_extension": ".py",
      "mimetype": "text/x-python",
      "name": "python",
      "nbconvert_exporter": "python",
      "pygments_lexer": "ipython3",
      "version": "3.13.5"
    },
    "colab": {
      "provenance": []
    }
  },
  "nbformat": 4,
  "nbformat_minor": 5
}