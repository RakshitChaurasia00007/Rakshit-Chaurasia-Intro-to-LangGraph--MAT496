{
  "cells": [
    {
      "cell_type": "markdown",
      "id": "7a5c2153",
      "metadata": {
        "editable": true,
        "tags": [],
        "id": "7a5c2153"
      },
      "source": [
        "[![Open in Colab](https://colab.research.google.com/assets/colab-badge.svg)](https://colab.research.google.com/github/langchain-ai/langchain-academy/blob/main/module-4/research-assistant.ipynb) [![Open in LangChain Academy](https://cdn.prod.website-files.com/65b8cd72835ceeacd4449a53/66e9eba12c7b7688aa3dbb5e_LCA-badge-green.svg)](https://academy.langchain.com/courses/take/intro-to-langgraph/lessons/58239974-lesson-4-research-assistant)"
      ]
    },
    {
      "cell_type": "markdown",
      "id": "e0a5763f-5f45-4b8f-b3e2-480f46c5721b",
      "metadata": {
        "editable": true,
        "tags": [],
        "id": "e0a5763f-5f45-4b8f-b3e2-480f46c5721b"
      },
      "source": [
        "# Research Assistant\n",
        "\n",
        "## Review\n",
        "\n",
        "We've covered a few major LangGraph themes:\n",
        "\n",
        "* Memory\n",
        "* Human-in-the-loop\n",
        "* Controllability\n",
        "\n",
        "Now, we'll bring these ideas together to tackle one of AI's most popular applications: research automation.\n",
        "\n",
        "Research is often laborious work offloaded to analysts. AI has considerable potential to assist with this.\n",
        "\n",
        "However, research demands customization: raw LLM outputs are often poorly suited for real-world decision-making workflows.\n",
        "\n",
        "Customized, AI-based [research and report generation](https://jxnl.co/writing/2024/06/05/predictions-for-the-future-of-rag/#reports-over-rag) workflows are a promising way to address this.\n",
        "\n",
        "## Goal\n",
        "\n",
        "Our goal is to build a lightweight, multi-agent system around chat models that customizes the research process.\n",
        "\n",
        "`Source Selection`\n",
        "* Users can choose any set of input sources for their research.\n",
        "  \n",
        "`Planning`\n",
        "* Users provide a topic, and the system generates a team of AI analysts, each focusing on one sub-topic.\n",
        "* `Human-in-the-loop` will be used to refine these sub-topics before research begins.\n",
        "  \n",
        "`LLM Utilization`\n",
        "* Each analyst will conduct in-depth interviews with an expert AI using the selected sources.\n",
        "* The interview will be a multi-turn conversation to extract detailed insights as shown in the [STORM](https://arxiv.org/abs/2402.14207) paper.\n",
        "* These interviews will be captured in a using `sub-graphs` with their internal state.\n",
        "   \n",
        "`Research Process`\n",
        "* Experts will gather information to answer analyst questions in `parallel`.\n",
        "* And all interviews will be conducted simultaneously through `map-reduce`.\n",
        "\n",
        "`Output Format`\n",
        "* The gathered insights from each interview will be synthesized into a final report.\n",
        "* We'll use customizable prompts for the report, allowing for a flexible output format.\n",
        "\n",
        "![Screenshot 2024-08-26 at 7.26.33 PM.png](https://cdn.prod.website-files.com/65b8cd72835ceeacd4449a53/66dbb164d61c93d48e604091_research-assistant1.png)"
      ]
    },
    {
      "cell_type": "code",
      "execution_count": null,
      "id": "f23991e9-51b3-4e9f-86a0-dec16aa7d1e6",
      "metadata": {
        "scrolled": true,
        "id": "f23991e9-51b3-4e9f-86a0-dec16aa7d1e6"
      },
      "outputs": [],
      "source": [
        "%%capture --no-stderr\n",
        "%pip install --quiet -U langgraph langchain_openai langchain_community langchain_core tavily-python wikipedia"
      ]
    },
    {
      "cell_type": "markdown",
      "id": "99a1c01d-87e1-4723-b83e-ebcf937fe914",
      "metadata": {
        "id": "99a1c01d-87e1-4723-b83e-ebcf937fe914"
      },
      "source": [
        "## Setup"
      ]
    },
    {
      "cell_type": "code",
      "execution_count": 15,
      "id": "ba917800-10e4-4e2a-8e9e-30893b731e97",
      "metadata": {
        "colab": {
          "base_uri": "https://localhost:8080/",
          "height": 338
        },
        "id": "ba917800-10e4-4e2a-8e9e-30893b731e97",
        "outputId": "1babe1ee-7444-40ed-f381-68786b9e9257"
      },
      "outputs": [
        {
          "output_type": "error",
          "ename": "KeyboardInterrupt",
          "evalue": "Interrupted by user",
          "traceback": [
            "\u001b[0;31m---------------------------------------------------------------------------\u001b[0m",
            "\u001b[0;31mKeyboardInterrupt\u001b[0m                         Traceback (most recent call last)",
            "\u001b[0;32m/tmp/ipython-input-2315102774.py\u001b[0m in \u001b[0;36m<cell line: 0>\u001b[0;34m()\u001b[0m\n\u001b[1;32m      5\u001b[0m         \u001b[0mos\u001b[0m\u001b[0;34m.\u001b[0m\u001b[0menviron\u001b[0m\u001b[0;34m[\u001b[0m\u001b[0mvar\u001b[0m\u001b[0;34m]\u001b[0m \u001b[0;34m=\u001b[0m \u001b[0mgetpass\u001b[0m\u001b[0;34m.\u001b[0m\u001b[0mgetpass\u001b[0m\u001b[0;34m(\u001b[0m\u001b[0;34mf\"{var}: \"\u001b[0m\u001b[0;34m)\u001b[0m\u001b[0;34m\u001b[0m\u001b[0;34m\u001b[0m\u001b[0m\n\u001b[1;32m      6\u001b[0m \u001b[0;34m\u001b[0m\u001b[0m\n\u001b[0;32m----> 7\u001b[0;31m \u001b[0m_set_env\u001b[0m\u001b[0;34m(\u001b[0m\u001b[0;34m\"open ai API key to be placed here\"\u001b[0m\u001b[0;34m)\u001b[0m\u001b[0;34m\u001b[0m\u001b[0;34m\u001b[0m\u001b[0m\n\u001b[0m",
            "\u001b[0;32m/tmp/ipython-input-2315102774.py\u001b[0m in \u001b[0;36m_set_env\u001b[0;34m(var)\u001b[0m\n\u001b[1;32m      3\u001b[0m \u001b[0;32mdef\u001b[0m \u001b[0m_set_env\u001b[0m\u001b[0;34m(\u001b[0m\u001b[0mvar\u001b[0m\u001b[0;34m:\u001b[0m \u001b[0mstr\u001b[0m\u001b[0;34m)\u001b[0m\u001b[0;34m:\u001b[0m\u001b[0;34m\u001b[0m\u001b[0;34m\u001b[0m\u001b[0m\n\u001b[1;32m      4\u001b[0m     \u001b[0;32mif\u001b[0m \u001b[0;32mnot\u001b[0m \u001b[0mos\u001b[0m\u001b[0;34m.\u001b[0m\u001b[0menviron\u001b[0m\u001b[0;34m.\u001b[0m\u001b[0mget\u001b[0m\u001b[0;34m(\u001b[0m\u001b[0mvar\u001b[0m\u001b[0;34m)\u001b[0m\u001b[0;34m:\u001b[0m\u001b[0;34m\u001b[0m\u001b[0;34m\u001b[0m\u001b[0m\n\u001b[0;32m----> 5\u001b[0;31m         \u001b[0mos\u001b[0m\u001b[0;34m.\u001b[0m\u001b[0menviron\u001b[0m\u001b[0;34m[\u001b[0m\u001b[0mvar\u001b[0m\u001b[0;34m]\u001b[0m \u001b[0;34m=\u001b[0m \u001b[0mgetpass\u001b[0m\u001b[0;34m.\u001b[0m\u001b[0mgetpass\u001b[0m\u001b[0;34m(\u001b[0m\u001b[0;34mf\"{var}: \"\u001b[0m\u001b[0;34m)\u001b[0m\u001b[0;34m\u001b[0m\u001b[0;34m\u001b[0m\u001b[0m\n\u001b[0m\u001b[1;32m      6\u001b[0m \u001b[0;34m\u001b[0m\u001b[0m\n\u001b[1;32m      7\u001b[0m \u001b[0m_set_env\u001b[0m\u001b[0;34m(\u001b[0m\u001b[0;34m\"open ai API key to be placed here\"\u001b[0m\u001b[0;34m)\u001b[0m\u001b[0;34m\u001b[0m\u001b[0;34m\u001b[0m\u001b[0m\n",
            "\u001b[0;32m/usr/local/lib/python3.12/dist-packages/ipykernel/kernelbase.py\u001b[0m in \u001b[0;36mgetpass\u001b[0;34m(self, prompt, stream)\u001b[0m\n\u001b[1;32m   1157\u001b[0m                 \u001b[0mstacklevel\u001b[0m\u001b[0;34m=\u001b[0m\u001b[0;36m2\u001b[0m\u001b[0;34m,\u001b[0m\u001b[0;34m\u001b[0m\u001b[0;34m\u001b[0m\u001b[0m\n\u001b[1;32m   1158\u001b[0m             )\n\u001b[0;32m-> 1159\u001b[0;31m         return self._input_request(\n\u001b[0m\u001b[1;32m   1160\u001b[0m             \u001b[0mprompt\u001b[0m\u001b[0;34m,\u001b[0m\u001b[0;34m\u001b[0m\u001b[0;34m\u001b[0m\u001b[0m\n\u001b[1;32m   1161\u001b[0m             \u001b[0mself\u001b[0m\u001b[0;34m.\u001b[0m\u001b[0m_parent_ident\u001b[0m\u001b[0;34m[\u001b[0m\u001b[0;34m\"shell\"\u001b[0m\u001b[0;34m]\u001b[0m\u001b[0;34m,\u001b[0m\u001b[0;34m\u001b[0m\u001b[0;34m\u001b[0m\u001b[0m\n",
            "\u001b[0;32m/usr/local/lib/python3.12/dist-packages/ipykernel/kernelbase.py\u001b[0m in \u001b[0;36m_input_request\u001b[0;34m(self, prompt, ident, parent, password)\u001b[0m\n\u001b[1;32m   1217\u001b[0m             \u001b[0;32mexcept\u001b[0m \u001b[0mKeyboardInterrupt\u001b[0m\u001b[0;34m:\u001b[0m\u001b[0;34m\u001b[0m\u001b[0;34m\u001b[0m\u001b[0m\n\u001b[1;32m   1218\u001b[0m                 \u001b[0;31m# re-raise KeyboardInterrupt, to truncate traceback\u001b[0m\u001b[0;34m\u001b[0m\u001b[0;34m\u001b[0m\u001b[0m\n\u001b[0;32m-> 1219\u001b[0;31m                 \u001b[0;32mraise\u001b[0m \u001b[0mKeyboardInterrupt\u001b[0m\u001b[0;34m(\u001b[0m\u001b[0;34m\"Interrupted by user\"\u001b[0m\u001b[0;34m)\u001b[0m \u001b[0;32mfrom\u001b[0m \u001b[0;32mNone\u001b[0m\u001b[0;34m\u001b[0m\u001b[0;34m\u001b[0m\u001b[0m\n\u001b[0m\u001b[1;32m   1220\u001b[0m             \u001b[0;32mexcept\u001b[0m \u001b[0mException\u001b[0m\u001b[0;34m:\u001b[0m\u001b[0;34m\u001b[0m\u001b[0;34m\u001b[0m\u001b[0m\n\u001b[1;32m   1221\u001b[0m                 \u001b[0mself\u001b[0m\u001b[0;34m.\u001b[0m\u001b[0mlog\u001b[0m\u001b[0;34m.\u001b[0m\u001b[0mwarning\u001b[0m\u001b[0;34m(\u001b[0m\u001b[0;34m\"Invalid Message:\"\u001b[0m\u001b[0;34m,\u001b[0m \u001b[0mexc_info\u001b[0m\u001b[0;34m=\u001b[0m\u001b[0;32mTrue\u001b[0m\u001b[0;34m)\u001b[0m\u001b[0;34m\u001b[0m\u001b[0;34m\u001b[0m\u001b[0m\n",
            "\u001b[0;31mKeyboardInterrupt\u001b[0m: Interrupted by user"
          ]
        }
      ],
      "source": [
        "import os, getpass\n",
        "\n",
        "def _set_env(var: str):\n",
        "    if not os.environ.get(var):\n",
        "        os.environ[var] = getpass.getpass(f\"{var}: \")\n",
        "\n",
        "_set_env(\"open ai API key to be placed here\")"
      ]
    },
    {
      "cell_type": "code",
      "execution_count": null,
      "id": "afe9ff57-0826-4669-b88b-4d0501a509f5",
      "metadata": {
        "id": "afe9ff57-0826-4669-b88b-4d0501a509f5"
      },
      "outputs": [],
      "source": [
        "import os, getpass\n",
        "\n",
        "def _set_env(var: str):\n",
        "    if not os.environ.get(var):\n",
        "        os.environ[var] = getpass.getpass(f\"{var}: \")\n",
        "\n",
        "_set_env(\"Open ai api key is to be used here \")\n"
      ]
    },
    {
      "cell_type": "markdown",
      "id": "3419257b-2c6b-4d68-ae38-4a266cc02982",
      "metadata": {
        "editable": true,
        "tags": [],
        "id": "3419257b-2c6b-4d68-ae38-4a266cc02982"
      },
      "source": [
        "We'll use [LangSmith](https://docs.langchain.com/langsmith/home) for [tracing](https://docs.langchain.com/langsmith/observability-concepts)."
      ]
    },
    {
      "cell_type": "code",
      "execution_count": null,
      "id": "5102cf2e-0ca9-465b-9499-67abb8132e5d",
      "metadata": {
        "editable": true,
        "tags": [],
        "id": "5102cf2e-0ca9-465b-9499-67abb8132e5d"
      },
      "outputs": [],
      "source": [
        "_set_env(\"Lang key is to be used here \")\n",
        "os.environ[\"LANGSMITH_TRACING\"] = \"true\"\n",
        "os.environ[\"LANGSMITH_PROJECT\"] = \"langchain-academy\""
      ]
    },
    {
      "cell_type": "markdown",
      "id": "f8fe5d93-e353-44bb-be3e-434654bcb7ea",
      "metadata": {
        "id": "f8fe5d93-e353-44bb-be3e-434654bcb7ea"
      },
      "source": [
        "## Generate Analysts: Human-In-The-Loop\n",
        "\n",
        "Create analysts and review them using human-in-the-loop."
      ]
    },
    {
      "cell_type": "code",
      "execution_count": null,
      "id": "1eee8e60-e548-49b1-88ec-a4f3aef2174e",
      "metadata": {
        "id": "1eee8e60-e548-49b1-88ec-a4f3aef2174e"
      },
      "outputs": [],
      "source": [
        "from pydantic import BaseModel, Field\n",
        "\n",
        "class Analyst(BaseModel):\n",
        "    name: str\n",
        "    role: str\n",
        "    affiliation: str\n",
        "    specialization: str\n",
        "    description: str\n",
        "    confidence_score: float = 0.8\n",
        "\n",
        "    @property\n",
        "    def persona(self) -> str:\n",
        "        return (\n",
        "            f\"Name: {self.name}\\n\"\n",
        "            f\"Role: {self.role}\\n\"\n",
        "            f\"Affiliation: {self.affiliation}\\n\"\n",
        "            f\"Specialization: {self.specialization}\\n\"\n",
        "            f\"Confidence: {self.confidence_score}\\n\"\n",
        "            f\"Description: {self.description}\\n\"\n",
        "        )\n"
      ]
    },
    {
      "cell_type": "code",
      "source": [],
      "metadata": {
        "id": "0NiXRrkth4Ah"
      },
      "id": "0NiXRrkth4Ah",
      "execution_count": null,
      "outputs": []
    },
    {
      "cell_type": "code",
      "execution_count": null,
      "id": "fd088ff5-4c75-412c-85f0-04afd0900bfc",
      "metadata": {
        "colab": {
          "base_uri": "https://localhost:8080/",
          "height": 392
        },
        "id": "fd088ff5-4c75-412c-85f0-04afd0900bfc",
        "outputId": "8cb85fb6-aca3-4293-fdaf-bca8400b2be9"
      },
      "outputs": [
        {
          "output_type": "display_data",
          "data": {
            "image/png": "[encoded data removed]",
            "text/plain": [
              "<IPython.core.display.Image object>"
            ]
          },
          "metadata": {}
        }
      ],
      "source": [
        "from typing import List\n",
        "from typing_extensions import TypedDict\n",
        "from pydantic import BaseModel, Field\n",
        "from IPython.display import Image, display\n",
        "from langgraph.graph import START, END, StateGraph\n",
        "from langgraph.checkpoint.memory import MemorySaver\n",
        "from langchain_core.messages import AIMessage, HumanMessage, SystemMessage\n",
        "\n",
        "# ----------------------------- Dummy LLM Setup -----------------------------\n",
        "class DummyLLM:\n",
        "    \"\"\"Simulated LLM to work without API key\"\"\"\n",
        "    def with_structured_output(self, model):\n",
        "        return self\n",
        "\n",
        "    def invoke(self, messages):\n",
        "        # Create mock analysts to simulate real LLM structured output\n",
        "        mock_analysts = [\n",
        "            {\"name\": \"Dr. Mira Chen\", \"role\": \"AI Policy Analyst\", \"affiliation\": \"Tech Policy Lab\", \"specialization\": \"Ethical AI frameworks\"},\n",
        "            {\"name\": \"Prof. Raj Patel\", \"role\": \"Data Scientist\", \"affiliation\": \"Open Data Institute\", \"specialization\": \"Data transparency and analysis\"},\n",
        "            {\"name\": \"Elena Rossi\", \"role\": \"Machine Learning Engineer\", \"affiliation\": \"NeuralWorks\", \"specialization\": \"Model optimization and deployment\"}\n",
        "        ]\n",
        "        class MockOutput:\n",
        "            analysts = [Analyst(**a) for a in mock_analysts]\n",
        "        return MockOutput()\n",
        "\n",
        "# Replace ChatOpenAI with DummyLLM\n",
        "llm = DummyLLM()\n",
        "\n",
        "# ----------------------------- Data Models -----------------------------\n",
        "class Analyst(BaseModel):\n",
        "    name: str = Field(description=\"Name of the analyst.\")\n",
        "    role: str = Field(description=\"Role of the analyst in the context of the topic.\")\n",
        "    affiliation: str = Field(description=\"Primary affiliation of the analyst.\")\n",
        "    specialization: str = Field(description=\"Area of specialization for the analyst.\")\n",
        "\n",
        "    @property\n",
        "    def persona(self) -> str:\n",
        "        return (\n",
        "            f\"Name: {self.name}\\n\"\n",
        "            f\"Role: {self.role}\\n\"\n",
        "            f\"Affiliation: {self.affiliation}\\n\"\n",
        "            f\"Specialization: {self.specialization}\\n\"\n",
        "        )\n",
        "\n",
        "class Perspectives(BaseModel):\n",
        "    analysts: List[Analyst] = Field(\n",
        "        description=\"List of analysts with their details and expertise areas.\"\n",
        "    )\n",
        "\n",
        "class GenerateAnalystsState(TypedDict):\n",
        "    topic: str\n",
        "    max_analysts: int\n",
        "    human_analyst_feedback: str\n",
        "    analysts: List[Analyst]\n",
        "\n",
        "# ----------------------------- Analyst Creation Logic -----------------------------\n",
        "analyst_instructions = \"\"\"\n",
        "You are tasked with creating AI analyst personas. Follow these structured steps:\n",
        "\n",
        "1. Review the research topic carefully: {topic}\n",
        "2. Consider human feedback (if any): {human_analyst_feedback}\n",
        "3. Identify unique subtopics relevant to the research area.\n",
        "4. Create {max_analysts} analysts, each specializing in a distinct aspect.\n",
        "5. Define clear name, affiliation, role, and specialization for each analyst.\n",
        "\"\"\"\n",
        "\n",
        "def create_analysts(state: GenerateAnalystsState):\n",
        "    \"\"\"Create analysts using simulated LLM structured output\"\"\"\n",
        "    topic = state[\"topic\"]\n",
        "    max_analysts = state[\"max_analysts\"]\n",
        "    human_analyst_feedback = state.get(\"human_analyst_feedback\", \"\")\n",
        "\n",
        "    structured_llm = llm.with_structured_output(Perspectives)\n",
        "    system_message = analyst_instructions.format(\n",
        "        topic=topic,\n",
        "        human_analyst_feedback=human_analyst_feedback,\n",
        "        max_analysts=max_analysts\n",
        "    )\n",
        "\n",
        "    analysts = structured_llm.invoke(\n",
        "        [SystemMessage(content=system_message)] +\n",
        "        [HumanMessage(content=\"Generate the analyst profiles based on these instructions.\")]\n",
        "    )\n",
        "\n",
        "    return {\"analysts\": analysts.analysts}\n",
        "\n",
        "def human_feedback(state: GenerateAnalystsState):\n",
        "    \"\"\"Pause point for human feedback\"\"\"\n",
        "    pass\n",
        "\n",
        "def should_continue(state: GenerateAnalystsState):\n",
        "    \"\"\"Conditional logic for next node\"\"\"\n",
        "    if state.get(\"human_analyst_feedback\"):\n",
        "        return \"create_analysts\"\n",
        "    return END\n",
        "\n",
        "# ----------------------------- Graph Construction -----------------------------\n",
        "builder = StateGraph(GenerateAnalystsState)\n",
        "builder.add_node(\"create_analysts\", create_analysts)\n",
        "builder.add_node(\"human_feedback\", human_feedback)\n",
        "builder.add_edge(START, \"create_analysts\")\n",
        "builder.add_edge(\"create_analysts\", \"human_feedback\")\n",
        "builder.add_conditional_edges(\"human_feedback\", should_continue, [\"create_analysts\", END])\n",
        "\n",
        "memory = MemorySaver()\n",
        "graph = builder.compile(interrupt_before=[\"human_feedback\"], checkpointer=memory)\n",
        "\n",
        "# ----------------------------- Visualize Graph -----------------------------\n",
        "display(Image(graph.get_graph(xray=1).draw_mermaid_png()))\n"
      ]
    },
    {
      "cell_type": "code",
      "execution_count": null,
      "id": "6c22cb05-c436-4358-8f7a-72d722f9b5cc",
      "metadata": {
        "colab": {
          "base_uri": "https://localhost:8080/"
        },
        "id": "6c22cb05-c436-4358-8f7a-72d722f9b5cc",
        "outputId": "e5757b9a-2d0e-4655-eada-6e8a6bfa47e6"
      },
      "outputs": [
        {
          "output_type": "stream",
          "name": "stdout",
          "text": [
            "\n",
            "Generated Analysts:\n",
            "============================================================\n",
            "Name: Dr. Mira Chen\n",
            "Affiliation: Tech Policy Lab\n",
            "Role: AI Policy Analyst\n",
            "Specialization: Ethical AI frameworks\n",
            "------------------------------------------------------------\n",
            "Name: Prof. Raj Patel\n",
            "Affiliation: Open Data Institute\n",
            "Role: Data Scientist\n",
            "Specialization: Data transparency and analysis\n",
            "------------------------------------------------------------\n",
            "Name: Elena Rossi\n",
            "Affiliation: NeuralWorks\n",
            "Role: Machine Learning Engineer\n",
            "Specialization: Model optimization and deployment\n",
            "------------------------------------------------------------\n"
          ]
        },
        {
          "output_type": "stream",
          "name": "stderr",
          "text": [
            "/usr/local/lib/python3.12/dist-packages/langsmith/client.py:292: LangSmithMissingAPIKeyWarning: API key must be provided when using hosted LangSmith API\n",
            "  warnings.warn(\n"
          ]
        }
      ],
      "source": [
        "# Input\n",
        "max_analysts = 3\n",
        "topic = \"The benefits of adopting LangGraph as an agent framework\"\n",
        "thread = {\"configurable\": {\"thread_id\": \"1\"}}\n",
        "\n",
        "# Run the graph until the first interruption\n",
        "for event in graph.stream(\n",
        "    {\"topic\": topic, \"max_analysts\": max_analysts},\n",
        "    thread,\n",
        "    stream_mode=\"values\",\n",
        "):\n",
        "    analysts = event.get(\"analysts\", \"\")\n",
        "    if analysts:\n",
        "        print(\"\\nGenerated Analysts:\\n\" + \"=\" * 60)\n",
        "        for analyst in analysts:\n",
        "            print(f\"Name: {analyst.name}\")\n",
        "            print(f\"Affiliation: {analyst.affiliation}\")\n",
        "            print(f\"Role: {analyst.role}\")\n",
        "            print(f\"Specialization: {analyst.specialization}\")\n",
        "            print(\"-\" * 60)\n"
      ]
    },
    {
      "cell_type": "code",
      "execution_count": null,
      "id": "2f81ad23-5656-43e6-b50a-0d7a4f69a60a",
      "metadata": {
        "colab": {
          "base_uri": "https://localhost:8080/"
        },
        "id": "2f81ad23-5656-43e6-b50a-0d7a4f69a60a",
        "outputId": "412cfe1d-c079-4fd4-aaba-0f05eef35bd1"
      },
      "outputs": [
        {
          "output_type": "stream",
          "name": "stdout",
          "text": [
            "Next node to execute: ('human_feedback',)\n"
          ]
        }
      ],
      "source": [
        "# Check current graph state and next execution node\n",
        "state = graph.get_state(thread)\n",
        "\n",
        "# Safely print the next node to be executed\n",
        "if hasattr(state, \"next\"):\n",
        "    print(\"Next node to execute:\", state.next)\n",
        "else:\n",
        "    print(\"State tracking not available or no next node scheduled.\")\n"
      ]
    },
    {
      "cell_type": "code",
      "execution_count": null,
      "id": "72b2a402-fd10-4f26-9a32-3e3c0d4aaf76",
      "metadata": {
        "colab": {
          "base_uri": "https://localhost:8080/"
        },
        "id": "72b2a402-fd10-4f26-9a32-3e3c0d4aaf76",
        "outputId": "3f8e8e17-6da3-473a-9320-84e61f2bb69e"
      },
      "outputs": [
        {
          "output_type": "stream",
          "name": "stdout",
          "text": [
            "✅ Human feedback added successfully.\n"
          ]
        }
      ],
      "source": [
        "# Simulate human-in-the-loop feedback by updating the graph state manually\n",
        "feedback_text = \"Add in someone from a startup to add an entrepreneur perspective\"\n",
        "\n",
        "try:\n",
        "    graph.update_state(\n",
        "        thread,\n",
        "        {\"human_analyst_feedback\": feedback_text},\n",
        "        as_node=\"human_feedback\"\n",
        "    )\n",
        "    print(\"✅ Human feedback added successfully.\")\n",
        "except Exception as e:\n",
        "    print(\"⚠️ Could not update state (offline simulation). Error:\", e)\n"
      ]
    },
    {
      "cell_type": "code",
      "execution_count": null,
      "id": "b8816eb9-9906-441b-b552-be71107db14f",
      "metadata": {
        "colab": {
          "base_uri": "https://localhost:8080/"
        },
        "id": "b8816eb9-9906-441b-b552-be71107db14f",
        "outputId": "dacbecbb-eab2-43da-d347-c3021e121b10"
      },
      "outputs": [
        {
          "output_type": "stream",
          "name": "stdout",
          "text": [
            "\n",
            "Updated Analysts After Feedback:\n",
            "============================================================\n",
            "Name: Dr. Mira Chen\n",
            "Affiliation: Tech Policy Lab\n",
            "Role: AI Policy Analyst\n",
            "Specialization: Ethical AI frameworks\n",
            "------------------------------------------------------------\n",
            "Name: Prof. Raj Patel\n",
            "Affiliation: Open Data Institute\n",
            "Role: Data Scientist\n",
            "Specialization: Data transparency and analysis\n",
            "------------------------------------------------------------\n",
            "Name: Elena Rossi\n",
            "Affiliation: NeuralWorks\n",
            "Role: Machine Learning Engineer\n",
            "Specialization: Model optimization and deployment\n",
            "------------------------------------------------------------\n",
            "\n",
            "Updated Analysts After Feedback:\n",
            "============================================================\n",
            "Name: Dr. Mira Chen\n",
            "Affiliation: Tech Policy Lab\n",
            "Role: AI Policy Analyst\n",
            "Specialization: Ethical AI frameworks\n",
            "------------------------------------------------------------\n",
            "Name: Prof. Raj Patel\n",
            "Affiliation: Open Data Institute\n",
            "Role: Data Scientist\n",
            "Specialization: Data transparency and analysis\n",
            "------------------------------------------------------------\n",
            "Name: Elena Rossi\n",
            "Affiliation: NeuralWorks\n",
            "Role: Machine Learning Engineer\n",
            "Specialization: Model optimization and deployment\n",
            "------------------------------------------------------------\n"
          ]
        }
      ],
      "source": [
        "# Continue the graph execution after adding human feedback\n",
        "for event in graph.stream(None, thread, stream_mode=\"values\"):\n",
        "    analysts = event.get(\"analysts\", \"\")\n",
        "    if analysts:\n",
        "        print(\"\\nUpdated Analysts After Feedback:\\n\" + \"=\" * 60)\n",
        "        for analyst in analysts:\n",
        "            print(f\"Name: {analyst.name}\")\n",
        "            print(f\"Affiliation: {analyst.affiliation}\")\n",
        "            print(f\"Role: {analyst.role}\")\n",
        "            print(f\"Specialization: {analyst.specialization}\")\n",
        "            print(\"-\" * 60)\n"
      ]
    },
    {
      "cell_type": "code",
      "execution_count": null,
      "id": "a43ac322-5926-4932-8653-68206fec0d2c",
      "metadata": {
        "colab": {
          "base_uri": "https://localhost:8080/"
        },
        "id": "a43ac322-5926-4932-8653-68206fec0d2c",
        "outputId": "44051567-31fc-4c9e-8a8b-d21268f67472"
      },
      "outputs": [
        {
          "output_type": "stream",
          "name": "stdout",
          "text": [
            "✅ No further feedback supplied. Proceeding to finalize analysts.\n"
          ]
        }
      ],
      "source": [
        "# Final step: simulate that we have no further human feedback\n",
        "further_feedback = None\n",
        "\n",
        "try:\n",
        "    graph.update_state(\n",
        "        thread,\n",
        "        {\"human_analyst_feedback\": further_feedback},\n",
        "        as_node=\"human_feedback\"\n",
        "    )\n",
        "    print(\"✅ No further feedback supplied. Proceeding to finalize analysts.\")\n",
        "except Exception as e:\n",
        "    print(\"⚠️ Could not update state (offline simulation). Error:\", e)\n"
      ]
    },
    {
      "cell_type": "code",
      "execution_count": null,
      "id": "ab034e65-aeee-4723-8d6d-74541b548425",
      "metadata": {
        "colab": {
          "base_uri": "https://localhost:8080/"
        },
        "id": "ab034e65-aeee-4723-8d6d-74541b548425",
        "outputId": "0f584611-7630-4654-cdd0-b86426fbdfd4"
      },
      "outputs": [
        {
          "output_type": "stream",
          "name": "stdout",
          "text": [
            "🚀 Continuing graph execution until the end...\n",
            "\n",
            "\n",
            "✅ Graph execution completed successfully.\n"
          ]
        }
      ],
      "source": [
        "# Continue executing the graph until completion\n",
        "print(\"🚀 Continuing graph execution until the end...\\n\")\n",
        "\n",
        "try:\n",
        "    for event in graph.stream(None, thread, stream_mode=\"updates\"):\n",
        "        print(\"-- Node Execution --\")\n",
        "        node_name = next(iter(event.keys()), None)\n",
        "        if node_name:\n",
        "            print(f\"Currently executing node: {node_name}\")\n",
        "        else:\n",
        "            print(\"No active node found in this update.\")\n",
        "        print(\"-\" * 50)\n",
        "    print(\"\\n✅ Graph execution completed successfully.\")\n",
        "except Exception as e:\n",
        "    print(\"⚠️ Graph execution could not be completed (offline simulation). Error:\", e)\n"
      ]
    },
    {
      "cell_type": "code",
      "execution_count": null,
      "id": "2f204e8a-285c-4e46-8223-a695caec7764",
      "metadata": {
        "colab": {
          "base_uri": "https://localhost:8080/"
        },
        "id": "2f204e8a-285c-4e46-8223-a695caec7764",
        "outputId": "c2cb36f3-9f8f-4da9-9620-5f1032caf1ac"
      },
      "outputs": [
        {
          "output_type": "stream",
          "name": "stdout",
          "text": [
            "\n",
            "📊 Final List of Analysts:\n",
            "============================================================\n",
            "Name: Dr. Mira Chen\n",
            "Affiliation: Tech Policy Lab\n",
            "Role: AI Policy Analyst\n",
            "Specialization: Ethical AI frameworks\n",
            "------------------------------------------------------------\n",
            "Name: Prof. Raj Patel\n",
            "Affiliation: Open Data Institute\n",
            "Role: Data Scientist\n",
            "Specialization: Data transparency and analysis\n",
            "------------------------------------------------------------\n",
            "Name: Elena Rossi\n",
            "Affiliation: NeuralWorks\n",
            "Role: Machine Learning Engineer\n",
            "Specialization: Model optimization and deployment\n",
            "------------------------------------------------------------\n"
          ]
        }
      ],
      "source": [
        "# Retrieve the final state of the graph\n",
        "final_state = graph.get_state(thread)\n",
        "\n",
        "# Safely extract the list of analysts from the final state\n",
        "analysts = final_state.values.get(\"analysts\") if hasattr(final_state, \"values\") else None\n",
        "\n",
        "if analysts:\n",
        "    print(\"\\n📊 Final List of Analysts:\\n\" + \"=\" * 60)\n",
        "    for analyst in analysts:\n",
        "        print(f\"Name: {analyst.name}\")\n",
        "        print(f\"Affiliation: {analyst.affiliation}\")\n",
        "        print(f\"Role: {analyst.role}\")\n",
        "        print(f\"Specialization: {analyst.specialization}\")\n",
        "        print(\"-\" * 60)\n",
        "else:\n",
        "    print(\"⚠️ No analysts found in the final graph state.\")\n"
      ]
    },
    {
      "cell_type": "code",
      "execution_count": null,
      "id": "59704086-cb3b-42e9-8395-37be6f0d44e9",
      "metadata": {
        "colab": {
          "base_uri": "https://localhost:8080/"
        },
        "id": "59704086-cb3b-42e9-8395-37be6f0d44e9",
        "outputId": "8afc06e4-beb5-4943-ebc1-698e783fb8b8"
      },
      "outputs": [
        {
          "output_type": "execute_result",
          "data": {
            "text/plain": [
              "()"
            ]
          },
          "metadata": {},
          "execution_count": 23
        }
      ],
      "source": [
        "final_state.next"
      ]
    },
    {
      "cell_type": "code",
      "execution_count": null,
      "id": "95717ba3-aa00-48d6-bbb7-5fe4db5919bf",
      "metadata": {
        "id": "95717ba3-aa00-48d6-bbb7-5fe4db5919bf"
      },
      "outputs": [],
      "source": [
        "from pydantic import BaseModel, Field\n",
        "from typing import List\n",
        "from typing_extensions import TypedDict\n",
        "\n",
        "class Analyst(BaseModel):\n",
        "    name: str = Field(description=\"Name of the analyst.\")\n",
        "    role: str = Field(description=\"Role of the analyst in the topic context.\")\n",
        "    affiliation: str = Field(description=\"Primary affiliation of the analyst.\")\n",
        "    description: str = Field(description=\"Brief description of the analyst's focus, concerns, and motives.\")\n",
        "\n",
        "    @property\n",
        "    def persona(self) -> str:\n",
        "        return (\n",
        "            f\"Name: {self.name}\\n\"\n",
        "            f\"Role: {self.role}\\n\"\n",
        "            f\"Affiliation: {self.affiliation}\\n\"\n",
        "            f\"Description: {self.description}\\n\"\n",
        "        )\n",
        "\n",
        "class Perspectives(BaseModel):\n",
        "    analysts: List[Analyst] = Field(\n",
        "        description=\"List of all analysts with their details.\"\n",
        "    )\n",
        "\n",
        "class GenerateAnalystsState(TypedDict):\n",
        "    topic: str\n",
        "    max_analysts: int\n",
        "    human_analyst_feedback: str\n",
        "    analysts: List[Analyst]\n"
      ]
    },
    {
      "cell_type": "markdown",
      "id": "7d2498e4-20ae-4503-9dd0-a4165132b7a7",
      "metadata": {
        "id": "7d2498e4-20ae-4503-9dd0-a4165132b7a7"
      },
      "source": [
        "## Conduct Interview\n",
        "\n",
        "### Generate Question\n",
        "\n",
        "The analyst will ask questions to the expert."
      ]
    },
    {
      "cell_type": "code",
      "execution_count": null,
      "id": "e5d5f559-f42e-442b-87cd-dbf0a91abf9c",
      "metadata": {
        "id": "e5d5f559-f42e-442b-87cd-dbf0a91abf9c"
      },
      "outputs": [],
      "source": [
        "import operator\n",
        "from typing import Annotated, List\n",
        "from langgraph.graph import MessagesState\n",
        "from pydantic import BaseModel, Field\n",
        "\n",
        "class InterviewState(MessagesState):\n",
        "    \"\"\"State representation for conducting interviews with analysts.\"\"\"\n",
        "\n",
        "    max_num_turns: int = Field(\n",
        "        description=\"Maximum number of conversational turns allowed in the interview.\"\n",
        "    )\n",
        "    context: Annotated[List[str], operator.add] = Field(\n",
        "        description=\"List of relevant documents or knowledge snippets added as interview context.\"\n",
        "    )\n",
        "    analyst: Analyst = Field(\n",
        "        description=\"The AI analyst persona currently conducting or responding in the interview.\"\n",
        "    )\n",
        "    interview: str = Field(\n",
        "        description=\"Complete interview transcript between the analyst and the interviewer.\"\n",
        "    )\n",
        "    summary: str = Field(\n",
        "        default=\"\", description=\"Summarized version of the key takeaways from the interview.\"\n",
        "    )\n",
        "    sections: List[str] = Field(\n",
        "        default_factory=list, description=\"Structured output sections for use with the Send() API.\"\n",
        "    )\n",
        "\n",
        "class SearchQuery(BaseModel):\n",
        "    \"\"\"Structured query for fetching relevant research documents.\"\"\"\n",
        "\n",
        "    query_text: str = Field(\n",
        "        None, description=\"Refined search query string to retrieve topic-relevant information.\"\n",
        "    )\n",
        "    filters: List[str] = Field(\n",
        "        default_factory=list,\n",
        "        description=\"Optional filters such as date range, author, or source to narrow the search scope.\"\n",
        "    )\n"
      ]
    },
    {
      "cell_type": "code",
      "execution_count": null,
      "id": "1c2e71eb-07ad-4bea-aabc-dbaf551408c0",
      "metadata": {
        "id": "1c2e71eb-07ad-4bea-aabc-dbaf551408c0"
      },
      "outputs": [],
      "source": [
        "question_instructions = \"\"\"You are an analyst tasked with interviewing an expert to learn about a specific topic.\n",
        "\n",
        "Your goal is boil down to interesting and specific insights related to your topic.\n",
        "\n",
        "1. Interesting: Insights that people will find surprising or non-obvious.\n",
        "\n",
        "2. Specific: Insights that avoid generalities and include specific examples from the expert.\n",
        "\n",
        "Here is your topic of focus and set of goals: {goals}\n",
        "\n",
        "Begin by introducing yourself using a name that fits your persona, and then ask your question.\n",
        "\n",
        "Continue to ask questions to drill down and refine your understanding of the topic.\n",
        "\n",
        "When you are satisfied with your understanding, complete the interview with: \"Thank you so much for your help!\"\n",
        "\n",
        "Remember to stay in character throughout your response, reflecting the persona and goals provided to you.\"\"\"\n",
        "\n",
        "def generate_question(state: InterviewState):\n",
        "    \"\"\" Node to generate a question \"\"\"\n",
        "\n",
        "    # Get state\n",
        "    analyst = state[\"analyst\"]\n",
        "    messages = state[\"messages\"]\n",
        "\n",
        "    # Generate question\n",
        "    system_message = question_instructions.format(goals=analyst.persona)\n",
        "    question = llm.invoke([SystemMessage(content=system_message)]+messages)\n",
        "\n",
        "    # Write messages to state\n",
        "    return {\"messages\": [question]}"
      ]
    },
    {
      "cell_type": "markdown",
      "id": "be2ff33a-6232-4a79-8a82-882a645394f5",
      "metadata": {
        "editable": true,
        "tags": [],
        "id": "be2ff33a-6232-4a79-8a82-882a645394f5"
      },
      "source": [
        "### Generate Answer: Parallelization\n",
        "\n",
        "The expert will gather information from multiple sources in parallel to answer questions.\n",
        "\n",
        "For example, we can use:\n",
        "\n",
        "* Specific web sites e.g., via [`WebBaseLoader`](https://docs.langchain.com/oss/python/integrations/document_loaders/web_base)\n",
        "* Indexed documents e.g., via [RAG](https://docs.langchain.com/oss/python/langchain/retrieval)\n",
        "* Web search\n",
        "* Wikipedia search\n",
        "\n",
        "You can try different web search tools, like [Tavily](https://tavily.com/)."
      ]
    },
    {
      "cell_type": "code",
      "execution_count": null,
      "id": "606ea95b-e811-4299-8b66-835d4016c338",
      "metadata": {
        "editable": true,
        "tags": [],
        "colab": {
          "base_uri": "https://localhost:8080/"
        },
        "id": "606ea95b-e811-4299-8b66-835d4016c338",
        "outputId": "89b1fcb1-acbe-4cf9-8d7d-0d6fe37d9cd4"
      },
      "outputs": [
        {
          "name": "stdout",
          "output_type": "stream",
          "text": [
            "TAVILY_API_KEY: ··········\n"
          ]
        }
      ],
      "source": [
        "def _set_env(var: str):\n",
        "    if not os.environ.get(var):\n",
        "        os.environ[var] = getpass.getpass(f\"{var}: \")\n",
        "\n",
        "_set_env(\"TAVILY_API_KEY\")"
      ]
    },
    {
      "cell_type": "code",
      "execution_count": null,
      "id": "c61ae74a-f838-4e97-8bd5-48ccd15b7789",
      "metadata": {
        "id": "c61ae74a-f838-4e97-8bd5-48ccd15b7789"
      },
      "outputs": [],
      "source": [
        "# Web search simulation tool (Offline + Unique)\n",
        "# This simulates how a web search retriever would behave in a research assistant setup.\n",
        "\n",
        "class MockWebSearch:\n",
        "    \"\"\"A simulated web search tool for retrieving relevant documents without API calls.\"\"\"\n",
        "\n",
        "    def __init__(self, max_results: int = 3):\n",
        "        self.max_results = max_results\n",
        "\n",
        "    def run(self, query: str):\n",
        "        mock_results = [\n",
        "            f\"Result 1: Key insights about '{query}' from AI research blogs.\",\n",
        "            f\"Result 2: Discussion on how LangGraph improves multi-agent workflows.\",\n",
        "            f\"Result 3: Technical summary linking parallelism and agent coordination in LangChain.\"\n",
        "        ]\n",
        "        return mock_results[:self.max_results]\n",
        "\n",
        "# Initialize the simulated web search tool\n",
        "web_search = MockWebSearch(max_results=3)\n"
      ]
    },
    {
      "cell_type": "code",
      "execution_count": null,
      "id": "2d8f760b-5a1a-4fa9-a014-d3fb02bec51c",
      "metadata": {
        "id": "2d8f760b-5a1a-4fa9-a014-d3fb02bec51c"
      },
      "outputs": [],
      "source": [
        "# Wikipedia search simulation tool (Offline + Unique)\n",
        "# This mock loader simulates how WikipediaLoader would retrieve topic-specific information.\n",
        "\n",
        "class MockWikipediaLoader:\n",
        "    \"\"\"Simulates Wikipedia document retrieval for the research assistant.\"\"\"\n",
        "\n",
        "    def __init__(self, query: str):\n",
        "        self.query = query\n",
        "\n",
        "    def load(self):\n",
        "        mock_docs = [\n",
        "            {\"title\": \"LangGraph Overview\", \"content\": \"LangGraph is a framework designed for building multi-agent AI workflows with persistent state.\"},\n",
        "            {\"title\": \"Parallel Processing\", \"content\": \"Parallelization allows multiple tasks or agents to execute simultaneously, improving efficiency.\"},\n",
        "            {\"title\": \"AI Research Assistants\", \"content\": \"Research assistants use retrieval and reasoning to produce source-grounded, structured outputs.\"}\n",
        "        ]\n",
        "        return mock_docs\n",
        "\n",
        "# Example initialization (like WikipediaLoader but simulated)\n",
        "wiki_loader = MockWikipediaLoader(\"LangGraph\")\n",
        "wiki_docs = wiki_loader.load()\n"
      ]
    },
    {
      "cell_type": "markdown",
      "id": "06cb1603",
      "metadata": {
        "id": "06cb1603"
      },
      "source": [
        "Now, we create nodes to search the web and wikipedia.\n",
        "\n",
        "We'll also create a node to answer analyst questions.\n",
        "\n",
        "Finally, we'll create nodes to save the full interview and to write a summary (\"section\") of the interview."
      ]
    },
    {
      "cell_type": "code",
      "execution_count": null,
      "id": "9c863768-2278-415b-aef1-96fd18c1b1cb",
      "metadata": {
        "colab": {
          "base_uri": "https://localhost:8080/",
          "height": 647
        },
        "id": "9c863768-2278-415b-aef1-96fd18c1b1cb",
        "outputId": "13950fcc-f843-47da-b995-332f0abf8343"
      },
      "outputs": [
        {
          "output_type": "display_data",
          "data": {
            "image/png": "[encoded data removed]",
            "text/plain": [
              "<IPython.core.display.Image object>"
            ]
          },
          "metadata": {}
        }
      ],
      "source": [
        "from langchain_core.messages import get_buffer_string\n",
        "\n",
        "# Search query writing\n",
        "search_instructions = SystemMessage(content=f\"\"\"You will be given a conversation between an analyst and an expert.\n",
        "\n",
        "Your goal is to generate a well-structured query for use in retrieval and / or web-search related to the conversation.\n",
        "\n",
        "First, analyze the full conversation.\n",
        "\n",
        "Pay particular attention to the final question posed by the analyst.\n",
        "\n",
        "Convert this final question into a well-structured web search query\"\"\")\n",
        "\n",
        "def search_web(state: InterviewState):\n",
        "\n",
        "    \"\"\" Retrieve docs from web search \"\"\"\n",
        "\n",
        "    # Search query\n",
        "    structured_llm = llm.with_structured_output(SearchQuery)\n",
        "    search_query = structured_llm.invoke([search_instructions]+state['messages'])\n",
        "\n",
        "    # Search\n",
        "    #search_docs = tavily_search.invoke(search_query.search_query) # updated 1.0\n",
        "    data = tavily_search.invoke({\"query\": search_query.search_query})\n",
        "    search_docs = data.get(\"results\", data)\n",
        "\n",
        "\n",
        "     # Format\n",
        "    formatted_search_docs = \"\\n\\n---\\n\\n\".join(\n",
        "        [\n",
        "            f'<Document href=\"{doc[\"url\"]}\"/>\\n{doc[\"content\"]}\\n</Document>'\n",
        "            for doc in search_docs\n",
        "        ]\n",
        "    )\n",
        "\n",
        "    return {\"context\": [formatted_search_docs]}\n",
        "\n",
        "def search_wikipedia(state: InterviewState):\n",
        "\n",
        "    \"\"\" Retrieve docs from wikipedia \"\"\"\n",
        "\n",
        "    # Search query\n",
        "    structured_llm = llm.with_structured_output(SearchQuery)\n",
        "    search_query = structured_llm.invoke([search_instructions]+state['messages'])\n",
        "\n",
        "    # Search\n",
        "    search_docs = WikipediaLoader(query=search_query.search_query,\n",
        "                                  load_max_docs=2).load()\n",
        "\n",
        "     # Format\n",
        "    formatted_search_docs = \"\\n\\n---\\n\\n\".join(\n",
        "        [\n",
        "            f'<Document source=\"{doc.metadata[\"source\"]}\" page=\"{doc.metadata.get(\"page\", \"\")}\"/>\\n{doc.page_content}\\n</Document>'\n",
        "            for doc in search_docs\n",
        "        ]\n",
        "    )\n",
        "\n",
        "    return {\"context\": [formatted_search_docs]}\n",
        "\n",
        "answer_instructions = \"\"\"You are an expert being interviewed by an analyst.\n",
        "\n",
        "Here is analyst area of focus: {goals}.\n",
        "\n",
        "You goal is to answer a question posed by the interviewer.\n",
        "\n",
        "To answer question, use this context:\n",
        "\n",
        "{context}\n",
        "\n",
        "When answering questions, follow these guidelines:\n",
        "\n",
        "1. Use only the information provided in the context.\n",
        "\n",
        "2. Do not introduce external information or make assumptions beyond what is explicitly stated in the context.\n",
        "\n",
        "3. The context contain sources at the topic of each individual document.\n",
        "\n",
        "4. Include these sources your answer next to any relevant statements. For example, for source # 1 use [1].\n",
        "\n",
        "5. List your sources in order at the bottom of your answer. [1] Source 1, [2] Source 2, etc\n",
        "\n",
        "6. If the source is: <Document source=\"assistant/docs/llama3_1.pdf\" page=\"7\"/>' then just list:\n",
        "\n",
        "[1] assistant/docs/llama3_1.pdf, page 7\n",
        "\n",
        "And skip the addition of the brackets as well as the Document source preamble in your citation.\"\"\"\n",
        "\n",
        "def generate_answer(state: InterviewState):\n",
        "\n",
        "    \"\"\" Node to answer a question \"\"\"\n",
        "\n",
        "    # Get state\n",
        "    analyst = state[\"analyst\"]\n",
        "    messages = state[\"messages\"]\n",
        "    context = state[\"context\"]\n",
        "\n",
        "    # Answer question\n",
        "    system_message = answer_instructions.format(goals=analyst.persona, context=context)\n",
        "    answer = llm.invoke([SystemMessage(content=system_message)]+messages)\n",
        "\n",
        "    # Name the message as coming from the expert\n",
        "    answer.name = \"expert\"\n",
        "\n",
        "    # Append it to state\n",
        "    return {\"messages\": [answer]}\n",
        "\n",
        "def save_interview(state: InterviewState):\n",
        "\n",
        "    \"\"\" Save interviews \"\"\"\n",
        "\n",
        "    # Get messages\n",
        "    messages = state[\"messages\"]\n",
        "\n",
        "    # Convert interview to a string\n",
        "    interview = get_buffer_string(messages)\n",
        "\n",
        "    # Save to interviews key\n",
        "    return {\"interview\": interview}\n",
        "\n",
        "def route_messages(state: InterviewState,\n",
        "                   name: str = \"expert\"):\n",
        "\n",
        "    \"\"\" Route between question and answer \"\"\"\n",
        "\n",
        "    # Get messages\n",
        "    messages = state[\"messages\"]\n",
        "    max_num_turns = state.get('max_num_turns',2)\n",
        "\n",
        "    # Check the number of expert answers\n",
        "    num_responses = len(\n",
        "        [m for m in messages if isinstance(m, AIMessage) and m.name == name]\n",
        "    )\n",
        "\n",
        "    # End if expert has answered more than the max turns\n",
        "    if num_responses >= max_num_turns:\n",
        "        return 'save_interview'\n",
        "\n",
        "    # This router is run after each question - answer pair\n",
        "    # Get the last question asked to check if it signals the end of discussion\n",
        "    last_question = messages[-2]\n",
        "\n",
        "    if \"Thank you so much for your help\" in last_question.content:\n",
        "        return 'save_interview'\n",
        "    return \"ask_question\"\n",
        "\n",
        "section_writer_instructions = \"\"\"You are an expert technical writer.\n",
        "\n",
        "Your task is to create a short, easily digestible section of a report based on a set of source documents.\n",
        "\n",
        "1. Analyze the content of the source documents:\n",
        "- The name of each source document is at the start of the document, with the <Document tag.\n",
        "\n",
        "2. Create a report structure using markdown formatting:\n",
        "- Use ## for the section title\n",
        "- Use ### for sub-section headers\n",
        "\n",
        "3. Write the report following this structure:\n",
        "a. Title (## header)\n",
        "b. Summary (### header)\n",
        "c. Sources (### header)\n",
        "\n",
        "4. Make your title engaging based upon the focus area of the analyst:\n",
        "{focus}\n",
        "\n",
        "5. For the summary section:\n",
        "- Set up summary with general background / context related to the focus area of the analyst\n",
        "- Emphasize what is novel, interesting, or surprising about insights gathered from the interview\n",
        "- Create a numbered list of source documents, as you use them\n",
        "- Do not mention the names of interviewers or experts\n",
        "- Aim for approximately 400 words maximum\n",
        "- Use numbered sources in your report (e.g., [1], [2]) based on information from source documents\n",
        "\n",
        "6. In the Sources section:\n",
        "- Include all sources used in your report\n",
        "- Provide full links to relevant websites or specific document paths\n",
        "- Separate each source by a newline. Use two spaces at the end of each line to create a newline in Markdown.\n",
        "- It will look like:\n",
        "\n",
        "### Sources\n",
        "[1] Link or Document name\n",
        "[2] Link or Document name\n",
        "\n",
        "7. Be sure to combine sources. For example this is not correct:\n",
        "\n",
        "[3] https://ai.meta.com/blog/meta-llama-3-1/\n",
        "[4] https://ai.meta.com/blog/meta-llama-3-1/\n",
        "\n",
        "There should be no redundant sources. It should simply be:\n",
        "\n",
        "[3] https://ai.meta.com/blog/meta-llama-3-1/\n",
        "\n",
        "8. Final review:\n",
        "- Ensure the report follows the required structure\n",
        "- Include no preamble before the title of the report\n",
        "- Check that all guidelines have been followed\"\"\"\n",
        "\n",
        "def write_section(state: InterviewState):\n",
        "\n",
        "    \"\"\" Node to answer a question \"\"\"\n",
        "\n",
        "    # Get state\n",
        "    interview = state[\"interview\"]\n",
        "    context = state[\"context\"]\n",
        "    analyst = state[\"analyst\"]\n",
        "\n",
        "    # Write section using either the gathered source docs from interview (context) or the interview itself (interview)\n",
        "    system_message = section_writer_instructions.format(focus=analyst.description)\n",
        "    section = llm.invoke([SystemMessage(content=system_message)]+[HumanMessage(content=f\"Use this source to write your section: {context}\")])\n",
        "\n",
        "    # Append it to state\n",
        "    return {\"sections\": [section.content]}\n",
        "\n",
        "# Add nodes and edges\n",
        "interview_builder = StateGraph(InterviewState)\n",
        "interview_builder.add_node(\"ask_question\", generate_question)\n",
        "interview_builder.add_node(\"search_web\", search_web)\n",
        "interview_builder.add_node(\"search_wikipedia\", search_wikipedia)\n",
        "interview_builder.add_node(\"answer_question\", generate_answer)\n",
        "interview_builder.add_node(\"save_interview\", save_interview)\n",
        "interview_builder.add_node(\"write_section\", write_section)\n",
        "\n",
        "# Flow\n",
        "interview_builder.add_edge(START, \"ask_question\")\n",
        "interview_builder.add_edge(\"ask_question\", \"search_web\")\n",
        "interview_builder.add_edge(\"ask_question\", \"search_wikipedia\")\n",
        "interview_builder.add_edge(\"search_web\", \"answer_question\")\n",
        "interview_builder.add_edge(\"search_wikipedia\", \"answer_question\")\n",
        "interview_builder.add_conditional_edges(\"answer_question\", route_messages,['ask_question','save_interview'])\n",
        "interview_builder.add_edge(\"save_interview\", \"write_section\")\n",
        "interview_builder.add_edge(\"write_section\", END)\n",
        "\n",
        "# Interview\n",
        "memory = MemorySaver()\n",
        "interview_graph = interview_builder.compile(checkpointer=memory).with_config(run_name=\"Conduct Interviews\")\n",
        "\n",
        "# View\n",
        "display(Image(interview_graph.get_graph().draw_mermaid_png()))"
      ]
    },
    {
      "cell_type": "code",
      "execution_count": null,
      "id": "50f382f1-6e93-48d0-a44a-1094d26ccb1e",
      "metadata": {
        "colab": {
          "base_uri": "https://localhost:8080/"
        },
        "id": "50f382f1-6e93-48d0-a44a-1094d26ccb1e",
        "outputId": "259814ff-495b-4470-f1f9-ab371cc5859e"
      },
      "outputs": [
        {
          "output_type": "execute_result",
          "data": {
            "text/plain": [
              "Analyst(name='Dr. Mira Chen', role='AI Policy Analyst', affiliation='Tech Policy Lab', specialization='Ethical AI frameworks')"
            ]
          },
          "metadata": {},
          "execution_count": 34
        }
      ],
      "source": [
        "# Pick one analyst\n",
        "analysts[0]"
      ]
    },
    {
      "cell_type": "markdown",
      "id": "3750ac4f-f458-4b2d-8bad-32ce34895758",
      "metadata": {
        "id": "3750ac4f-f458-4b2d-8bad-32ce34895758"
      },
      "source": [
        "Here, we run the interview passing an index of the llama3.1 paper, which is related to our topic."
      ]
    },
    {
      "cell_type": "code",
      "execution_count": null,
      "id": "b2242d4e-8430-4de9-8cf7-3ad2f9a22b28",
      "metadata": {
        "colab": {
          "base_uri": "https://localhost:8080/",
          "height": 186
        },
        "id": "b2242d4e-8430-4de9-8cf7-3ad2f9a22b28",
        "outputId": "b76f1f9a-7a0e-4f12-8064-acf9028da34c"
      },
      "outputs": [
        {
          "output_type": "execute_result",
          "data": {
            "text/plain": [
              "<IPython.core.display.Markdown object>"
            ],
            "text/markdown": "## Insights on Ethical AI Researcher\n\n### Summary\nThis section summarizes Dr. Mira Chen's interview insights on Explores the societal, legal, and ethical implications of AI deployment..\n\n### Sources\n[1] Internal research notes."
          },
          "metadata": {},
          "execution_count": 40
        }
      ],
      "source": [
        "# ✅ 1. Imports\n",
        "from typing import Annotated\n",
        "import operator\n",
        "from pydantic import BaseModel, Field\n",
        "from langchain_core.messages import HumanMessage\n",
        "from langgraph.graph import MessagesState, START, END, StateGraph\n",
        "from langgraph.checkpoint.memory import MemorySaver\n",
        "from IPython.display import Markdown, Image, display\n",
        "\n",
        "# ✅ 2. Define full Analyst model (with all required fields)\n",
        "class Analyst(BaseModel):\n",
        "    name: str\n",
        "    role: str\n",
        "    affiliation: str\n",
        "    persona: str\n",
        "    description: str\n",
        "\n",
        "# ✅ 3. Define InterviewState to match the updated Analyst model\n",
        "class InterviewState(MessagesState):\n",
        "    max_num_turns: int\n",
        "    context: Annotated[list, operator.add]\n",
        "    analyst: Analyst\n",
        "    interview: str\n",
        "    sections: list\n",
        "\n",
        "# ✅ 4. Dummy interview node functions (offline-safe mock logic)\n",
        "def generate_question(state: InterviewState):\n",
        "    analyst = state[\"analyst\"]\n",
        "    question_text = f\"{analyst.name}: Could you tell me more about {analyst.persona.lower()} in {analyst.role.lower()}?\"\n",
        "    return {\"messages\": [HumanMessage(content=question_text)]}\n",
        "\n",
        "def save_interview(state: InterviewState):\n",
        "    interview_text = \"\\n\".join([m.content for m in state[\"messages\"]])\n",
        "    return {\"interview\": interview_text}\n",
        "\n",
        "def write_section(state: InterviewState):\n",
        "    analyst = state[\"analyst\"]\n",
        "    section = f\"## Insights on {analyst.persona}\\n\\n### Summary\\nThis section summarizes {analyst.name}'s interview insights on {analyst.description}.\\n\\n### Sources\\n[1] Internal research notes.\"\n",
        "    return {\"sections\": [section]}\n",
        "\n",
        "# ✅ 5. Build graph\n",
        "builder = StateGraph(InterviewState)\n",
        "builder.add_node(\"ask_question\", generate_question)\n",
        "builder.add_node(\"save_interview\", save_interview)\n",
        "builder.add_node(\"write_section\", write_section)\n",
        "builder.add_edge(START, \"ask_question\")\n",
        "builder.add_edge(\"ask_question\", \"save_interview\")\n",
        "builder.add_edge(\"save_interview\", \"write_section\")\n",
        "builder.add_edge(\"write_section\", END)\n",
        "\n",
        "memory = MemorySaver()\n",
        "interview_graph = builder.compile(checkpointer=memory)\n",
        "\n",
        "# ✅ 6. Create Analyst object\n",
        "analyst = Analyst(\n",
        "    name=\"Dr. Mira Chen\",\n",
        "    role=\"AI Policy Analyst\",\n",
        "    affiliation=\"Tech Policy Lab\",\n",
        "    persona=\"Ethical AI Researcher\",\n",
        "    description=\"Explores the societal, legal, and ethical implications of AI deployment.\"\n",
        ")\n",
        "\n",
        "# ✅ 7. Prepare topic and messages\n",
        "topic = \"Ethical AI frameworks\"\n",
        "messages = [HumanMessage(f\"So you said you were writing an article on {topic}?\")]\n",
        "thread = {\"configurable\": {\"thread_id\": \"1\"}}\n",
        "\n",
        "# ✅ 8. Run the graph\n",
        "interview = interview_graph.invoke(\n",
        "    {\"analyst\": analyst, \"messages\": messages, \"max_num_turns\": 2},\n",
        "    thread\n",
        ")\n",
        "\n",
        "# ✅ 9. Display output\n",
        "Markdown(interview[\"sections\"][0])\n"
      ]
    },
    {
      "cell_type": "markdown",
      "id": "3b739e87-68bb-4e96-a86a-704e84240a6c",
      "metadata": {
        "id": "3b739e87-68bb-4e96-a86a-704e84240a6c"
      },
      "source": [
        "### Parallelze interviews: Map-Reduce\n",
        "\n",
        "We parallelize the interviews via the `Send()` API, a map step.\n",
        "\n",
        "We combine them into the report body in a reduce step.\n",
        "\n",
        "### Finalize\n",
        "\n",
        "We add a final step to write an intro and conclusion to the final report."
      ]
    },
    {
      "cell_type": "code",
      "execution_count": null,
      "id": "6a0042f9-5b9f-441a-9e8d-7d8189f44140",
      "metadata": {
        "id": "6a0042f9-5b9f-441a-9e8d-7d8189f44140"
      },
      "outputs": [],
      "source": [
        "import operator\n",
        "from typing import List, Annotated\n",
        "from typing_extensions import TypedDict\n",
        "\n",
        "# ✅ Ensure Analyst is already defined before this (from previous cells)\n",
        "# from pydantic import BaseModel\n",
        "# class Analyst(BaseModel):\n",
        "#     name: str\n",
        "#     role: str\n",
        "#     affiliation: str\n",
        "#     persona: str\n",
        "#     description: str\n",
        "\n",
        "class ResearchGraphState(TypedDict):\n",
        "    topic: str  # Research topic\n",
        "    max_analysts: int  # Number of analysts to generate\n",
        "    human_analyst_feedback: str  # Feedback from human editor\n",
        "    analysts: List[Analyst]  # List of AI analyst personas\n",
        "    sections: Annotated[list, operator.add]  # Aggregated sections for Send() API\n",
        "    introduction: str  # Introductory paragraph of the final report\n",
        "    content: str  # Main content (compiled from interviews)\n",
        "    conclusion: str  # Concluding section\n",
        "    final_report: str  # Fully compiled research report\n"
      ]
    },
    {
      "cell_type": "code",
      "source": [
        "pip install -U langgraph\n"
      ],
      "metadata": {
        "colab": {
          "base_uri": "https://localhost:8080/"
        },
        "id": "5mwA2loFJKD6",
        "outputId": "09b693b3-9e21-4196-a49e-c587153c2216"
      },
      "id": "5mwA2loFJKD6",
      "execution_count": null,
      "outputs": [
        {
          "output_type": "stream",
          "name": "stdout",
          "text": [
            "Collecting langgraph\n",
            "  Downloading langgraph-1.0.2-py3-none-any.whl.metadata (7.4 kB)\n",
            "Requirement already satisfied: langchain-core>=0.1 in /usr/local/lib/python3.12/dist-packages (from langgraph) (0.3.79)\n",
            "Collecting langgraph-checkpoint<4.0.0,>=2.1.0 (from langgraph)\n",
            "  Downloading langgraph_checkpoint-3.0.0-py3-none-any.whl.metadata (4.2 kB)\n",
            "Collecting langgraph-prebuilt<1.1.0,>=1.0.2 (from langgraph)\n",
            "  Downloading langgraph_prebuilt-1.0.2-py3-none-any.whl.metadata (5.0 kB)\n",
            "Collecting langgraph-sdk<0.3.0,>=0.2.2 (from langgraph)\n",
            "  Downloading langgraph_sdk-0.2.9-py3-none-any.whl.metadata (1.5 kB)\n",
            "Requirement already satisfied: pydantic>=2.7.4 in /usr/local/lib/python3.12/dist-packages (from langgraph) (2.11.10)\n",
            "Requirement already satisfied: xxhash>=3.5.0 in /usr/local/lib/python3.12/dist-packages (from langgraph) (3.6.0)\n",
            "Requirement already satisfied: langsmith<1.0.0,>=0.3.45 in /usr/local/lib/python3.12/dist-packages (from langchain-core>=0.1->langgraph) (0.4.38)\n",
            "Requirement already satisfied: tenacity!=8.4.0,<10.0.0,>=8.1.0 in /usr/local/lib/python3.12/dist-packages (from langchain-core>=0.1->langgraph) (8.5.0)\n",
            "Requirement already satisfied: jsonpatch<2.0.0,>=1.33.0 in /usr/local/lib/python3.12/dist-packages (from langchain-core>=0.1->langgraph) (1.33)\n",
            "Requirement already satisfied: PyYAML<7.0.0,>=5.3.0 in /usr/local/lib/python3.12/dist-packages (from langchain-core>=0.1->langgraph) (6.0.3)\n",
            "Requirement already satisfied: typing-extensions<5.0.0,>=4.7.0 in /usr/local/lib/python3.12/dist-packages (from langchain-core>=0.1->langgraph) (4.15.0)\n",
            "Requirement already satisfied: packaging<26.0.0,>=23.2.0 in /usr/local/lib/python3.12/dist-packages (from langchain-core>=0.1->langgraph) (25.0)\n",
            "Collecting ormsgpack>=1.10.0 (from langgraph-checkpoint<4.0.0,>=2.1.0->langgraph)\n",
            "  Downloading ormsgpack-1.11.0-cp312-cp312-manylinux_2_17_x86_64.manylinux2014_x86_64.whl.metadata (1.2 kB)\n",
            "Collecting langchain-core>=0.1 (from langgraph)\n",
            "  Downloading langchain_core-1.0.2-py3-none-any.whl.metadata (3.5 kB)\n",
            "Requirement already satisfied: httpx>=0.25.2 in /usr/local/lib/python3.12/dist-packages (from langgraph-sdk<0.3.0,>=0.2.2->langgraph) (0.28.1)\n",
            "Requirement already satisfied: orjson>=3.10.1 in /usr/local/lib/python3.12/dist-packages (from langgraph-sdk<0.3.0,>=0.2.2->langgraph) (3.11.4)\n",
            "Requirement already satisfied: annotated-types>=0.6.0 in /usr/local/lib/python3.12/dist-packages (from pydantic>=2.7.4->langgraph) (0.7.0)\n",
            "Requirement already satisfied: pydantic-core==2.33.2 in /usr/local/lib/python3.12/dist-packages (from pydantic>=2.7.4->langgraph) (2.33.2)\n",
            "Requirement already satisfied: typing-inspection>=0.4.0 in /usr/local/lib/python3.12/dist-packages (from pydantic>=2.7.4->langgraph) (0.4.2)\n",
            "Requirement already satisfied: anyio in /usr/local/lib/python3.12/dist-packages (from httpx>=0.25.2->langgraph-sdk<0.3.0,>=0.2.2->langgraph) (4.11.0)\n",
            "Requirement already satisfied: certifi in /usr/local/lib/python3.12/dist-packages (from httpx>=0.25.2->langgraph-sdk<0.3.0,>=0.2.2->langgraph) (2025.10.5)\n",
            "Requirement already satisfied: httpcore==1.* in /usr/local/lib/python3.12/dist-packages (from httpx>=0.25.2->langgraph-sdk<0.3.0,>=0.2.2->langgraph) (1.0.9)\n",
            "Requirement already satisfied: idna in /usr/local/lib/python3.12/dist-packages (from httpx>=0.25.2->langgraph-sdk<0.3.0,>=0.2.2->langgraph) (3.11)\n",
            "Requirement already satisfied: h11>=0.16 in /usr/local/lib/python3.12/dist-packages (from httpcore==1.*->httpx>=0.25.2->langgraph-sdk<0.3.0,>=0.2.2->langgraph) (0.16.0)\n",
            "Requirement already satisfied: jsonpointer>=1.9 in /usr/local/lib/python3.12/dist-packages (from jsonpatch<2.0.0,>=1.33.0->langchain-core>=0.1->langgraph) (3.0.0)\n",
            "Requirement already satisfied: requests-toolbelt>=1.0.0 in /usr/local/lib/python3.12/dist-packages (from langsmith<1.0.0,>=0.3.45->langchain-core>=0.1->langgraph) (1.0.0)\n",
            "Requirement already satisfied: requests>=2.0.0 in /usr/local/lib/python3.12/dist-packages (from langsmith<1.0.0,>=0.3.45->langchain-core>=0.1->langgraph) (2.32.4)\n",
            "Requirement already satisfied: zstandard>=0.23.0 in /usr/local/lib/python3.12/dist-packages (from langsmith<1.0.0,>=0.3.45->langchain-core>=0.1->langgraph) (0.25.0)\n",
            "Requirement already satisfied: charset_normalizer<4,>=2 in /usr/local/lib/python3.12/dist-packages (from requests>=2.0.0->langsmith<1.0.0,>=0.3.45->langchain-core>=0.1->langgraph) (3.4.4)\n",
            "Requirement already satisfied: urllib3<3,>=1.21.1 in /usr/local/lib/python3.12/dist-packages (from requests>=2.0.0->langsmith<1.0.0,>=0.3.45->langchain-core>=0.1->langgraph) (2.5.0)\n",
            "Requirement already satisfied: sniffio>=1.1 in /usr/local/lib/python3.12/dist-packages (from anyio->httpx>=0.25.2->langgraph-sdk<0.3.0,>=0.2.2->langgraph) (1.3.1)\n",
            "Downloading langgraph-1.0.2-py3-none-any.whl (156 kB)\n",
            "\u001b[2K   \u001b[90m━━━━━━━━━━━━━━━━━━━━━━━━━━━━━━━━━━━━━━━━\u001b[0m \u001b[32m156.8/156.8 kB\u001b[0m \u001b[31m3.5 MB/s\u001b[0m eta \u001b[36m0:00:00\u001b[0m\n",
            "\u001b[?25hDownloading langgraph_checkpoint-3.0.0-py3-none-any.whl (46 kB)\n",
            "\u001b[2K   \u001b[90m━━━━━━━━━━━━━━━━━━━━━━━━━━━━━━━━━━━━━━━━\u001b[0m \u001b[32m46.1/46.1 kB\u001b[0m \u001b[31m4.0 MB/s\u001b[0m eta \u001b[36m0:00:00\u001b[0m\n",
            "\u001b[?25hDownloading langgraph_prebuilt-1.0.2-py3-none-any.whl (34 kB)\n",
            "Downloading langchain_core-1.0.2-py3-none-any.whl (469 kB)\n",
            "\u001b[2K   \u001b[90m━━━━━━━━━━━━━━━━━━━━━━━━━━━━━━━━━━━━━━━━\u001b[0m \u001b[32m469.3/469.3 kB\u001b[0m \u001b[31m12.7 MB/s\u001b[0m eta \u001b[36m0:00:00\u001b[0m\n",
            "\u001b[?25hDownloading langgraph_sdk-0.2.9-py3-none-any.whl (56 kB)\n",
            "\u001b[2K   \u001b[90m━━━━━━━━━━━━━━━━━━━━━━━━━━━━━━━━━━━━━━━━\u001b[0m \u001b[32m56.8/56.8 kB\u001b[0m \u001b[31m5.2 MB/s\u001b[0m eta \u001b[36m0:00:00\u001b[0m\n",
            "\u001b[?25hDownloading ormsgpack-1.11.0-cp312-cp312-manylinux_2_17_x86_64.manylinux2014_x86_64.whl (207 kB)\n",
            "\u001b[2K   \u001b[90m━━━━━━━━━━━━━━━━━━━━━━━━━━━━━━━━━━━━━━━━\u001b[0m \u001b[32m207.6/207.6 kB\u001b[0m \u001b[31m18.0 MB/s\u001b[0m eta \u001b[36m0:00:00\u001b[0m\n",
            "\u001b[?25hInstalling collected packages: ormsgpack, langgraph-sdk, langchain-core, langgraph-checkpoint, langgraph-prebuilt, langgraph\n",
            "  Attempting uninstall: langchain-core\n",
            "    Found existing installation: langchain-core 0.3.79\n",
            "    Uninstalling langchain-core-0.3.79:\n",
            "      Successfully uninstalled langchain-core-0.3.79\n",
            "\u001b[31mERROR: pip's dependency resolver does not currently take into account all the packages that are installed. This behaviour is the source of the following dependency conflicts.\n",
            "langchain 0.3.27 requires langchain-core<1.0.0,>=0.3.72, but you have langchain-core 1.0.2 which is incompatible.\u001b[0m\u001b[31m\n",
            "\u001b[0mSuccessfully installed langchain-core-1.0.2 langgraph-1.0.2 langgraph-checkpoint-3.0.0 langgraph-prebuilt-1.0.2 langgraph-sdk-0.2.9 ormsgpack-1.11.0\n"
          ]
        }
      ]
    },
    {
      "cell_type": "code",
      "execution_count": null,
      "id": "c2224592-d2ff-469d-97bd-928809f896d7",
      "metadata": {
        "colab": {
          "base_uri": "https://localhost:8080/",
          "height": 1000
        },
        "id": "c2224592-d2ff-469d-97bd-928809f896d7",
        "outputId": "86d8085d-bf71-436e-b50e-20d948c3e7fc"
      },
      "outputs": [
        {
          "output_type": "stream",
          "name": "stdout",
          "text": [
            "Requirement already satisfied: langchain in /usr/local/lib/python3.12/dist-packages (1.0.3)\n",
            "Requirement already satisfied: langchain-core in /usr/local/lib/python3.12/dist-packages (1.0.2)\n",
            "Requirement already satisfied: langchain-openai in /usr/local/lib/python3.12/dist-packages (1.0.1)\n",
            "Requirement already satisfied: langgraph in /usr/local/lib/python3.12/dist-packages (1.0.2)\n",
            "Requirement already satisfied: pillow in /usr/local/lib/python3.12/dist-packages (12.0.0)\n",
            "Requirement already satisfied: pydantic in /usr/local/lib/python3.12/dist-packages (2.11.10)\n",
            "Collecting pydantic\n",
            "  Downloading pydantic-2.12.3-py3-none-any.whl.metadata (87 kB)\n",
            "\u001b[2K     \u001b[90m━━━━━━━━━━━━━━━━━━━━━━━━━━━━━━━━━━━━━━━━\u001b[0m \u001b[32m87.7/87.7 kB\u001b[0m \u001b[31m2.1 MB/s\u001b[0m eta \u001b[36m0:00:00\u001b[0m\n",
            "\u001b[?25hRequirement already satisfied: jsonpatch<2.0.0,>=1.33.0 in /usr/local/lib/python3.12/dist-packages (from langchain-core) (1.33)\n",
            "Requirement already satisfied: langsmith<1.0.0,>=0.3.45 in /usr/local/lib/python3.12/dist-packages (from langchain-core) (0.4.38)\n",
            "Requirement already satisfied: packaging<26.0.0,>=23.2.0 in /usr/local/lib/python3.12/dist-packages (from langchain-core) (25.0)\n",
            "Requirement already satisfied: pyyaml<7.0.0,>=5.3.0 in /usr/local/lib/python3.12/dist-packages (from langchain-core) (6.0.3)\n",
            "Requirement already satisfied: tenacity!=8.4.0,<10.0.0,>=8.1.0 in /usr/local/lib/python3.12/dist-packages (from langchain-core) (8.5.0)\n",
            "Requirement already satisfied: typing-extensions<5.0.0,>=4.7.0 in /usr/local/lib/python3.12/dist-packages (from langchain-core) (4.15.0)\n",
            "Requirement already satisfied: openai<3.0.0,>=1.109.1 in /usr/local/lib/python3.12/dist-packages (from langchain-openai) (1.109.1)\n",
            "Requirement already satisfied: tiktoken<1.0.0,>=0.7.0 in /usr/local/lib/python3.12/dist-packages (from langchain-openai) (0.12.0)\n",
            "Requirement already satisfied: langgraph-checkpoint<4.0.0,>=2.1.0 in /usr/local/lib/python3.12/dist-packages (from langgraph) (3.0.0)\n",
            "Requirement already satisfied: langgraph-prebuilt<1.1.0,>=1.0.2 in /usr/local/lib/python3.12/dist-packages (from langgraph) (1.0.2)\n",
            "Requirement already satisfied: langgraph-sdk<0.3.0,>=0.2.2 in /usr/local/lib/python3.12/dist-packages (from langgraph) (0.2.9)\n",
            "Requirement already satisfied: xxhash>=3.5.0 in /usr/local/lib/python3.12/dist-packages (from langgraph) (3.6.0)\n",
            "Requirement already satisfied: annotated-types>=0.6.0 in /usr/local/lib/python3.12/dist-packages (from pydantic) (0.7.0)\n",
            "Collecting pydantic-core==2.41.4 (from pydantic)\n",
            "  Downloading pydantic_core-2.41.4-cp312-cp312-manylinux_2_17_x86_64.manylinux2014_x86_64.whl.metadata (7.3 kB)\n",
            "Requirement already satisfied: typing-inspection>=0.4.2 in /usr/local/lib/python3.12/dist-packages (from pydantic) (0.4.2)\n",
            "Requirement already satisfied: jsonpointer>=1.9 in /usr/local/lib/python3.12/dist-packages (from jsonpatch<2.0.0,>=1.33.0->langchain-core) (3.0.0)\n",
            "Requirement already satisfied: ormsgpack>=1.10.0 in /usr/local/lib/python3.12/dist-packages (from langgraph-checkpoint<4.0.0,>=2.1.0->langgraph) (1.11.0)\n",
            "Requirement already satisfied: httpx>=0.25.2 in /usr/local/lib/python3.12/dist-packages (from langgraph-sdk<0.3.0,>=0.2.2->langgraph) (0.28.1)\n",
            "Requirement already satisfied: orjson>=3.10.1 in /usr/local/lib/python3.12/dist-packages (from langgraph-sdk<0.3.0,>=0.2.2->langgraph) (3.11.4)\n",
            "Requirement already satisfied: requests-toolbelt>=1.0.0 in /usr/local/lib/python3.12/dist-packages (from langsmith<1.0.0,>=0.3.45->langchain-core) (1.0.0)\n",
            "Requirement already satisfied: requests>=2.0.0 in /usr/local/lib/python3.12/dist-packages (from langsmith<1.0.0,>=0.3.45->langchain-core) (2.32.4)\n",
            "Requirement already satisfied: zstandard>=0.23.0 in /usr/local/lib/python3.12/dist-packages (from langsmith<1.0.0,>=0.3.45->langchain-core) (0.25.0)\n",
            "Requirement already satisfied: anyio<5,>=3.5.0 in /usr/local/lib/python3.12/dist-packages (from openai<3.0.0,>=1.109.1->langchain-openai) (4.11.0)\n",
            "Requirement already satisfied: distro<2,>=1.7.0 in /usr/local/lib/python3.12/dist-packages (from openai<3.0.0,>=1.109.1->langchain-openai) (1.9.0)\n",
            "Requirement already satisfied: jiter<1,>=0.4.0 in /usr/local/lib/python3.12/dist-packages (from openai<3.0.0,>=1.109.1->langchain-openai) (0.11.1)\n",
            "Requirement already satisfied: sniffio in /usr/local/lib/python3.12/dist-packages (from openai<3.0.0,>=1.109.1->langchain-openai) (1.3.1)\n",
            "Requirement already satisfied: tqdm>4 in /usr/local/lib/python3.12/dist-packages (from openai<3.0.0,>=1.109.1->langchain-openai) (4.67.1)\n",
            "Requirement already satisfied: regex>=2022.1.18 in /usr/local/lib/python3.12/dist-packages (from tiktoken<1.0.0,>=0.7.0->langchain-openai) (2024.11.6)\n",
            "Requirement already satisfied: idna>=2.8 in /usr/local/lib/python3.12/dist-packages (from anyio<5,>=3.5.0->openai<3.0.0,>=1.109.1->langchain-openai) (3.11)\n",
            "Requirement already satisfied: certifi in /usr/local/lib/python3.12/dist-packages (from httpx>=0.25.2->langgraph-sdk<0.3.0,>=0.2.2->langgraph) (2025.10.5)\n",
            "Requirement already satisfied: httpcore==1.* in /usr/local/lib/python3.12/dist-packages (from httpx>=0.25.2->langgraph-sdk<0.3.0,>=0.2.2->langgraph) (1.0.9)\n",
            "Requirement already satisfied: h11>=0.16 in /usr/local/lib/python3.12/dist-packages (from httpcore==1.*->httpx>=0.25.2->langgraph-sdk<0.3.0,>=0.2.2->langgraph) (0.16.0)\n",
            "Requirement already satisfied: charset_normalizer<4,>=2 in /usr/local/lib/python3.12/dist-packages (from requests>=2.0.0->langsmith<1.0.0,>=0.3.45->langchain-core) (3.4.4)\n",
            "Requirement already satisfied: urllib3<3,>=1.21.1 in /usr/local/lib/python3.12/dist-packages (from requests>=2.0.0->langsmith<1.0.0,>=0.3.45->langchain-core) (2.5.0)\n",
            "Downloading pydantic-2.12.3-py3-none-any.whl (462 kB)\n",
            "\u001b[2K   \u001b[90m━━━━━━━━━━━━━━━━━━━━━━━━━━━━━━━━━━━━━━━━\u001b[0m \u001b[32m462.4/462.4 kB\u001b[0m \u001b[31m8.1 MB/s\u001b[0m eta \u001b[36m0:00:00\u001b[0m\n",
            "\u001b[?25hDownloading pydantic_core-2.41.4-cp312-cp312-manylinux_2_17_x86_64.manylinux2014_x86_64.whl (2.1 MB)\n",
            "\u001b[2K   \u001b[90m━━━━━━━━━━━━━━━━━━━━━━━━━━━━━━━━━━━━━━━━\u001b[0m \u001b[32m2.1/2.1 MB\u001b[0m \u001b[31m25.4 MB/s\u001b[0m eta \u001b[36m0:00:00\u001b[0m\n",
            "\u001b[?25hInstalling collected packages: pydantic-core, pydantic\n",
            "  Attempting uninstall: pydantic-core\n",
            "    Found existing installation: pydantic_core 2.33.2\n",
            "    Uninstalling pydantic_core-2.33.2:\n",
            "      Successfully uninstalled pydantic_core-2.33.2\n",
            "  Attempting uninstall: pydantic\n",
            "    Found existing installation: pydantic 2.11.10\n",
            "    Uninstalling pydantic-2.11.10:\n",
            "      Successfully uninstalled pydantic-2.11.10\n",
            "\u001b[31mERROR: pip's dependency resolver does not currently take into account all the packages that are installed. This behaviour is the source of the following dependency conflicts.\n",
            "gradio 5.49.1 requires pillow<12.0,>=8.0, but you have pillow 12.0.0 which is incompatible.\n",
            "gradio 5.49.1 requires pydantic<2.12,>=2.0, but you have pydantic 2.12.3 which is incompatible.\u001b[0m\u001b[31m\n",
            "\u001b[0mSuccessfully installed pydantic-2.12.3 pydantic-core-2.41.4\n"
          ]
        },
        {
          "output_type": "display_data",
          "data": {
            "application/vnd.colab-display-data+json": {
              "pip_warning": {
                "packages": [
                  "pydantic"
                ]
              },
              "id": "afabf016a9b84dc18892475811feb0d7"
            }
          },
          "metadata": {}
        },
        {
          "output_type": "execute_result",
          "data": {
            "text/plain": [
              "<IPython.core.display.Markdown object>"
            ],
            "text/markdown": "# Report on Ethical Artificial Intelligence\n\nThis report explores how ethical principles guide the development of AI systems.\n\n**Dr. Mira Chen asks:** What are the biggest ethical concerns in artificial intelligence?\n\n**Answer:** Ethical AI ensures transparency, inclusivity, and responsible decision-making.\n\nIn conclusion, ethical AI fosters trust, accountability, and fairness across technology."
          },
          "metadata": {},
          "execution_count": 5
        }
      ],
      "source": [
        "# ✅ STEP 1: Install required packages\n",
        "!pip install -U langchain langchain-core langchain-openai langgraph pillow pydantic\n",
        "\n",
        "# ✅ STEP 2: Import libraries\n",
        "import operator\n",
        "from typing import List, Annotated\n",
        "from typing_extensions import TypedDict\n",
        "from pydantic import BaseModel   # ⬅️ use plain Pydantic now\n",
        "\n",
        "# LangChain (latest)\n",
        "from langchain_core.messages import HumanMessage, SystemMessage, AIMessage\n",
        "\n",
        "# LangGraph (latest)\n",
        "from langgraph.graph import StateGraph, START, END\n",
        "from langgraph.checkpoint.memory import MemorySaver\n",
        "from langgraph.types import Send\n",
        "\n",
        "# Optional (for report display)\n",
        "from IPython.display import Markdown\n",
        "\n",
        "# ✅ STEP 3: Analyst model\n",
        "class Analyst(BaseModel):\n",
        "    name: str\n",
        "    persona: str\n",
        "    description: str\n",
        "    expertise: str\n",
        "\n",
        "# ✅ STEP 4: Define the shared graph state\n",
        "class ResearchGraphState(TypedDict):\n",
        "    topic: str\n",
        "    max_analysts: int\n",
        "    human_analyst_feedback: str\n",
        "    analysts: List[Analyst]\n",
        "    sections: Annotated[list, operator.add]\n",
        "    introduction: str\n",
        "    content: str\n",
        "    conclusion: str\n",
        "    final_report: str\n",
        "\n",
        "# ✅ STEP 5: Mock LLM (so you can run without API key)\n",
        "def fake_llm_response(prompt: str) -> str:\n",
        "    \"\"\"Simple fake LLM generator.\"\"\"\n",
        "    if \"introduction\" in prompt.lower():\n",
        "        return \"This report explores how ethical principles guide the development of AI systems.\"\n",
        "    elif \"conclusion\" in prompt.lower():\n",
        "        return \"In conclusion, ethical AI fosters trust, accountability, and fairness across technology.\"\n",
        "    elif \"question\" in prompt.lower():\n",
        "        return \"What are the biggest ethical concerns in artificial intelligence?\"\n",
        "    else:\n",
        "        return \"Ethical AI ensures transparency, inclusivity, and responsible decision-making.\"\n",
        "\n",
        "# ✅ STEP 6: Define nodes\n",
        "\n",
        "def generate_question(state):\n",
        "    analyst = state[\"analysts\"][0]\n",
        "    question = fake_llm_response(f\"Generate question for {analyst.persona}\")\n",
        "    return {\"sections\": [f\"**{analyst.name} asks:** {question}\"]}\n",
        "\n",
        "def generate_answer(state):\n",
        "    question_text = state[\"sections\"][-1]\n",
        "    answer = fake_llm_response(f\"Answer this: {question_text}\")\n",
        "    return {\"sections\": [f\"**Answer:** {answer}\"]}\n",
        "\n",
        "def generate_report(state):\n",
        "    topic = state[\"topic\"]\n",
        "    intro = fake_llm_response(\"Write an introduction about \" + topic)\n",
        "    conclusion = fake_llm_response(\"Write a conclusion about \" + topic)\n",
        "    content = \"\\n\\n\".join(state[\"sections\"])\n",
        "    final_report = f\"# Report on {topic}\\n\\n{intro}\\n\\n{content}\\n\\n{conclusion}\"\n",
        "    return {\n",
        "        \"introduction\": intro,\n",
        "        \"content\": content,\n",
        "        \"conclusion\": conclusion,\n",
        "        \"final_report\": final_report\n",
        "    }\n",
        "\n",
        "# ✅ STEP 7: Build the LangGraph workflow\n",
        "builder = StateGraph(ResearchGraphState)\n",
        "builder.add_node(\"generate_question\", generate_question)\n",
        "builder.add_node(\"generate_answer\", generate_answer)\n",
        "builder.add_node(\"generate_report\", generate_report)\n",
        "\n",
        "# Define flow\n",
        "builder.add_edge(START, \"generate_question\")\n",
        "builder.add_edge(\"generate_question\", \"generate_answer\")\n",
        "builder.add_edge(\"generate_answer\", \"generate_report\")\n",
        "builder.add_edge(\"generate_report\", END)\n",
        "\n",
        "# ✅ STEP 8: Compile the graph\n",
        "memory = MemorySaver()\n",
        "graph = builder.compile(checkpointer=memory)\n",
        "\n",
        "# ✅ STEP 9: Setup analyst and topic\n",
        "analyst = Analyst(\n",
        "    name=\"Dr. Mira Chen\",\n",
        "    persona=\"AI Ethics Researcher\",\n",
        "    description=\"Focuses on fairness and transparency in AI.\",\n",
        "    expertise=\"Ethical AI frameworks\"\n",
        ")\n",
        "\n",
        "topic = \"Ethical Artificial Intelligence\"\n",
        "\n",
        "# ✅ STEP 10: Run the graph\n",
        "result = graph.invoke(\n",
        "    {\n",
        "        \"analysts\": [analyst],\n",
        "        \"topic\": topic,\n",
        "        \"max_analysts\": 1,\n",
        "        \"human_analyst_feedback\": \"\",\n",
        "        \"sections\": [],\n",
        "        \"introduction\": \"\",\n",
        "        \"content\": \"\",\n",
        "        \"conclusion\": \"\",\n",
        "        \"final_report\": \"\"\n",
        "    },\n",
        "    {\"configurable\": {\"thread_id\": \"demo\"}}\n",
        ")\n",
        "\n",
        "# ✅ STEP 11: Display final report\n",
        "Markdown(result[\"final_report\"])\n"
      ]
    },
    {
      "cell_type": "markdown",
      "id": "1b64ba9a-2b5e-40e1-a778-0f635aa3f6d0",
      "metadata": {
        "id": "1b64ba9a-2b5e-40e1-a778-0f635aa3f6d0"
      },
      "source": [
        "Let's ask an open-ended question about LangGraph."
      ]
    },
    {
      "cell_type": "code",
      "execution_count": 8,
      "id": "362932ee-4106-4a2d-a32d-b812eafcf9df",
      "metadata": {
        "id": "362932ee-4106-4a2d-a32d-b812eafcf9df",
        "outputId": "118f92dc-f76c-4ce3-9759-1c78a90f6a4a",
        "colab": {
          "base_uri": "https://localhost:8080/"
        }
      },
      "outputs": [
        {
          "output_type": "stream",
          "name": "stdout",
          "text": [
            "\n",
            "🚀 Initiating Research Graph for topic: The benefits of adopting LangGraph as an agent framework\n",
            "\n",
            "✅ Analysts created successfully.\n",
            "🧩 Analysts Created:\n",
            "============================================================\n",
            "\n",
            "🔹 Analyst 1\n",
            "Name: Aarav Mehta\n",
            "Affiliation: Open Research Collective\n",
            "Role: AI Systems Architect\n",
            "Description: Focuses on integrating agent-based frameworks like LangGraph to optimize multi-agent collaboration for The benefits of adopting LangGraph as an agent framework.\n",
            "------------------------------------------------------------\n",
            "\n",
            "🔹 Analyst 2\n",
            "Name: Sophia Ramirez\n",
            "Affiliation: NextGen AI Lab\n",
            "Role: Machine Learning Strategist\n",
            "Description: Explores scalable deployment and orchestration benefits of frameworks such as LangGraph in applied AI environments.\n",
            "------------------------------------------------------------\n",
            "\n",
            "🔹 Analyst 3\n",
            "Name: Liam Chen\n",
            "Affiliation: Cognitive Automation Institute\n",
            "Role: Research Engineer\n",
            "Description: Investigates workflow automation and reproducibility improvements offered by LangGraph in agent research workflows.\n",
            "------------------------------------------------------------\n",
            "\n",
            "✅ Graph execution paused at 'human_feedback' node.\n",
            "🔍 Review analyst profiles and provide feedback before proceeding.\n"
          ]
        }
      ],
      "source": [
        "# --- Imports ---\n",
        "import operator\n",
        "from typing import List, Annotated\n",
        "from typing_extensions import TypedDict\n",
        "\n",
        "from langgraph.graph import StateGraph, START, END\n",
        "from langgraph.checkpoint.memory import MemorySaver\n",
        "from langgraph.types import Send\n",
        "from langchain_core.messages import HumanMessage, SystemMessage\n",
        "\n",
        "\n",
        "# --- Define ResearchGraphState ---\n",
        "class ResearchGraphState(TypedDict):\n",
        "    topic: str\n",
        "    max_analysts: int\n",
        "    human_analyst_feedback: str\n",
        "    analysts: list\n",
        "    sections: Annotated[list, operator.add]\n",
        "    introduction: str\n",
        "    content: str\n",
        "    conclusion: str\n",
        "    final_report: str\n",
        "\n",
        "\n",
        "# --- Analyst class ---\n",
        "class Analyst:\n",
        "    def __init__(self, name, affiliation, role, description):\n",
        "        self.name = name\n",
        "        self.affiliation = affiliation\n",
        "        self.role = role\n",
        "        self.description = description\n",
        "\n",
        "    def to_dict(self):\n",
        "        return {\n",
        "            \"name\": self.name,\n",
        "            \"affiliation\": self.affiliation,\n",
        "            \"role\": self.role,\n",
        "            \"description\": self.description\n",
        "        }\n",
        "\n",
        "\n",
        "# --- Create analysts (tweaked version) ---\n",
        "def create_analysts(state: ResearchGraphState):\n",
        "    topic = state[\"topic\"]\n",
        "    analyst_profiles = [\n",
        "        {\n",
        "            \"name\": \"Aarav Mehta\",\n",
        "            \"affiliation\": \"Open Research Collective\",\n",
        "            \"role\": \"AI Systems Architect\",\n",
        "            \"description\": f\"Focuses on integrating agent-based frameworks like LangGraph to optimize multi-agent collaboration for {topic}.\"\n",
        "        },\n",
        "        {\n",
        "            \"name\": \"Sophia Ramirez\",\n",
        "            \"affiliation\": \"NextGen AI Lab\",\n",
        "            \"role\": \"Machine Learning Strategist\",\n",
        "            \"description\": f\"Explores scalable deployment and orchestration benefits of frameworks such as LangGraph in applied AI environments.\"\n",
        "        },\n",
        "        {\n",
        "            \"name\": \"Liam Chen\",\n",
        "            \"affiliation\": \"Cognitive Automation Institute\",\n",
        "            \"role\": \"Research Engineer\",\n",
        "            \"description\": f\"Investigates workflow automation and reproducibility improvements offered by LangGraph in agent research workflows.\"\n",
        "        }\n",
        "    ]\n",
        "\n",
        "    analysts = [Analyst(**profile).to_dict() for profile in analyst_profiles]\n",
        "\n",
        "    print(\"✅ Analysts created successfully.\")\n",
        "    return {\"analysts\": analysts}\n",
        "\n",
        "\n",
        "# --- Other graph node functions ---\n",
        "def human_feedback(state: ResearchGraphState):\n",
        "    print(\"🧠 Waiting for human analyst feedback...\")\n",
        "    return {\"human_analyst_feedback\": \"Feedback noted and saved.\"}\n",
        "\n",
        "\n",
        "def conduct_interview(state: ResearchGraphState):\n",
        "    print(\"🎤 Conducting expert interviews...\")\n",
        "    return {\"sections\": [\"Interview section on LangGraph’s efficiency and adaptability\"]}\n",
        "\n",
        "\n",
        "def write_report(state: ResearchGraphState):\n",
        "    print(\"📝 Writing report content...\")\n",
        "    return {\"content\": \"LangGraph provides a modular and traceable architecture for building coordinated agent workflows.\"}\n",
        "\n",
        "\n",
        "def write_introduction(state: ResearchGraphState):\n",
        "    print(\"📄 Drafting introduction...\")\n",
        "    return {\"introduction\": f\"This research delves into how LangGraph simplifies agent-based development and coordination in AI systems.\"}\n",
        "\n",
        "\n",
        "def write_conclusion(state: ResearchGraphState):\n",
        "    print(\"🔚 Adding conclusion section...\")\n",
        "    return {\"conclusion\": \"Overall, adopting LangGraph streamlines agent orchestration, improves transparency, and enhances the research-to-deployment pipeline.\"}\n",
        "\n",
        "\n",
        "def finalize_report(state: ResearchGraphState):\n",
        "    print(\"📘 Compiling final report...\")\n",
        "    final_report = f\"\"\"\n",
        "    Title: Research Report on {state['topic']}\n",
        "\n",
        "    Introduction: {state['introduction']}\n",
        "    Content: {state['content']}\n",
        "    Conclusion: {state['conclusion']}\n",
        "    \"\"\"\n",
        "    return {\"final_report\": final_report}\n",
        "\n",
        "\n",
        "# --- Build Graph ---\n",
        "memory = MemorySaver()\n",
        "builder = StateGraph(ResearchGraphState)\n",
        "\n",
        "builder.add_node(\"create_analysts\", create_analysts)\n",
        "builder.add_node(\"human_feedback\", human_feedback)\n",
        "builder.add_node(\"conduct_interview\", conduct_interview)\n",
        "builder.add_node(\"write_report\", write_report)\n",
        "builder.add_node(\"write_introduction\", write_introduction)\n",
        "builder.add_node(\"write_conclusion\", write_conclusion)\n",
        "builder.add_node(\"finalize_report\", finalize_report)\n",
        "\n",
        "builder.add_edge(START, \"create_analysts\")\n",
        "builder.add_edge(\"create_analysts\", \"human_feedback\")\n",
        "builder.add_edge(\"human_feedback\", \"conduct_interview\")\n",
        "builder.add_edge(\"conduct_interview\", \"write_report\")\n",
        "builder.add_edge(\"conduct_interview\", \"write_introduction\")\n",
        "builder.add_edge(\"conduct_interview\", \"write_conclusion\")\n",
        "builder.add_edge([\"write_conclusion\", \"write_report\", \"write_introduction\"], \"finalize_report\")\n",
        "builder.add_edge(\"finalize_report\", END)\n",
        "\n",
        "graph = builder.compile(interrupt_before=[\"human_feedback\"], checkpointer=memory)\n",
        "\n",
        "\n",
        "# --- Stream Execution (Tweaked Version) ---\n",
        "max_analysts = 3\n",
        "topic = \"The benefits of adopting LangGraph as an agent framework\"\n",
        "thread = {\"configurable\": {\"thread_id\": \"research_thread_01\"}}\n",
        "\n",
        "print(f\"\\n🚀 Initiating Research Graph for topic: {topic}\\n\")\n",
        "\n",
        "for event in graph.stream(\n",
        "    {\"topic\": topic, \"max_analysts\": max_analysts},\n",
        "    thread,\n",
        "    stream_mode=\"values\"\n",
        "):\n",
        "    analysts = event.get(\"analysts\", [])\n",
        "    if analysts:\n",
        "        print(\"🧩 Analysts Created:\\n\" + \"=\" * 60)\n",
        "        for idx, analyst in enumerate(analysts, 1):\n",
        "            print(f\"\\n🔹 Analyst {idx}\")\n",
        "            print(f\"Name: {analyst['name']}\")\n",
        "            print(f\"Affiliation: {analyst['affiliation']}\")\n",
        "            print(f\"Role: {analyst['role']}\")\n",
        "            print(f\"Description: {analyst['description']}\")\n",
        "            print(\"-\" * 60)\n",
        "\n",
        "print(\"\\n✅ Graph execution paused at 'human_feedback' node.\")\n",
        "print(\"🔍 Review analyst profiles and provide feedback before proceeding.\")\n"
      ]
    },
    {
      "cell_type": "code",
      "execution_count": 9,
      "id": "ac521a5f-5a4f-44f9-8af9-d05228e20882",
      "metadata": {
        "id": "ac521a5f-5a4f-44f9-8af9-d05228e20882",
        "outputId": "72b63073-f8b1-47c0-8410-f93e753e4b05",
        "colab": {
          "base_uri": "https://localhost:8080/"
        }
      },
      "outputs": [
        {
          "output_type": "stream",
          "name": "stdout",
          "text": [
            "✅ Human feedback successfully added to the research graph.\n",
            "📌 Feedback noted: Add an industry-level analyst (GenAI startup CEO).\n"
          ]
        }
      ],
      "source": [
        "# 🧠 Simulating human feedback update to the research graph\n",
        "\n",
        "# Update state at the 'human_feedback' node as if you (the human) gave an instruction\n",
        "graph.update_state(\n",
        "    thread,\n",
        "    {\n",
        "        \"human_analyst_feedback\": \"Include an additional expert — the CEO of a GenAI-native startup — to broaden the industry perspective.\"\n",
        "    },\n",
        "    as_node=\"human_feedback\"\n",
        ")\n",
        "\n",
        "print(\"✅ Human feedback successfully added to the research graph.\")\n",
        "print(\"📌 Feedback noted: Add an industry-level analyst (GenAI startup CEO).\")\n"
      ]
    },
    {
      "cell_type": "code",
      "execution_count": 11,
      "id": "a3be311f-62ee-49e7-b037-75c53d8960a8",
      "metadata": {
        "id": "a3be311f-62ee-49e7-b037-75c53d8960a8",
        "outputId": "d4600186-5397-4ecb-bb3f-352effa8de0f",
        "colab": {
          "base_uri": "https://localhost:8080/"
        }
      },
      "outputs": [
        {
          "output_type": "stream",
          "name": "stdout",
          "text": [
            "🔄 Resuming Research Graph after human feedback...\n",
            "\n",
            "✅ Updated Analyst Team:\n",
            "\n",
            "🧩 Name: Aarav Mehta\n",
            "🏢 Affiliation: Open Research Collective\n",
            "🎯 Role: AI Systems Architect\n",
            "🧠 Description: Focuses on integrating agent-based frameworks like LangGraph to optimize multi-agent collaboration for The benefits of adopting LangGraph as an agent framework.\n",
            "--------------------------------------------------\n",
            "🧩 Name: Sophia Ramirez\n",
            "🏢 Affiliation: NextGen AI Lab\n",
            "🎯 Role: Machine Learning Strategist\n",
            "🧠 Description: Explores scalable deployment and orchestration benefits of frameworks such as LangGraph in applied AI environments.\n",
            "--------------------------------------------------\n",
            "🧩 Name: Liam Chen\n",
            "🏢 Affiliation: Cognitive Automation Institute\n",
            "🎯 Role: Research Engineer\n",
            "🧠 Description: Investigates workflow automation and reproducibility improvements offered by LangGraph in agent research workflows.\n",
            "--------------------------------------------------\n",
            "🎤 Conducting expert interviews...\n",
            "✅ Updated Analyst Team:\n",
            "\n",
            "🧩 Name: Aarav Mehta\n",
            "🏢 Affiliation: Open Research Collective\n",
            "🎯 Role: AI Systems Architect\n",
            "🧠 Description: Focuses on integrating agent-based frameworks like LangGraph to optimize multi-agent collaboration for The benefits of adopting LangGraph as an agent framework.\n",
            "--------------------------------------------------\n",
            "🧩 Name: Sophia Ramirez\n",
            "🏢 Affiliation: NextGen AI Lab\n",
            "🎯 Role: Machine Learning Strategist\n",
            "🧠 Description: Explores scalable deployment and orchestration benefits of frameworks such as LangGraph in applied AI environments.\n",
            "--------------------------------------------------\n",
            "🧩 Name: Liam Chen\n",
            "🏢 Affiliation: Cognitive Automation Institute\n",
            "🎯 Role: Research Engineer\n",
            "🧠 Description: Investigates workflow automation and reproducibility improvements offered by LangGraph in agent research workflows.\n",
            "--------------------------------------------------\n",
            "📄 Drafting introduction...\n",
            "📝 Writing report content...\n",
            "🔚 Adding conclusion section...\n",
            "✅ Updated Analyst Team:\n",
            "\n",
            "🧩 Name: Aarav Mehta\n",
            "🏢 Affiliation: Open Research Collective\n",
            "🎯 Role: AI Systems Architect\n",
            "🧠 Description: Focuses on integrating agent-based frameworks like LangGraph to optimize multi-agent collaboration for The benefits of adopting LangGraph as an agent framework.\n",
            "--------------------------------------------------\n",
            "🧩 Name: Sophia Ramirez\n",
            "🏢 Affiliation: NextGen AI Lab\n",
            "🎯 Role: Machine Learning Strategist\n",
            "🧠 Description: Explores scalable deployment and orchestration benefits of frameworks such as LangGraph in applied AI environments.\n",
            "--------------------------------------------------\n",
            "🧩 Name: Liam Chen\n",
            "🏢 Affiliation: Cognitive Automation Institute\n",
            "🎯 Role: Research Engineer\n",
            "🧠 Description: Investigates workflow automation and reproducibility improvements offered by LangGraph in agent research workflows.\n",
            "--------------------------------------------------\n",
            "📘 Compiling final report...\n",
            "✅ Updated Analyst Team:\n",
            "\n",
            "🧩 Name: Aarav Mehta\n",
            "🏢 Affiliation: Open Research Collective\n",
            "🎯 Role: AI Systems Architect\n",
            "🧠 Description: Focuses on integrating agent-based frameworks like LangGraph to optimize multi-agent collaboration for The benefits of adopting LangGraph as an agent framework.\n",
            "--------------------------------------------------\n",
            "🧩 Name: Sophia Ramirez\n",
            "🏢 Affiliation: NextGen AI Lab\n",
            "🎯 Role: Machine Learning Strategist\n",
            "🧠 Description: Explores scalable deployment and orchestration benefits of frameworks such as LangGraph in applied AI environments.\n",
            "--------------------------------------------------\n",
            "🧩 Name: Liam Chen\n",
            "🏢 Affiliation: Cognitive Automation Institute\n",
            "🎯 Role: Research Engineer\n",
            "🧠 Description: Investigates workflow automation and reproducibility improvements offered by LangGraph in agent research workflows.\n",
            "--------------------------------------------------\n"
          ]
        }
      ],
      "source": [
        "# 🔁 Resume the research graph after applying human feedback\n",
        "\n",
        "print(\"🔄 Resuming Research Graph after human feedback...\\n\")\n",
        "\n",
        "for event in graph.stream(\n",
        "    None,                  # Continue from where we paused\n",
        "    thread,                # Same thread to preserve context\n",
        "    stream_mode=\"values\"   # Stream values only\n",
        "):\n",
        "    analysts = event.get(\"analysts\", [])\n",
        "    if analysts:\n",
        "        print(\"✅ Updated Analyst Team:\\n\")\n",
        "        for analyst in analysts:\n",
        "            print(f\"🧩 Name: {analyst['name']}\")\n",
        "            print(f\"🏢 Affiliation: {analyst['affiliation']}\")\n",
        "            print(f\"🎯 Role: {analyst['role']}\")\n",
        "            print(f\"🧠 Description: {analyst['description']}\")\n",
        "            print(\"-\" * 50)\n"
      ]
    },
    {
      "cell_type": "code",
      "execution_count": 12,
      "id": "0af41f54-88d9-4597-98b0-444c08322095",
      "metadata": {
        "id": "0af41f54-88d9-4597-98b0-444c08322095",
        "outputId": "a0766769-aee0-4510-fbbd-bbafcb41d76b",
        "colab": {
          "base_uri": "https://localhost:8080/"
        }
      },
      "outputs": [
        {
          "output_type": "stream",
          "name": "stdout",
          "text": [
            "🚀 Continuing Research Graph with final analyst team...\n",
            "\n",
            "📝 Final Research Report:\n",
            "\n",
            "    Title: Research Report on The benefits of adopting LangGraph as an agent framework\n",
            "    \n",
            "    Introduction: This research delves into how LangGraph simplifies agent-based development and coordination in AI systems.\n",
            "    Content: LangGraph provides a modular and traceable architecture for building coordinated agent workflows.\n",
            "    Conclusion: Overall, adopting LangGraph streamlines agent orchestration, improves transparency, and enhances the research-to-deployment pipeline.\n",
            "    \n",
            "------------------------------------------------------------\n"
          ]
        }
      ],
      "source": [
        "print(\"🚀 Continuing Research Graph with final analyst team...\\n\")\n",
        "\n",
        "for event in graph.stream(None, thread, stream_mode=\"values\"):\n",
        "    if event.get(\"final_report\"):\n",
        "        print(\"📝 Final Research Report:\")\n",
        "        print(event[\"final_report\"])\n",
        "        print(\"-\" * 60)\n"
      ]
    },
    {
      "cell_type": "code",
      "execution_count": 13,
      "id": "37123ca7-c20b-43c1-9a71-39ba344e7ca6",
      "metadata": {
        "id": "37123ca7-c20b-43c1-9a71-39ba344e7ca6",
        "outputId": "d1a15241-d914-4621-846e-c1133657aab6",
        "colab": {
          "base_uri": "https://localhost:8080/"
        }
      },
      "outputs": [
        {
          "output_type": "stream",
          "name": "stdout",
          "text": [
            "🚀 Continuing Research Process...\n",
            "\n",
            "\n",
            "✅ Research Graph Execution Complete.\n"
          ]
        }
      ],
      "source": [
        "print(\"🚀 Continuing Research Process...\\n\")\n",
        "\n",
        "for event in graph.stream(None, thread, stream_mode=\"updates\"):\n",
        "    node_name = next(iter(event.keys()))\n",
        "    print(f\"🔹 Current Node Active: {node_name}\")\n",
        "    print(\"-\" * 40)\n",
        "\n",
        "print(\"\\n✅ Research Graph Execution Complete.\")\n"
      ]
    },
    {
      "cell_type": "code",
      "execution_count": 14,
      "id": "f8f66ad8-80fd-4eb2-96b6-6ae9dffd060c",
      "metadata": {
        "id": "f8f66ad8-80fd-4eb2-96b6-6ae9dffd060c",
        "outputId": "69038c05-cfb1-4646-dbe4-b5de51652165",
        "colab": {
          "base_uri": "https://localhost:8080/",
          "height": 159
        }
      },
      "outputs": [
        {
          "output_type": "stream",
          "name": "stdout",
          "text": [
            "\n",
            "🧾 Final Research Report Generated Successfully!\n",
            "\n"
          ]
        },
        {
          "output_type": "display_data",
          "data": {
            "text/plain": [
              "<IPython.core.display.Markdown object>"
            ],
            "text/markdown": "\n    Title: Research Report on The benefits of adopting LangGraph as an agent framework\n    \n    Introduction: This research delves into how LangGraph simplifies agent-based development and coordination in AI systems.\n    Content: LangGraph provides a modular and traceable architecture for building coordinated agent workflows.\n    Conclusion: Overall, adopting LangGraph streamlines agent orchestration, improves transparency, and enhances the research-to-deployment pipeline.\n    "
          },
          "metadata": {}
        }
      ],
      "source": [
        "from IPython.display import Markdown, display\n",
        "\n",
        "# 🧠 Retrieve the final graph state\n",
        "final_state = graph.get_state(thread)\n",
        "report = final_state.values.get(\"final_report\", \"⚠️ No final report found. Check graph execution.\")\n",
        "\n",
        "# 📄 Display formatted research report\n",
        "print(\"\\n🧾 Final Research Report Generated Successfully!\\n\")\n",
        "display(Markdown(report))\n"
      ]
    },
    {
      "cell_type": "markdown",
      "id": "e9bf8edd-fb42-496c-9bdb-3f5d7b4d79d3",
      "metadata": {
        "id": "e9bf8edd-fb42-496c-9bdb-3f5d7b4d79d3"
      },
      "source": [
        "We can look at the trace:\n",
        "\n",
        "https://smith.langchain.com/public/2933a7bb-bcef-4d2d-9b85-cc735b22ca0c/r"
      ]
    },
    {
      "cell_type": "code",
      "execution_count": null,
      "id": "808bd094",
      "metadata": {
        "id": "808bd094"
      },
      "outputs": [],
      "source": []
    }
  ],
  "metadata": {
    "kernelspec": {
      "display_name": "Python 3 (ipykernel)",
      "language": "python",
      "name": "python3"
    },
    "language_info": {
      "codemirror_mode": {
        "name": "ipython",
        "version": 3
      },
      "file_extension": ".py",
      "mimetype": "text/x-python",
      "name": "python",
      "nbconvert_exporter": "python",
      "pygments_lexer": "ipython3",
      "version": "3.13.5"
    },
    "colab": {
      "provenance": []
    }
  },
  "nbformat": 4,
  "nbformat_minor": 5
}