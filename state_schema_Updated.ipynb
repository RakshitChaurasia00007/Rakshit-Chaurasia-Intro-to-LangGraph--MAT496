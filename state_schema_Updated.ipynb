{
  "cells": [
    {
      "cell_type": "markdown",
      "id": "256d3948",
      "metadata": {
        "id": "256d3948"
      },
      "source": [
        "[![Open in Colab](https://colab.research.google.com/assets/colab-badge.svg)](https://colab.research.google.com/github/langchain-ai/langchain-academy/blob/main/module-2/state-schema.ipynb) [![Open in LangChain Academy](https://cdn.prod.website-files.com/65b8cd72835ceeacd4449a53/66e9eba12c7b7688aa3dbb5e_LCA-badge-green.svg)](https://academy.langchain.com/courses/take/intro-to-langgraph/lessons/58239426-lesson-1-state-schema)"
      ]
    },
    {
      "cell_type": "markdown",
      "id": "f118fabe-37b7-4cd4-b7a4-9b0fc3875ca3",
      "metadata": {
        "id": "f118fabe-37b7-4cd4-b7a4-9b0fc3875ca3"
      },
      "source": [
        "# State Schema\n",
        "\n",
        "## Review\n",
        "\n",
        "In module 1, we laid the foundations! We built up to an agent that can:\n",
        "\n",
        "* `act` - let the model call specific tools\n",
        "* `observe` - pass the tool output back to the model\n",
        "* `reason` - let the model reason about the tool output to decide what to do next (e.g., call another tool or just respond directly)\n",
        "* `persist state` - use an in memory checkpointer to support long-running conversations with interruptions\n",
        "\n",
        "And, we showed how to serve it locally in LangGraph Studio or deploy it with LangGraph Cloud.\n",
        "\n",
        "## Goals\n",
        "\n",
        "In this module, we're going to build a deeper understanding of both state and memory.\n",
        "\n",
        "First, let's review a few different ways to define your state schema."
      ]
    },
    {
      "cell_type": "code",
      "execution_count": 35,
      "id": "b9a896f4-8509-456a-9a25-46532342f459",
      "metadata": {
        "id": "b9a896f4-8509-456a-9a25-46532342f459"
      },
      "outputs": [],
      "source": [
        "%%capture --no-stderr\n",
        "%pip install --quiet -U langgraph"
      ]
    },
    {
      "cell_type": "markdown",
      "id": "9f7927b0-9909-4e54-b997-ac49c1aeaa09",
      "metadata": {
        "id": "9f7927b0-9909-4e54-b997-ac49c1aeaa09"
      },
      "source": [
        "## Schema\n",
        "\n",
        "When we define a LangGraph `StateGraph`, we use a [state schema](https://langchain-ai.github.io/langgraph/concepts/low_level/#state).\n",
        "\n",
        "The state schema represents the structure and types of data that our graph will use.\n",
        "\n",
        "All nodes are expected to communicate with that schema.\n",
        "\n",
        "LangGraph offers flexibility in how you define your state schema, accommodating various Python [types](https://docs.python.org/3/library/stdtypes.html#type-objects) and validation approaches!\n",
        "\n",
        "## TypedDict\n",
        "\n",
        "As we mentioned in Module 1, we can use the `TypedDict` class from python's `typing` module.\n",
        "\n",
        "It allows you to specify keys and their corresponding value types.\n",
        "\n",
        "But, note that these are type hints.\n",
        "\n",
        "They can be used by static type checkers (like [mypy](https://github.com/python/mypy)) or IDEs to catch potential type-related errors before the code is run.\n",
        "\n",
        "But they are not enforced at runtime!"
      ]
    },
    {
      "cell_type": "code",
      "execution_count": 36,
      "id": "eedb39f0-af0f-4794-bc16-65980d278b59",
      "metadata": {
        "id": "eedb39f0-af0f-4794-bc16-65980d278b59"
      },
      "outputs": [],
      "source": [
        "from typing_extensions import TypedDict\n",
        "\n",
        "class TypedDictState(TypedDict):\n",
        "    foo: str\n",
        "    bar: str"
      ]
    },
    {
      "cell_type": "markdown",
      "id": "d5a71661-1086-455f-a5e0-a6d104034a95",
      "metadata": {
        "id": "d5a71661-1086-455f-a5e0-a6d104034a95"
      },
      "source": [
        "For more specific value constraints, you can use things like the `Literal` type hint.\n",
        "\n",
        "Here, `mood` can only be either \"happy\" or \"sad\"."
      ]
    },
    {
      "cell_type": "code",
      "execution_count": 37,
      "id": "4ad9749c-b127-433f-baa3-189a9349e9f6",
      "metadata": {
        "id": "4ad9749c-b127-433f-baa3-189a9349e9f6"
      },
      "outputs": [],
      "source": [
        "from typing import TypedDict, Literal\n",
        "\n",
        "class WeatherReport(TypedDict):\n",
        "    city: str\n",
        "    condition: Literal[\"sunny\", \"rainy\", \"cloudy\", \"stormy\"]\n"
      ]
    },
    {
      "cell_type": "markdown",
      "id": "c1a9152d-1728-4a67-9e23-1ef622525047",
      "metadata": {
        "id": "c1a9152d-1728-4a67-9e23-1ef622525047"
      },
      "source": [
        "We can use our defined state class (e.g., here `TypedDictState`) in LangGraph by simply passing it to `StateGraph`.\n",
        "\n",
        "And, we can think about each state key as just a \"channel\" in our graph.\n",
        "\n",
        "As discussed in Module 1, we overwrite the value of a specified key or \"channel\" in each node."
      ]
    },
    {
      "cell_type": "code",
      "execution_count": 38,
      "id": "2f7a0d6d-f70b-44ed-86e3-7cdb39873ba4",
      "metadata": {
        "colab": {
          "base_uri": "https://localhost:8080/",
          "height": 350
        },
        "id": "2f7a0d6d-f70b-44ed-86e3-7cdb39873ba4",
        "outputId": "78f6cce9-bd8e-40c4-95d3-708ff82554ec"
      },
      "outputs": [
        {
          "output_type": "display_data",
          "data": {
            "image/png": "[encoded data removed]",
            "text/plain": [
              "<IPython.core.display.Image object>"
            ]
          },
          "metadata": {}
        }
      ],
      "source": [
        "import random\n",
        "from typing import TypedDict, Literal\n",
        "from IPython.display import Image, display\n",
        "from langgraph.graph import StateGraph, START, END\n",
        "\n",
        "# Define state\n",
        "class WeatherState(TypedDict):\n",
        "    city: str\n",
        "    condition: Literal[\"sunny\", \"rainy\", \"cloudy\", \"stormy\"]\n",
        "\n",
        "# Define nodes\n",
        "def node_1(state):\n",
        "    print(\"---Node 1---\")\n",
        "    return {\"city\": state['city'] + \" Weather Update: \"}\n",
        "\n",
        "def node_sunny(state):\n",
        "    print(\"---Sunny Node---\")\n",
        "    return {\"condition\": \"sunny\"}\n",
        "\n",
        "def node_rainy(state):\n",
        "    print(\"---Rainy Node---\")\n",
        "    return {\"condition\": \"rainy\"}\n",
        "\n",
        "def node_cloudy(state):\n",
        "    print(\"---Cloudy Node---\")\n",
        "    return {\"condition\": \"cloudy\"}\n",
        "\n",
        "def node_stormy(state):\n",
        "    print(\"---Stormy Node---\")\n",
        "    return {\"condition\": \"stormy\"}\n",
        "\n",
        "# Decide which weather node to go to\n",
        "def decide_weather(state) -> Literal[\"node_sunny\", \"node_rainy\", \"node_cloudy\", \"node_stormy\"]:\n",
        "    r = random.random()\n",
        "    if r < 0.25:\n",
        "        return \"node_sunny\"\n",
        "    elif r < 0.5:\n",
        "        return \"node_rainy\"\n",
        "    elif r < 0.75:\n",
        "        return \"node_cloudy\"\n",
        "    else:\n",
        "        return \"node_stormy\"\n",
        "\n",
        "# Build graph\n",
        "builder = StateGraph(WeatherState)\n",
        "builder.add_node(\"node_1\", node_1)\n",
        "builder.add_node(\"node_sunny\", node_sunny)\n",
        "builder.add_node(\"node_rainy\", node_rainy)\n",
        "builder.add_node(\"node_cloudy\", node_cloudy)\n",
        "builder.add_node(\"node_stormy\", node_stormy)\n",
        "\n",
        "# Add edges\n",
        "builder.add_edge(START, \"node_1\")\n",
        "builder.add_conditional_edges(\"node_1\", decide_weather)\n",
        "builder.add_edge(\"node_sunny\", END)\n",
        "builder.add_edge(\"node_rainy\", END)\n",
        "builder.add_edge(\"node_cloudy\", END)\n",
        "builder.add_edge(\"node_stormy\", END)\n",
        "\n",
        "# Compile graph\n",
        "graph = builder.compile()\n",
        "\n",
        "# Display flowchart\n",
        "display(Image(graph.get_graph().draw_mermaid_png()))\n"
      ]
    },
    {
      "cell_type": "markdown",
      "id": "724bb640-2b0e-46c1-9416-b5bcdb9c17c8",
      "metadata": {
        "id": "724bb640-2b0e-46c1-9416-b5bcdb9c17c8"
      },
      "source": [
        "Because our state is a dict, we simply invoke the graph with a dict to set an initial value of the `name` key in our state."
      ]
    },
    {
      "cell_type": "code",
      "execution_count": 39,
      "id": "74e09d32-6a08-4250-b19a-1f701828829d",
      "metadata": {
        "colab": {
          "base_uri": "https://localhost:8080/"
        },
        "id": "74e09d32-6a08-4250-b19a-1f701828829d",
        "outputId": "6110cdc0-4826-4e33-b2f1-93eb6a9c7cdf"
      },
      "outputs": [
        {
          "output_type": "stream",
          "name": "stdout",
          "text": [
            "---Node 1---\n",
            "---Stormy Node---\n"
          ]
        },
        {
          "output_type": "execute_result",
          "data": {
            "text/plain": [
              "{'city': 'Lance Weather Update: ', 'condition': 'stormy'}"
            ]
          },
          "metadata": {},
          "execution_count": 39
        }
      ],
      "source": [
        "graph.invoke({\"city\": \"Lance\"})\n"
      ]
    },
    {
      "cell_type": "markdown",
      "id": "70cc5368-18b8-49c7-b561-41888b092311",
      "metadata": {
        "id": "70cc5368-18b8-49c7-b561-41888b092311"
      },
      "source": [
        "## Dataclass\n",
        "\n",
        "Python's [dataclasses](https://docs.python.org/3/library/dataclasses.html) provide [another way to define structured data](https://www.datacamp.com/tutorial/python-data-classes).\n",
        "\n",
        "Dataclasses offer a concise syntax for creating classes that are primarily used to store data."
      ]
    },
    {
      "cell_type": "code",
      "execution_count": 40,
      "id": "d576fc2c-350b-42ad-89e5-f93ae102dbf8",
      "metadata": {
        "id": "d576fc2c-350b-42ad-89e5-f93ae102dbf8"
      },
      "outputs": [],
      "source": [
        "from dataclasses import dataclass\n",
        "from typing import Literal\n",
        "\n",
        "@dataclass\n",
        "class WeatherData:\n",
        "    city: str\n",
        "    condition: Literal[\"sunny\", \"rainy\", \"cloudy\", \"stormy\"]\n"
      ]
    },
    {
      "cell_type": "markdown",
      "id": "64482b93-3c8f-4a30-925f-9be64e4b8b6f",
      "metadata": {
        "id": "64482b93-3c8f-4a30-925f-9be64e4b8b6f"
      },
      "source": [
        "To access the keys of a `dataclass`, we just need to modify the subscripting used in `node_1`:\n",
        "\n",
        "* We use `state.name` for the `dataclass` state rather than `state[\"name\"]` for the `TypedDict` above\n",
        "\n",
        "You'll notice something a bit odd: in each node, we still return a dictionary to perform the state updates.\n",
        "\n",
        "This is possible because LangGraph stores each key of your state object separately.\n",
        "\n",
        "The object returned by the node only needs to have keys (attributes) that match those in the state!\n",
        "\n",
        "In this case, the `dataclass` has key `name` so we can update it by passing a dict from our node, just as we did when state was a `TypedDict`."
      ]
    },
    {
      "cell_type": "code",
      "execution_count": 41,
      "id": "1e1eda69-916f-4f6e-b400-6e65f73d8716",
      "metadata": {
        "colab": {
          "base_uri": "https://localhost:8080/",
          "height": 350
        },
        "id": "1e1eda69-916f-4f6e-b400-6e65f73d8716",
        "outputId": "1abea8f8-81b2-437e-d34c-da0a8aba73cb"
      },
      "outputs": [
        {
          "output_type": "display_data",
          "data": {
            "image/png": "[encoded data removed]",
            "text/plain": [
              "<IPython.core.display.Image object>"
            ]
          },
          "metadata": {}
        }
      ],
      "source": [
        "import random\n",
        "from dataclasses import dataclass\n",
        "from typing import Literal\n",
        "from IPython.display import Image, display\n",
        "from langgraph.graph import StateGraph, START, END\n",
        "\n",
        "# Dataclass state\n",
        "@dataclass\n",
        "class WeatherData:\n",
        "    city: str\n",
        "    condition: Literal[\"sunny\", \"rainy\", \"cloudy\", \"stormy\"]\n",
        "\n",
        "# Define nodes\n",
        "def node_1(state: WeatherData):\n",
        "    print(\"---Node 1---\")\n",
        "    return {\"city\": state.city + \" Weather Update: \"}\n",
        "\n",
        "def node_sunny(state: WeatherData):\n",
        "    print(\"---Sunny Node---\")\n",
        "    return {\"condition\": \"sunny\"}\n",
        "\n",
        "def node_rainy(state: WeatherData):\n",
        "    print(\"---Rainy Node---\")\n",
        "    return {\"condition\": \"rainy\"}\n",
        "\n",
        "def node_cloudy(state: WeatherData):\n",
        "    print(\"---Cloudy Node---\")\n",
        "    return {\"condition\": \"cloudy\"}\n",
        "\n",
        "def node_stormy(state: WeatherData):\n",
        "    print(\"---Stormy Node---\")\n",
        "    return {\"condition\": \"stormy\"}\n",
        "\n",
        "# Decide which weather node to go to\n",
        "def decide_weather(state: WeatherData) -> Literal[\"node_sunny\", \"node_rainy\", \"node_cloudy\", \"node_stormy\"]:\n",
        "    r = random.random()\n",
        "    if r < 0.25:\n",
        "        return \"node_sunny\"\n",
        "    elif r < 0.5:\n",
        "        return \"node_rainy\"\n",
        "    elif r < 0.75:\n",
        "        return \"node_cloudy\"\n",
        "    else:\n",
        "        return \"node_stormy\"\n",
        "\n",
        "# Build graph\n",
        "builder = StateGraph(WeatherData)\n",
        "builder.add_node(\"node_1\", node_1)\n",
        "builder.add_node(\"node_sunny\", node_sunny)\n",
        "builder.add_node(\"node_rainy\", node_rainy)\n",
        "builder.add_node(\"node_cloudy\", node_cloudy)\n",
        "builder.add_node(\"node_stormy\", node_stormy)\n",
        "\n",
        "# Add edges\n",
        "builder.add_edge(START, \"node_1\")\n",
        "builder.add_conditional_edges(\"node_1\", decide_weather)\n",
        "builder.add_edge(\"node_sunny\", END)\n",
        "builder.add_edge(\"node_rainy\", END)\n",
        "builder.add_edge(\"node_cloudy\", END)\n",
        "builder.add_edge(\"node_stormy\", END)\n",
        "\n",
        "# Compile graph\n",
        "graph = builder.compile()\n",
        "\n",
        "# Display flowchart\n",
        "display(Image(graph.get_graph().draw_mermaid_png()))\n"
      ]
    },
    {
      "cell_type": "markdown",
      "id": "06beb50a-4878-4d7e-ac6c-d60a0f417eb3",
      "metadata": {
        "id": "06beb50a-4878-4d7e-ac6c-d60a0f417eb3"
      },
      "source": [
        "We invoke with a `dataclass` to set the initial values of each key / channel in our state!"
      ]
    },
    {
      "cell_type": "code",
      "execution_count": 46,
      "id": "8c042325-e93d-43e1-9ac7-a0e20c2fb08d",
      "metadata": {
        "colab": {
          "base_uri": "https://localhost:8080/",
          "height": 332
        },
        "id": "8c042325-e93d-43e1-9ac7-a0e20c2fb08d",
        "outputId": "6d915d79-5345-4855-cfa8-7a2ee8ea325f"
      },
      "outputs": [
        {
          "output_type": "error",
          "ename": "ValidationError",
          "evalue": "1 validation error for PydanticWeather\ncondition\n  Value error, Each condition must be one of ['sunny', 'rainy', 'cloudy', 'stormy'] [type=value_error, input_value='crazy', input_type=str]\n    For further information visit https://errors.pydantic.dev/2.11/v/value_error",
          "traceback": [
            "\u001b[0;31m---------------------------------------------------------------------------\u001b[0m",
            "\u001b[0;31mValidationError\u001b[0m                           Traceback (most recent call last)",
            "\u001b[0;32m/tmp/ipython-input-3999905746.py\u001b[0m in \u001b[0;36m<cell line: 0>\u001b[0;34m()\u001b[0m\n\u001b[0;32m----> 1\u001b[0;31m \u001b[0mgraph\u001b[0m\u001b[0;34m.\u001b[0m\u001b[0minvoke\u001b[0m\u001b[0;34m(\u001b[0m\u001b[0mPydanticWeather\u001b[0m\u001b[0;34m(\u001b[0m\u001b[0mcity\u001b[0m\u001b[0;34m=\u001b[0m\u001b[0;34m\"Lance\"\u001b[0m\u001b[0;34m,\u001b[0m \u001b[0mcondition\u001b[0m\u001b[0;34m=\u001b[0m\u001b[0;34m\"crazy\"\u001b[0m\u001b[0;34m)\u001b[0m\u001b[0;34m)\u001b[0m\u001b[0;34m\u001b[0m\u001b[0;34m\u001b[0m\u001b[0m\n\u001b[0m",
            "\u001b[0;32m/usr/local/lib/python3.12/dist-packages/pydantic/main.py\u001b[0m in \u001b[0;36m__init__\u001b[0;34m(self, **data)\u001b[0m\n\u001b[1;32m    251\u001b[0m         \u001b[0;31m# `__tracebackhide__` tells pytest and some other tools to omit this function from tracebacks\u001b[0m\u001b[0;34m\u001b[0m\u001b[0;34m\u001b[0m\u001b[0m\n\u001b[1;32m    252\u001b[0m         \u001b[0m__tracebackhide__\u001b[0m \u001b[0;34m=\u001b[0m \u001b[0;32mTrue\u001b[0m\u001b[0;34m\u001b[0m\u001b[0;34m\u001b[0m\u001b[0m\n\u001b[0;32m--> 253\u001b[0;31m         \u001b[0mvalidated_self\u001b[0m \u001b[0;34m=\u001b[0m \u001b[0mself\u001b[0m\u001b[0;34m.\u001b[0m\u001b[0m__pydantic_validator__\u001b[0m\u001b[0;34m.\u001b[0m\u001b[0mvalidate_python\u001b[0m\u001b[0;34m(\u001b[0m\u001b[0mdata\u001b[0m\u001b[0;34m,\u001b[0m \u001b[0mself_instance\u001b[0m\u001b[0;34m=\u001b[0m\u001b[0mself\u001b[0m\u001b[0;34m)\u001b[0m\u001b[0;34m\u001b[0m\u001b[0;34m\u001b[0m\u001b[0m\n\u001b[0m\u001b[1;32m    254\u001b[0m         \u001b[0;32mif\u001b[0m \u001b[0mself\u001b[0m \u001b[0;32mis\u001b[0m \u001b[0;32mnot\u001b[0m \u001b[0mvalidated_self\u001b[0m\u001b[0;34m:\u001b[0m\u001b[0;34m\u001b[0m\u001b[0;34m\u001b[0m\u001b[0m\n\u001b[1;32m    255\u001b[0m             warnings.warn(\n",
            "\u001b[0;31mValidationError\u001b[0m: 1 validation error for PydanticWeather\ncondition\n  Value error, Each condition must be one of ['sunny', 'rainy', 'cloudy', 'stormy'] [type=value_error, input_value='crazy', input_type=str]\n    For further information visit https://errors.pydantic.dev/2.11/v/value_error"
          ]
        }
      ],
      "source": [
        "graph.invoke(PydanticWeather(city=\"Lance\", condition=\"crazy\"))\n"
      ]
    },
    {
      "cell_type": "markdown",
      "id": "2405e49b-e786-4bf9-ac85-1fb941d01bcd",
      "metadata": {
        "id": "2405e49b-e786-4bf9-ac85-1fb941d01bcd"
      },
      "source": [
        "## Pydantic\n",
        "\n",
        "As mentioned, `TypedDict` and `dataclasses` provide type hints but they don't enforce types at runtime.\n",
        "\n",
        "This means you could potentially assign invalid values without raising an error!\n",
        "\n",
        "For example, we can set `mood` to `mad` even though our type hint specifies `mood: list[Literal[\"happy\",\"sad\"]]`."
      ]
    },
    {
      "cell_type": "code",
      "execution_count": null,
      "id": "522fcc76-abf7-452a-9d7b-000e06942d94",
      "metadata": {
        "id": "522fcc76-abf7-452a-9d7b-000e06942d94"
      },
      "outputs": [],
      "source": [
        "dataclass_instance = DataclassState(name=\"Lance\", mood=\"mad\")"
      ]
    },
    {
      "cell_type": "markdown",
      "id": "4f095c3a-96b5-4318-9303-20424b4455e9",
      "metadata": {
        "id": "4f095c3a-96b5-4318-9303-20424b4455e9"
      },
      "source": [
        "[Pydantic](https://docs.pydantic.dev/latest/api/base_model/) is a data validation and settings management library using Python type annotations.\n",
        "\n",
        "It's particularly well-suited [for defining state schemas in LangGraph](https://langchain-ai.github.io/langgraph/how-tos/state-model/) due to its validation capabilities.\n",
        "\n",
        "Pydantic can perform validation to check whether data conforms to the specified types and constraints at runtime."
      ]
    },
    {
      "cell_type": "code",
      "execution_count": null,
      "id": "62e8720e-217f-4b98-837a-af45c3fa577f",
      "metadata": {
        "id": "62e8720e-217f-4b98-837a-af45c3fa577f"
      },
      "outputs": [],
      "source": [
        "from pydantic import BaseModel, field_validator, ValidationError\n",
        "\n",
        "class PydanticWeather(BaseModel):\n",
        "    city: str\n",
        "    condition: str  # \"sunny\", \"rainy\", \"cloudy\", or \"stormy\"\n",
        "\n",
        "    @field_validator('condition')\n",
        "    @classmethod\n",
        "    def validate_condition(cls, value):\n",
        "        allowed_conditions = [\"sunny\", \"rainy\", \"cloudy\", \"stormy\"]\n",
        "        if value not in allowed_conditions:\n",
        "            raise ValueError(f\"Each condition must be one of {allowed_conditions}\")\n",
        "        return value\n",
        "\n",
        "# Example usage\n",
        "try:\n",
        "    weather = PydanticWeather(city=\"Delhi\", condition=\"snowy\")\n",
        "except ValidationError as e:\n",
        "    print(\"Validation Error:\", e)\n",
        "\n",
        "# Correct usage\n",
        "weather = PydanticWeather(city=\"Delhi\", condition=\"sunny\")\n",
        "print(weather)\n"
      ]
    },
    {
      "cell_type": "markdown",
      "id": "f29913ca-0295-48eb-af4e-cae515dd9a9c",
      "metadata": {
        "id": "f29913ca-0295-48eb-af4e-cae515dd9a9c"
      },
      "source": [
        "We can use `PydanticState` in our graph seamlessly."
      ]
    },
    {
      "cell_type": "code",
      "execution_count": null,
      "id": "91db3393-b7f8-46e5-8129-0e7539b2804c",
      "metadata": {
        "id": "91db3393-b7f8-46e5-8129-0e7539b2804c"
      },
      "outputs": [],
      "source": [
        "import random\n",
        "from IPython.display import Image, display\n",
        "from langgraph.graph import StateGraph, START, END\n",
        "from pydantic import BaseModel, field_validator, ValidationError\n",
        "from typing import Literal\n",
        "\n",
        "# Pydantic state\n",
        "class PydanticWeather(BaseModel):\n",
        "    city: str\n",
        "    condition: str  # \"sunny\", \"rainy\", \"cloudy\", or \"stormy\"\n",
        "\n",
        "    @field_validator('condition')\n",
        "    @classmethod\n",
        "    def validate_condition(cls, value):\n",
        "        allowed_conditions = [\"sunny\", \"rainy\", \"cloudy\", \"stormy\"]\n",
        "        if value not in allowed_conditions:\n",
        "            raise ValueError(f\"Each condition must be one of {allowed_conditions}\")\n",
        "        return value\n",
        "\n",
        "# Define nodes\n",
        "def node_1(state: PydanticWeather):\n",
        "    print(\"---Node 1---\")\n",
        "    return {\"city\": state.city + \" Weather Update: \"}\n",
        "\n",
        "def node_sunny(state: PydanticWeather):\n",
        "    print(\"---Sunny Node---\")\n",
        "    return {\"condition\": \"sunny\"}\n",
        "\n",
        "def node_rainy(state: PydanticWeather):\n",
        "    print(\"---Rainy Node---\")\n",
        "    return {\"condition\": \"rainy\"}\n",
        "\n",
        "def node_cloudy(state: PydanticWeather):\n",
        "    print(\"---Cloudy Node---\")\n",
        "    return {\"condition\": \"cloudy\"}\n",
        "\n",
        "def node_stormy(state: PydanticWeather):\n",
        "    print(\"---Stormy Node---\")\n",
        "    return {\"condition\": \"stormy\"}\n",
        "\n",
        "# Decide which weather node to go to\n",
        "def decide_weather(state: PydanticWeather) -> Literal[\"node_sunny\", \"node_rainy\", \"node_cloudy\", \"node_stormy\"]:\n",
        "    r = random.random()\n",
        "    if r < 0.25:\n",
        "        return \"node_sunny\"\n",
        "    elif r < 0.5:\n",
        "        return \"node_rainy\"\n",
        "    elif r < 0.75:\n",
        "        return \"node_cloudy\"\n",
        "    else:\n",
        "        return \"node_stormy\"\n",
        "\n",
        "# Build graph\n",
        "builder = StateGraph(PydanticWeather)\n",
        "builder.add_node(\"node_1\", node_1)\n",
        "builder.add_node(\"node_sunny\", node_sunny)\n",
        "builder.add_node(\"node_rainy\", node_rainy)\n",
        "builder.add_node(\"node_cloudy\", node_cloudy)\n",
        "builder.add_node(\"node_stormy\", node_stormy)\n",
        "\n",
        "# Logic\n",
        "builder.add_edge(START, \"node_1\")\n",
        "builder.add_conditional_edges(\"node_1\", decide_weather)\n",
        "builder.add_edge(\"node_sunny\", END)\n",
        "builder.add_edge(\"node_rainy\", END)\n",
        "builder.add_edge(\"node_cloudy\", END)\n",
        "builder.add_edge(\"node_stormy\", END)\n",
        "\n",
        "# Compile graph\n",
        "graph = builder.compile()\n",
        "\n",
        "# View flowchart\n",
        "display(Image(graph.get_graph().draw_mermaid_png()))\n"
      ]
    },
    {
      "cell_type": "code",
      "execution_count": null,
      "id": "e96c78be-b483-4fa4-949b-62d4274e97ac",
      "metadata": {
        "id": "e96c78be-b483-4fa4-949b-62d4274e97ac"
      },
      "outputs": [],
      "source": [
        "graph.invoke(PydanticWeather(city=\"Delhi\", condition=\"sunny\"))\n"
      ]
    },
    {
      "cell_type": "code",
      "execution_count": null,
      "id": "8119232a-7d56-4abc-b0ef-18bf5f0cc9fd",
      "metadata": {
        "id": "8119232a-7d56-4abc-b0ef-18bf5f0cc9fd"
      },
      "outputs": [],
      "source": [
        "graph.invoke(PydanticWeather(city=\"Banglore\", condition=\"Stormy\"))  # This will raise a ValidationError as we require\n"
      ]
    }
  ],
  "metadata": {
    "kernelspec": {
      "display_name": "Python 3 (ipykernel)",
      "language": "python",
      "name": "python3"
    },
    "language_info": {
      "codemirror_mode": {
        "name": "ipython",
        "version": 3
      },
      "file_extension": ".py",
      "mimetype": "text/x-python",
      "name": "python",
      "nbconvert_exporter": "python",
      "pygments_lexer": "ipython3",
      "version": "3.12.1"
    },
    "colab": {
      "provenance": []
    }
  },
  "nbformat": 4,
  "nbformat_minor": 5
}