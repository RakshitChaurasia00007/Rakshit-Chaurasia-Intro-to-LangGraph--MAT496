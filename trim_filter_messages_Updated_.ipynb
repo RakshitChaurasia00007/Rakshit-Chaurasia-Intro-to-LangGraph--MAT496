{
  "cells": [
    {
      "cell_type": "markdown",
      "id": "fb0ebaf1",
      "metadata": {
        "id": "fb0ebaf1"
      },
      "source": [
        "[![Open in Colab](https://colab.research.google.com/assets/colab-badge.svg)](https://colab.research.google.com/github/langchain-ai/langchain-academy/blob/main/module-2/trim-filter-messages.ipynb) [![Open in LangChain Academy](https://cdn.prod.website-files.com/65b8cd72835ceeacd4449a53/66e9eba12c7b7688aa3dbb5e_LCA-badge-green.svg)](https://academy.langchain.com/courses/take/intro-to-langgraph/lessons/58239435-lesson-4-trim-and-filter-messages)"
      ]
    },
    {
      "cell_type": "markdown",
      "id": "c52ea2f9-03ff-4647-b782-46867ebed04e",
      "metadata": {
        "id": "c52ea2f9-03ff-4647-b782-46867ebed04e"
      },
      "source": [
        "# Filtering and trimming messages\n",
        "\n",
        "## Review\n",
        "\n",
        "Now, we have a deeper understanding of a few things:\n",
        "\n",
        "* How to customize the graph state schema\n",
        "* How to define custom state reducers\n",
        "* How to use multiple graph state schemas\n",
        "\n",
        "## Goals\n",
        "\n",
        "Now, we can start using these concepts with models in LangGraph!\n",
        "\n",
        "In the next few sessions, we'll build towards a chatbot that has long-term memory.\n",
        "\n",
        "Because our chatbot will use messages, let's first talk a bit more about advanced ways to work with messages in graph state."
      ]
    },
    {
      "cell_type": "code",
      "execution_count": 1,
      "id": "d5197aba-5d46-421b-ae3b-4e3034edcfda",
      "metadata": {
        "id": "d5197aba-5d46-421b-ae3b-4e3034edcfda"
      },
      "outputs": [],
      "source": [
        "%%capture --no-stderr\n",
        "%pip install --quiet -U langchain_core langgraph langchain_openai"
      ]
    },
    {
      "cell_type": "code",
      "execution_count": 24,
      "id": "768dc606-d5f2-468d-96ea-910b264e0f8a",
      "metadata": {
        "id": "768dc606-d5f2-468d-96ea-910b264e0f8a"
      },
      "outputs": [],
      "source": [
        "import os, getpass\n",
        "\n",
        "def _set_env(var: str):\n",
        "    if not os.environ.get(var):\n",
        "        os.environ[var] = getpass.getpass(f\"{var}: \")\n",
        "\n",
        "_set_env(\"api key to be used here\")"
      ]
    },
    {
      "cell_type": "markdown",
      "id": "8b64d8d3-e4ac-4961-bdc0-688825eb5864",
      "metadata": {
        "id": "8b64d8d3-e4ac-4961-bdc0-688825eb5864"
      },
      "source": [
        "We'll use [LangSmith](https://docs.smith.langchain.com/) for [tracing](https://docs.smith.langchain.com/concepts/tracing).\n",
        "\n",
        "We'll log to a project, `langchain-academy`."
      ]
    },
    {
      "cell_type": "code",
      "execution_count": 25,
      "id": "dd020c79",
      "metadata": {
        "id": "dd020c79"
      },
      "outputs": [],
      "source": [
        "_set_env(\"Langsmith api key to be used here\")\n",
        "os.environ[\"LANGSMITH_TRACING\"] = \"true\"\n",
        "os.environ[\"LANGSMITH_PROJECT\"] = \"langchain-academy\""
      ]
    },
    {
      "cell_type": "markdown",
      "id": "72f3fc90-58b6-4f7f-897e-dddf6ae532c7",
      "metadata": {
        "id": "72f3fc90-58b6-4f7f-897e-dddf6ae532c7"
      },
      "source": [
        "## Messages as state\n",
        "\n",
        "First, let's define some messages."
      ]
    },
    {
      "cell_type": "code",
      "execution_count": 26,
      "id": "cf11a463-e27a-4a05-b41d-64882e38edca",
      "metadata": {
        "colab": {
          "base_uri": "https://localhost:8080/"
        },
        "id": "cf11a463-e27a-4a05-b41d-64882e38edca",
        "outputId": "80ace66d-0281-49e5-ea05-2fdc85249044"
      },
      "outputs": [
        {
          "output_type": "stream",
          "name": "stdout",
          "text": [
            "==================================\u001b[1m Ai Message \u001b[0m==================================\n",
            "Name: Bot\n",
            "\n",
            "Hey there! You mentioned an interest in marine life?\n",
            "================================\u001b[1m Human Message \u001b[0m=================================\n",
            "Name: Lance\n",
            "\n",
            "Yes! I know a bit about dolphins, but what else should I read about?\n"
          ]
        }
      ],
      "source": [
        "from pprint import pprint\n",
        "from langchain_core.messages import AIMessage, HumanMessage\n",
        "\n",
        "# Creating a short conversation to explore ocean animals\n",
        "dialogue_log = [\n",
        "    AIMessage(content=\"Hey there! You mentioned an interest in marine life?\", name=\"Bot\"),\n",
        "    HumanMessage(content=\"Yes! I know a bit about dolphins, but what else should I read about?\", name=\"Lance\")\n",
        "]\n",
        "\n",
        "# Displaying the structured messages\n",
        "for msg in dialogue_log:\n",
        "    msg.pretty_print()\n"
      ]
    },
    {
      "cell_type": "markdown",
      "id": "b814adcb-6bf9-4b75-be11-e59f933fbd0c",
      "metadata": {
        "id": "b814adcb-6bf9-4b75-be11-e59f933fbd0c"
      },
      "source": [
        "Recall we can pass them to a chat model."
      ]
    },
    {
      "cell_type": "code",
      "execution_count": 27,
      "id": "4712e288-e622-48a2-ad3f-a52f65f3ab08",
      "metadata": {
        "id": "4712e288-e622-48a2-ad3f-a52f65f3ab08"
      },
      "outputs": [],
      "source": [
        "from langchain_openai import ChatOpenAI\n",
        "\n",
        "chat_model = ChatOpenAI(model=\"gpt-4o-mini\", openai_api_key=\"api key to be used here\")\n"
      ]
    },
    {
      "cell_type": "markdown",
      "id": "fbd1dab8-0af8-4621-8264-ce65065f76ec",
      "metadata": {
        "id": "fbd1dab8-0af8-4621-8264-ce65065f76ec"
      },
      "source": [
        "We can run our chat model in a simple graph with `MessagesState`."
      ]
    },
    {
      "cell_type": "code",
      "execution_count": 28,
      "id": "bbd8c39c-633b-4176-9cc6-8318e42bb5dd",
      "metadata": {
        "colab": {
          "base_uri": "https://localhost:8080/",
          "height": 251
        },
        "id": "bbd8c39c-633b-4176-9cc6-8318e42bb5dd",
        "outputId": "d66bb840-ecf9-4ed3-ef9f-5497f832e0c3"
      },
      "outputs": [
        {
          "output_type": "display_data",
          "data": {
            "image/png": "[encoded data removed]",
            "text/plain": [
              "<IPython.core.display.Image object>"
            ]
          },
          "metadata": {}
        }
      ],
      "source": [
        "from IPython.display import Image, display\n",
        "from langgraph.graph import MessagesState\n",
        "from langgraph.graph import StateGraph, START, END\n",
        "from langchain_openai import ChatOpenAI\n",
        "import os\n",
        "\n",
        "# ==========================\n",
        "# Option 1: Set API key as environment variable\n",
        "# Replace the string below with your actual API key\n",
        "os.environ[\"OPENAI_API_KEY\"] = \"api key to be used here\"\n",
        "# ==========================\n",
        "\n",
        "\n",
        "# If using Option 1, initialize normally:\n",
        "llm = ChatOpenAI(model=\"gpt-4o-mini\")\n",
        "\n",
        "# Node function\n",
        "def chat_model_node(state: MessagesState):\n",
        "    # Invokes the LLM with the current messages\n",
        "    return {\"messages\": llm.invoke(state[\"messages\"])}\n",
        "\n",
        "# Build graph\n",
        "builder = StateGraph(MessagesState)\n",
        "builder.add_node(\"chat_model\", chat_model_node)\n",
        "builder.add_edge(START, \"chat_model\")\n",
        "builder.add_edge(\"chat_model\", END)\n",
        "graph = builder.compile()\n",
        "\n",
        "# View the graph\n",
        "display(Image(graph.get_graph().draw_mermaid_png()))\n"
      ]
    },
    {
      "cell_type": "code",
      "execution_count": 33,
      "id": "3a5a3e4a-ccfd-4d14-81f1-f0de6e11a1e4",
      "metadata": {
        "colab": {
          "base_uri": "https://localhost:8080/",
          "height": 400
        },
        "id": "3a5a3e4a-ccfd-4d14-81f1-f0de6e11a1e4",
        "outputId": "965d8204-084c-4edc-963b-e59c7d309039"
      },
      "outputs": [
        {
          "output_type": "display_data",
          "data": {
            "image/png": "[encoded data removed]",
            "text/plain": [
              "<IPython.core.display.Image object>"
            ]
          },
          "metadata": {}
        },
        {
          "output_type": "stream",
          "name": "stderr",
          "text": [
            "WARNING:langsmith.client:Failed to send compressed multipart ingest: langsmith.utils.LangSmithAuthError: Authentication failed for https://api.smith.langchain.com/runs/multipart. HTTPError('401 Client Error: Unauthorized for url: https://api.smith.langchain.com/runs/multipart', '{\"error\":\"Unauthorized\"}\\n')trace=4e3c8889-a808-4c9f-b736-1295eb001c4f,id=4e3c8889-a808-4c9f-b736-1295eb001c4f; trace=4e3c8889-a808-4c9f-b736-1295eb001c4f,id=fed1ef44-4ae8-46b0-91ee-1178b9c57c8b; trace=4e3c8889-a808-4c9f-b736-1295eb001c4f,id=62f28d2a-1825-469c-9cb3-f76b5a5a2c59\n"
          ]
        },
        {
          "output_type": "stream",
          "name": "stdout",
          "text": [
            "================================\u001b[1m Human Message \u001b[0m=================================\n",
            "\n",
            "Hello, how are you?\n",
            "==================================\u001b[1m Ai Message \u001b[0m==================================\n",
            "\n",
            "Hello! I'm just a computer program, so I don't have feelings, but I'm here and ready to help you. How can I assist you today?\n"
          ]
        }
      ],
      "source": [
        "from IPython.display import Image, display\n",
        "from langgraph.graph import MessagesState\n",
        "from langgraph.graph import StateGraph, START, END\n",
        "from langchain_openai import ChatOpenAI\n",
        "import os\n",
        "\n",
        "# ==========================\n",
        "# Add your API key here\n",
        "os.environ[\"OPENAI_API_KEY\"] = \"api key to be used here\"\n",
        "# ==========================\n",
        "\n",
        "# Initialize the LLM\n",
        "llm = ChatOpenAI(model=\"gpt-4o-mini\")\n",
        "\n",
        "# Node function\n",
        "def chat_model_node(state: MessagesState):\n",
        "    return {\"messages\": llm.invoke(state[\"messages\"])}\n",
        "\n",
        "# Build graph\n",
        "builder = StateGraph(MessagesState)\n",
        "builder.add_node(\"chat_model\", chat_model_node)\n",
        "builder.add_edge(START, \"chat_model\")\n",
        "builder.add_edge(\"chat_model\", END)\n",
        "graph = builder.compile()\n",
        "\n",
        "# View the graph\n",
        "display(Image(graph.get_graph().draw_mermaid_png()))\n",
        "\n",
        "# ==========================\n",
        "# Invoke the graph with messages\n",
        "messages = [{\"role\": \"user\", \"content\": \"Hello, how are you?\"}]\n",
        "output = graph.invoke({'messages': messages})\n",
        "\n",
        "# Print each message neatly\n",
        "for m in output['messages']:\n",
        "    m.pretty_print()\n",
        "# ==========================\n"
      ]
    },
    {
      "cell_type": "markdown",
      "id": "34c33e63-1ef4-412d-bb10-6a1b9e5b35a7",
      "metadata": {
        "id": "34c33e63-1ef4-412d-bb10-6a1b9e5b35a7"
      },
      "source": [
        "## Reducer\n",
        "\n",
        "A practical challenge when working with messages is managing long-running conversations.\n",
        "\n",
        "Long-running conversations result in high token usage and latency if we are not careful, because we pass a growing list of messages to the model.\n",
        "\n",
        "We have a few ways to address this.\n",
        "\n",
        "First, recall the trick we saw using `RemoveMessage` and the `add_messages` reducer."
      ]
    },
    {
      "cell_type": "code",
      "execution_count": 34,
      "id": "222c6bc5-bb0e-4a43-80f5-c8ec38d99f3a",
      "metadata": {
        "colab": {
          "base_uri": "https://localhost:8080/",
          "height": 555
        },
        "id": "222c6bc5-bb0e-4a43-80f5-c8ec38d99f3a",
        "outputId": "52552cc5-92b2-477e-aa24-210a28e36d8e"
      },
      "outputs": [
        {
          "output_type": "display_data",
          "data": {
            "image/png": "[encoded data removed]",
            "text/plain": [
              "<IPython.core.display.Image object>"
            ]
          },
          "metadata": {}
        },
        {
          "output_type": "stream",
          "name": "stderr",
          "text": [
            "WARNING:langsmith.client:Failed to send compressed multipart ingest: langsmith.utils.LangSmithAuthError: Authentication failed for https://api.smith.langchain.com/runs/multipart. HTTPError('401 Client Error: Unauthorized for url: https://api.smith.langchain.com/runs/multipart', '{\"error\":\"Unauthorized\"}\\n')trace=e6d95b8f-4250-4662-a6fc-1577a6860dc5,id=e6d95b8f-4250-4662-a6fc-1577a6860dc5; trace=e6d95b8f-4250-4662-a6fc-1577a6860dc5,id=c73eba75-df5c-4b03-b83d-c1eee2cb52c7; trace=e6d95b8f-4250-4662-a6fc-1577a6860dc5,id=c73eba75-df5c-4b03-b83d-c1eee2cb52c7; trace=e6d95b8f-4250-4662-a6fc-1577a6860dc5,id=7ee191d9-18a7-4f93-82ef-6c6645b3e859; trace=e6d95b8f-4250-4662-a6fc-1577a6860dc5,id=32fb35c0-29e4-4ec1-9289-171acafe4b4b\n"
          ]
        },
        {
          "output_type": "stream",
          "name": "stdout",
          "text": [
            "================================\u001b[1m Human Message \u001b[0m=================================\n",
            "\n",
            "Tell me a fun fact about whales.\n",
            "================================\u001b[1m Human Message \u001b[0m=================================\n",
            "\n",
            "Can you summarize it in one line?\n",
            "==================================\u001b[1m Ai Message \u001b[0m==================================\n",
            "\n",
            "Humpback whales are known for their long, complex songs, which can last up to 20 minutes and can be heard over vast ocean distances!\n"
          ]
        }
      ],
      "source": [
        "from IPython.display import Image, display\n",
        "from langgraph.graph import MessagesState, StateGraph, START, END\n",
        "from langchain_openai import ChatOpenAI\n",
        "from langchain_core.messages import RemoveMessage\n",
        "\n",
        "# ==========================\n",
        "# Initialize the LLM\n",
        "# Replace the string below with your actual OpenAI API key\n",
        "llm = ChatOpenAI(model=\"gpt-4o-mini\", openai_api_key=\"api key to be used here\")\n",
        "# ==========================\n",
        "\n",
        "# Node 1: Filter messages to keep only the 2 most recent\n",
        "def filter_messages(state: MessagesState):\n",
        "    delete_messages = [RemoveMessage(id=m.id) for m in state[\"messages\"][:-2]]\n",
        "    return {\"messages\": delete_messages}\n",
        "\n",
        "# Node 2: Send messages to the LLM\n",
        "def chat_model_node(state: MessagesState):\n",
        "    return {\"messages\": [llm.invoke(state[\"messages\"])]}\n",
        "\n",
        "# Build the graph\n",
        "builder = StateGraph(MessagesState)\n",
        "builder.add_node(\"filter\", filter_messages)\n",
        "builder.add_node(\"chat_model\", chat_model_node)\n",
        "builder.add_edge(START, \"filter\")\n",
        "builder.add_edge(\"filter\", \"chat_model\")\n",
        "builder.add_edge(\"chat_model\", END)\n",
        "graph = builder.compile()\n",
        "\n",
        "# View the graph\n",
        "display(Image(graph.get_graph().draw_mermaid_png()))\n",
        "\n",
        "# ==========================\n",
        "# Invoke the graph with sample messages\n",
        "messages = [\n",
        "    {\"role\": \"user\", \"content\": \"Hello, how are you?\"},\n",
        "    {\"role\": \"user\", \"content\": \"Tell me a fun fact about whales.\"},\n",
        "    {\"role\": \"user\", \"content\": \"Can you summarize it in one line?\"}\n",
        "]\n",
        "\n",
        "output = graph.invoke({'messages': messages})\n",
        "\n",
        "# Print the model responses neatly\n",
        "for m in output['messages']:\n",
        "    m.pretty_print()\n",
        "# ==========================\n"
      ]
    },
    {
      "cell_type": "code",
      "execution_count": 35,
      "id": "95a7c2cc-54ce-43e7-9a90-abf37827d709",
      "metadata": {
        "colab": {
          "base_uri": "https://localhost:8080/",
          "height": 961
        },
        "id": "95a7c2cc-54ce-43e7-9a90-abf37827d709",
        "outputId": "16550b88-baf6-4b76-dd3f-b84ef9eb7e26"
      },
      "outputs": [
        {
          "output_type": "display_data",
          "data": {
            "image/png": "[encoded data removed]",
            "text/plain": [
              "<IPython.core.display.Image object>"
            ]
          },
          "metadata": {}
        },
        {
          "output_type": "stream",
          "name": "stderr",
          "text": [
            "WARNING:langsmith.client:Failed to send compressed multipart ingest: langsmith.utils.LangSmithAuthError: Authentication failed for https://api.smith.langchain.com/runs/multipart. HTTPError('401 Client Error: Unauthorized for url: https://api.smith.langchain.com/runs/multipart', '{\"error\":\"Unauthorized\"}\\n')trace=0f744e7f-0c62-49b4-b558-a2574ed38b4f,id=0f744e7f-0c62-49b4-b558-a2574ed38b4f; trace=0f744e7f-0c62-49b4-b558-a2574ed38b4f,id=19033e73-941a-4bfe-8bb3-23955f9998eb; trace=0f744e7f-0c62-49b4-b558-a2574ed38b4f,id=19033e73-941a-4bfe-8bb3-23955f9998eb; trace=0f744e7f-0c62-49b4-b558-a2574ed38b4f,id=418b0e07-5351-4f22-bd27-a988455a478f; trace=0f744e7f-0c62-49b4-b558-a2574ed38b4f,id=45574566-6b96-4aa4-8925-29aefc38c6fd\n"
          ]
        },
        {
          "output_type": "stream",
          "name": "stdout",
          "text": [
            "==================================\u001b[1m Ai Message \u001b[0m==================================\n",
            "Name: Bot\n",
            "\n",
            "So you said you were researching ocean mammals?\n",
            "================================\u001b[1m Human Message \u001b[0m=================================\n",
            "Name: Lance\n",
            "\n",
            "Yes, I know about whales. But what others should I learn about?\n",
            "==================================\u001b[1m Ai Message \u001b[0m==================================\n",
            "\n",
            "In addition to whales, there are several fascinating groups of ocean mammals you might want to explore:\n",
            "\n",
            "1. **Dolphins**: These highly intelligent creatures belong to the family Delphinidae. Common species include the bottlenose dolphin and the common dolphin.\n",
            "\n",
            "2. **Porpoises**: Similar to dolphins but generally smaller and with different tooth shapes, porpoises are part of the family Phocoenidae. The harbour porpoise is a well-known species.\n",
            "\n",
            "3. **Sea Lions**: These pinnipeds (flipper-footed) are known for their vocalizations and playful behavior. The California sea lion is a prominent species often seen in coastal areas.\n",
            "\n",
            "4. **Seals**: Also pinnipeds, seals are generally more adapted to a life in the water compared to sea lions. Examples include the grey seal and the harp seal.\n",
            "\n",
            "5. **Manatees and Dugongs**: These are the only fully herbivorous marine mammals. Manatees are native to the Americas, while dugongs are found in the Indo-Pacific region.\n",
            "\n",
            "6. **Narwhals**: Often called the \"unicorns of the sea,\" narwhals are known for their long, spiral tusks, which are actually elongated teeth.\n",
            "\n",
            "7. **Beluga Whales**: Known for their white color and vocalizations, belugas are social animals often found in Arctic and sub-Arctic regions.\n",
            "\n",
            "8. **Sea Otters**: These small marine mammals are known for their dense fur and playful nature. They play a crucial role in maintaining kelp forest ecosystems.\n",
            "\n",
            "9. **Polar Bears**: While primarily terrestrial, polar bears are excellent swimmers and spend considerable time in the ocean hunting for seals.\n",
            "\n",
            "Exploring the unique adaptations, behaviors, and habitats of these marine mammals can provide a deeper understanding of ocean ecosystems!\n"
          ]
        }
      ],
      "source": [
        "from IPython.display import Image, display\n",
        "from langgraph.graph import MessagesState, StateGraph, START, END\n",
        "from langchain_openai import ChatOpenAI\n",
        "from langchain_core.messages import RemoveMessage, AIMessage, HumanMessage\n",
        "\n",
        "# ==========================\n",
        "# Initialize the LLM with your API key\n",
        "llm = ChatOpenAI(model=\"gpt-4o-mini\", openai_api_key=\"api key to be used here\")\n",
        "# ==========================\n",
        "\n",
        "# Node 1: Filter messages to keep only the 2 most recent\n",
        "def filter_messages(state: MessagesState):\n",
        "    delete_messages = [RemoveMessage(id=m.id) for m in state[\"messages\"][:-2]]\n",
        "    return {\"messages\": delete_messages}\n",
        "\n",
        "# Node 2: Send messages to the LLM\n",
        "def chat_model_node(state: MessagesState):\n",
        "    return {\"messages\": [llm.invoke(state[\"messages\"])]}\n",
        "\n",
        "# Build the graph\n",
        "builder = StateGraph(MessagesState)\n",
        "builder.add_node(\"filter\", filter_messages)\n",
        "builder.add_node(\"chat_model\", chat_model_node)\n",
        "builder.add_edge(START, \"filter\")\n",
        "builder.add_edge(\"filter\", \"chat_model\")\n",
        "builder.add_edge(\"chat_model\", END)\n",
        "graph = builder.compile()\n",
        "\n",
        "# View the graph\n",
        "display(Image(graph.get_graph().draw_mermaid_png()))\n",
        "\n",
        "# ==========================\n",
        "# Pre-populated conversation\n",
        "messages = [\n",
        "    AIMessage(\"Hi.\", name=\"Bot\", id=\"1\"),\n",
        "    HumanMessage(\"Hi.\", name=\"Lance\", id=\"2\"),\n",
        "    AIMessage(\"So you said you were researching ocean mammals?\", name=\"Bot\", id=\"3\"),\n",
        "    HumanMessage(\"Yes, I know about whales. But what others should I learn about?\", name=\"Lance\", id=\"4\")\n",
        "]\n",
        "\n",
        "# Invoke the graph\n",
        "output = graph.invoke({'messages': messages})\n",
        "\n",
        "# Print model responses neatly\n",
        "for m in output['messages']:\n",
        "    m.pretty_print()\n",
        "# ==========================\n"
      ]
    },
    {
      "cell_type": "markdown",
      "id": "f506457d-014b-4fee-a684-e5edfb4b8f0d",
      "metadata": {
        "id": "f506457d-014b-4fee-a684-e5edfb4b8f0d"
      },
      "source": [
        "## Filtering messages\n",
        "\n",
        "If you don't need or want to modify the graph state, you can just filter the messages you pass to the chat model.\n",
        "\n",
        "For example, just pass in a filtered list: `llm.invoke(messages[-1:])` to the model."
      ]
    },
    {
      "cell_type": "code",
      "execution_count": 38,
      "id": "22d0b904-7cd6-486b-8948-105bee3d4683",
      "metadata": {
        "colab": {
          "base_uri": "https://localhost:8080/",
          "height": 1000
        },
        "id": "22d0b904-7cd6-486b-8948-105bee3d4683",
        "outputId": "010a50f1-de9d-44ca-82a6-ae7760563a08"
      },
      "outputs": [
        {
          "output_type": "display_data",
          "data": {
            "image/png": "[encoded data removed]",
            "text/plain": [
              "<IPython.core.display.Image object>"
            ]
          },
          "metadata": {}
        },
        {
          "output_type": "stream",
          "name": "stderr",
          "text": [
            "WARNING:langsmith.client:Failed to send compressed multipart ingest: langsmith.utils.LangSmithAuthError: Authentication failed for https://api.smith.langchain.com/runs/multipart. HTTPError('401 Client Error: Unauthorized for url: https://api.smith.langchain.com/runs/multipart', '{\"error\":\"Unauthorized\"}\\n')trace=b3a5f105-aef6-464d-afea-81df1da12110,id=b3a5f105-aef6-464d-afea-81df1da12110; trace=b3a5f105-aef6-464d-afea-81df1da12110,id=9b1875ac-ddaa-48aa-989c-3746922fb656; trace=b3a5f105-aef6-464d-afea-81df1da12110,id=9db470d7-275a-402e-911f-657da9bbfb6b\n"
          ]
        },
        {
          "output_type": "stream",
          "name": "stdout",
          "text": [
            "==================================\u001b[1m Ai Message \u001b[0m==================================\n",
            "Name: Bot\n",
            "\n",
            "Hi.\n",
            "================================\u001b[1m Human Message \u001b[0m=================================\n",
            "Name: Lance\n",
            "\n",
            "Hi.\n",
            "==================================\u001b[1m Ai Message \u001b[0m==================================\n",
            "Name: Bot\n",
            "\n",
            "So you said you were researching ocean mammals?\n",
            "================================\u001b[1m Human Message \u001b[0m=================================\n",
            "Name: Lance\n",
            "\n",
            "Yes, I know about whales. But what others should I learn about?\n",
            "==================================\u001b[1m Ai Message \u001b[0m==================================\n",
            "\n",
            "If you're interested in learning about marine life beyond whales, here are some fascinating topics and species to explore:\n",
            "\n",
            "1. **Dolphins**: Known for their intelligence and social behavior, dolphins are closely related to whales and have complex communication systems.\n",
            "\n",
            "2. **Sharks**: These apex predators play crucial roles in marine ecosystems. Learn about their different species, behaviors, and importance in ocean health.\n",
            "\n",
            "3. **Sea Turtles**: These ancient reptiles have fascinating life cycles and face many conservation challenges.\n",
            "\n",
            "4. **Coral Reefs**: Explore the biodiversity of coral ecosystems, their importance, and the threats they face from climate change and pollution.\n",
            "\n",
            "5. **Octopuses**: Known for their intelligence and unique behaviors, octopuses are intriguing cephalopods with incredible adaptability.\n",
            "\n",
            "6. **Seahorses**: These unique fish are known for their distinctive appearance and male pregnancy, making them a fascinating subject of study.\n",
            "\n",
            "7. **Jellyfish**: Learn about their biology, life cycles, and the role they play in marine ecosystems.\n",
            "\n",
            "8. **Sea Lions and Seals**: These marine mammals exhibit interesting social behaviors and adaptations to life in the water.\n",
            "\n",
            "9. **Krill and Plankton**: These small organisms are the foundation of the marine food web, supporting larger species, including whales.\n",
            "\n",
            "10. **Marine Conservation**: Understand the threats facing ocean ecosystems and what is being done to protect marine life.\n",
            "\n",
            "Exploring these topics will give you a well-rounded understanding of marine biology and the interconnectedness of ocean life.\n"
          ]
        }
      ],
      "source": [
        "from IPython.display import Image, display\n",
        "from langgraph.graph import MessagesState, StateGraph, START, END\n",
        "from langchain_openai import ChatOpenAI\n",
        "from langchain_core.messages import AIMessage, HumanMessage\n",
        "\n",
        "# ==========================\n",
        "# Initialize the LLM with your API key\n",
        "llm = ChatOpenAI(model=\"gpt-4o-mini\", openai_api_key=\"api key to be used here\")\n",
        "# ==========================\n",
        "\n",
        "# Node: Only send the last message to the model\n",
        "def chat_model_node(state: MessagesState):\n",
        "    return {\"messages\": [llm.invoke(state[\"messages\"][-1:])]}\n",
        "\n",
        "# Build the graph\n",
        "builder = StateGraph(MessagesState)\n",
        "builder.add_node(\"chat_model\", chat_model_node)\n",
        "builder.add_edge(START, \"chat_model\")\n",
        "builder.add_edge(\"chat_model\", END)\n",
        "graph = builder.compile()\n",
        "\n",
        "# View the graph\n",
        "display(Image(graph.get_graph().draw_mermaid_png()))\n",
        "\n",
        "# ==========================\n",
        "# Pre-populated conversation\n",
        "messages = [\n",
        "    AIMessage(\"Hi.\", name=\"Bot\", id=\"1\"),\n",
        "    HumanMessage(\"Hi.\", name=\"Lance\", id=\"2\"),\n",
        "    AIMessage(\"So you said you were researching ocean mammals?\", name=\"Bot\", id=\"3\"),\n",
        "    HumanMessage(\"Yes, I know about whales. But what others should I learn about?\", name=\"Lance\", id=\"4\")\n",
        "]\n",
        "\n",
        "# Invoke the graph\n",
        "output = graph.invoke({'messages': messages})\n",
        "\n",
        "# Print the model responses neatly\n",
        "for m in output['messages']:\n",
        "    m.pretty_print()\n",
        "# ==========================\n"
      ]
    },
    {
      "cell_type": "markdown",
      "id": "6f58c6fc-532f-418d-b70a-cfcb3307daf5",
      "metadata": {
        "id": "6f58c6fc-532f-418d-b70a-cfcb3307daf5"
      },
      "source": [
        "Let's take our existing list of messages, append the above LLM response, and append a follow-up question."
      ]
    },
    {
      "cell_type": "code",
      "execution_count": 40,
      "id": "16956015-1dbe-4108-89b5-4209b68b51ca",
      "metadata": {
        "colab": {
          "base_uri": "https://localhost:8080/",
          "height": 1000
        },
        "id": "16956015-1dbe-4108-89b5-4209b68b51ca",
        "outputId": "942136ae-3d06-40a9-8a66-b4af21f7a48f"
      },
      "outputs": [
        {
          "output_type": "display_data",
          "data": {
            "image/png": "[encoded data removed]",
            "text/plain": [
              "<IPython.core.display.Image object>"
            ]
          },
          "metadata": {}
        },
        {
          "output_type": "stream",
          "name": "stderr",
          "text": [
            "WARNING:langsmith.client:Failed to send compressed multipart ingest: langsmith.utils.LangSmithAuthError: Authentication failed for https://api.smith.langchain.com/runs/multipart. HTTPError('401 Client Error: Unauthorized for url: https://api.smith.langchain.com/runs/multipart', '{\"error\":\"Unauthorized\"}\\n')trace=14b3c191-388d-4c9e-adb9-4a39eb055a4b,id=14b3c191-388d-4c9e-adb9-4a39eb055a4b; trace=14b3c191-388d-4c9e-adb9-4a39eb055a4b,id=3ddadb01-18b2-44d9-8f5e-feb17015c2ef; trace=14b3c191-388d-4c9e-adb9-4a39eb055a4b,id=45a87178-73b5-44f5-b93c-206dffbd97aa\n"
          ]
        },
        {
          "output_type": "stream",
          "name": "stdout",
          "text": [
            "================================\u001b[1m Human Message \u001b[0m=================================\n",
            "Name: Lance\n",
            "\n",
            "Hi.\n",
            "==================================\u001b[1m Ai Message \u001b[0m==================================\n",
            "Name: Bot\n",
            "\n",
            "So you said you were researching ocean mammals?\n",
            "================================\u001b[1m Human Message \u001b[0m=================================\n",
            "Name: Lance\n",
            "\n",
            "Yes, I know about whales. But what others should I learn about?\n",
            "================================\u001b[1m Human Message \u001b[0m=================================\n",
            "Name: Lance\n",
            "\n",
            "Tell me more about Narwhals!\n",
            "==================================\u001b[1m Ai Message \u001b[0m==================================\n",
            "\n",
            "Narwhals (Monodon monoceros) are unique marine mammals known for their long, spiral tusks, which are actually elongated teeth. They are often referred to as the \"unicorns of the sea\" due to this striking feature. Here are some interesting facts about narwhals:\n",
            "\n",
            "1. **Habitat**: Narwhals are primarily found in the Arctic waters, particularly in the North Atlantic and Arctic Oceans. They are known to inhabit deep, ice-covered waters, and they often migrate seasonally, moving to open waters as the ice thaws.\n",
            "\n",
            "2. **Tusks**: The tusk of a narwhal is typically found in males but can also appear in females. It can grow as long as 10 feet (3 meters) and is thought to be used in mating displays, as well as potentially serving as a sensory organ to detect changes in the environment.\n",
            "\n",
            "3. **Diet**: Narwhals primarily feed on fish and squid, using echolocation to locate their prey in the dark depths of the ocean. They can dive to depths of up to 1,500 meters (4,920 feet) in search of food.\n",
            "\n",
            "4. **Social Behavior**: Narwhals are social animals and are often seen in groups known as pods, which can consist of a few individuals to several dozen. They are known to have complex social structures and engage in vocalizations and social interactions.\n",
            "\n",
            "5. **Adaptations**: Narwhals have several adaptations that allow them to thrive in cold Arctic waters. They have a thick layer of blubber for insulation, and their skin is adapted to withstand freezing temperatures.\n",
            "\n",
            "6. **Conservation Status**: Narwhals are currently classified as \"Near Threatened\" by the International Union for Conservation of Nature (IUCN). They face various threats, including climate change, which affects their sea ice habitat, as well as hunting and environmental disturbances from shipping and oil exploration.\n",
            "\n",
            "7. **Reproduction**: Female narwhals typically give birth to a single calf every three years after a gestation period of around 16 months. The calves stay with their mothers for about a year, relying on her for nutrition and protection.\n",
            "\n",
            "Narwhals are fascinating creatures with a range of unique adaptations that make them well-suited to life in the Arctic, and ongoing research is crucial to understanding and protecting them in the face of environmental changes.\n"
          ]
        },
        {
          "output_type": "stream",
          "name": "stderr",
          "text": [
            "WARNING:langsmith.client:Failed to send compressed multipart ingest: langsmith.utils.LangSmithAuthError: Authentication failed for https://api.smith.langchain.com/runs/multipart. HTTPError('401 Client Error: Unauthorized for url: https://api.smith.langchain.com/runs/multipart', '{\"error\":\"Unauthorized\"}\\n')trace=14b3c191-388d-4c9e-adb9-4a39eb055a4b,id=45a87178-73b5-44f5-b93c-206dffbd97aa; trace=14b3c191-388d-4c9e-adb9-4a39eb055a4b,id=3ddadb01-18b2-44d9-8f5e-feb17015c2ef; trace=14b3c191-388d-4c9e-adb9-4a39eb055a4b,id=14b3c191-388d-4c9e-adb9-4a39eb055a4b; trace=dba84d20-5478-42e2-9f21-cb1e50b3e05c,id=dba84d20-5478-42e2-9f21-cb1e50b3e05c; trace=dba84d20-5478-42e2-9f21-cb1e50b3e05c,id=23d96d9e-bfc2-4800-89a5-4bd2a0f544e5; trace=dba84d20-5478-42e2-9f21-cb1e50b3e05c,id=8219bec7-345c-4755-b986-2255cbf41f67\n"
          ]
        },
        {
          "output_type": "stream",
          "name": "stdout",
          "text": [
            "================================\u001b[1m Human Message \u001b[0m=================================\n",
            "Name: Lance\n",
            "\n",
            "Yes, I know about whales. But what others should I learn about?\n",
            "================================\u001b[1m Human Message \u001b[0m=================================\n",
            "Name: Lance\n",
            "\n",
            "Tell me more about Narwhals!\n",
            "==================================\u001b[1m Ai Message \u001b[0m==================================\n",
            "\n",
            "Narwhals (Monodon monoceros) are unique marine mammals known for their long, spiral tusks, which are actually elongated teeth. They are often referred to as the \"unicorns of the sea\" due to this striking feature. Here are some interesting facts about narwhals:\n",
            "\n",
            "1. **Habitat**: Narwhals are primarily found in the Arctic waters, particularly in the North Atlantic and Arctic Oceans. They are known to inhabit deep, ice-covered waters, and they often migrate seasonally, moving to open waters as the ice thaws.\n",
            "\n",
            "2. **Tusks**: The tusk of a narwhal is typically found in males but can also appear in females. It can grow as long as 10 feet (3 meters) and is thought to be used in mating displays, as well as potentially serving as a sensory organ to detect changes in the environment.\n",
            "\n",
            "3. **Diet**: Narwhals primarily feed on fish and squid, using echolocation to locate their prey in the dark depths of the ocean. They can dive to depths of up to 1,500 meters (4,920 feet) in search of food.\n",
            "\n",
            "4. **Social Behavior**: Narwhals are social animals and are often seen in groups known as pods, which can consist of a few individuals to several dozen. They are known to have complex social structures and engage in vocalizations and social interactions.\n",
            "\n",
            "5. **Adaptations**: Narwhals have several adaptations that allow them to thrive in cold Arctic waters. They have a thick layer of blubber for insulation, and their skin is adapted to withstand freezing temperatures.\n",
            "\n",
            "6. **Conservation Status**: Narwhals are currently classified as \"Near Threatened\" by the International Union for Conservation of Nature (IUCN). They face various threats, including climate change, which affects their sea ice habitat, as well as hunting and environmental disturbances from shipping and oil exploration.\n",
            "\n",
            "7. **Reproduction**: Female narwhals typically give birth to a single calf every three years after a gestation period of around 16 months. The calves stay with their mothers for about a year, relying on her for nutrition and protection.\n",
            "\n",
            "Narwhals are fascinating creatures with a range of unique adaptations that make them well-suited to life in the Arctic, and ongoing research is crucial to understanding and protecting them in the face of environmental changes.\n",
            "================================\u001b[1m Human Message \u001b[0m=================================\n",
            "Name: Lance\n",
            "\n",
            "And what about dolphins?\n",
            "==================================\u001b[1m Ai Message \u001b[0m==================================\n",
            "\n",
            "Dolphins are fascinating marine mammals known for their intelligence, social behavior, and playful nature. They belong to the family Delphinidae, which includes various species such as the bottlenose dolphin, spinner dolphin, and orca (killer whale). Here are some interesting facts about dolphins:\n",
            "\n",
            "1. **Intelligence**: Dolphins are highly intelligent animals. They are known for their ability to learn complex tasks, solve problems, and even use tools in some cases.\n",
            "\n",
            "2. **Communication**: Dolphins communicate with each other through a combination of clicks, whistles, and body language. They have a range of vocalizations that can convey different meanings.\n",
            "\n",
            "3. **Social Structure**: Dolphins are highly social animals, often found in groups called pods. These pods can consist of just a few individuals or several dozen dolphins, and they demonstrate strong social bonds.\n",
            "\n",
            "4. **Playfulness**: Dolphins are known for their playful behavior. They often surf on waves, jump out of the water, and interact with other marine animals and humans.\n",
            "\n",
            "5. **Echolocation**: Dolphins use echolocation to navigate and hunt for prey. They emit sound waves that bounce off objects, allowing them to determine the location, size, and shape of underwater objects.\n",
            "\n",
            "6. **Conservation Status**: Some dolphin species are threatened or endangered due to factors such as habitat loss, pollution, and hunting. Conservation efforts are in place to protect these remarkable creatures and their habitats.\n",
            "\n",
            "If you have specific questions or topics related to dolphins that you're interested in, feel free to ask!\n"
          ]
        }
      ],
      "source": [
        "from IPython.display import Image, display\n",
        "from langgraph.graph import MessagesState, StateGraph, START, END\n",
        "from langchain_openai import ChatOpenAI\n",
        "from langchain_core.messages import AIMessage, HumanMessage\n",
        "\n",
        "# ==========================\n",
        "# Initialize the LLM with your API key\n",
        "llm = ChatOpenAI(model=\"gpt-4o-mini\", openai_api_key=\"api key to be used here\")\n",
        "# ==========================\n",
        "\n",
        "# Node: Only send the last message to the model\n",
        "def chat_model_node(state: MessagesState):\n",
        "    return {\"messages\": [llm.invoke(state[\"messages\"][-1:])]}\n",
        "\n",
        "# Build the graph\n",
        "builder = StateGraph(MessagesState)\n",
        "builder.add_node(\"chat_model\", chat_model_node)\n",
        "builder.add_edge(START, \"chat_model\")\n",
        "builder.add_edge(\"chat_model\", END)\n",
        "graph = builder.compile()\n",
        "\n",
        "# View the graph\n",
        "display(Image(graph.get_graph().draw_mermaid_png()))\n",
        "\n",
        "# ==========================\n",
        "# Pre-populated conversation\n",
        "messages = [\n",
        "    AIMessage(\"Hi.\", name=\"Bot\", id=\"1\"),\n",
        "    HumanMessage(\"Hi.\", name=\"Lance\", id=\"2\"),\n",
        "    AIMessage(\"So you said you were researching ocean mammals?\", name=\"Bot\", id=\"3\"),\n",
        "    HumanMessage(\"Yes, I know about whales. But what others should I learn about?\", name=\"Lance\", id=\"4\")\n",
        "]\n",
        "\n",
        "# Initialize output variable\n",
        "output = None\n",
        "\n",
        "# Function to interact: append last AI response + new user input\n",
        "def chat_with_graph(user_text):\n",
        "    global output  # Declare first\n",
        "    # Append last AI response if exists\n",
        "    if output and output['messages']:\n",
        "        messages.append(output['messages'][-1])\n",
        "    # Append new user message\n",
        "    messages.append(HumanMessage(user_text, name=\"Lance\"))\n",
        "\n",
        "    # Trim messages to last 4 to avoid long history\n",
        "    messages_trimmed = messages[-4:]\n",
        "\n",
        "    # Invoke graph\n",
        "    output = graph.invoke({'messages': messages_trimmed})\n",
        "\n",
        "    # Print AI responses\n",
        "    for m in output['messages']:\n",
        "        m.pretty_print()\n",
        "\n",
        "# ==========================\n",
        "# Example usage\n",
        "chat_with_graph(\"Tell me more about Narwhals!\")\n",
        "chat_with_graph(\"And what about dolphins?\")\n",
        "# ==========================\n"
      ]
    },
    {
      "cell_type": "code",
      "execution_count": null,
      "id": "85563415-c085-46a8-a4ac-155df798c54e",
      "metadata": {
        "id": "85563415-c085-46a8-a4ac-155df798c54e",
        "outputId": "e360da1a-1b57-470d-f4f2-b60af9d79f8f"
      },
      "outputs": [
        {
          "name": "stdout",
          "output_type": "stream",
          "text": [
            "==================================\u001b[1m Ai Message \u001b[0m==================================\n",
            "Name: Bot\n",
            "\n",
            "Hi.\n",
            "================================\u001b[1m Human Message \u001b[0m=================================\n",
            "Name: Lance\n",
            "\n",
            "Hi.\n",
            "==================================\u001b[1m Ai Message \u001b[0m==================================\n",
            "Name: Bot\n",
            "\n",
            "So you said you were researching ocean mammals?\n",
            "================================\u001b[1m Human Message \u001b[0m=================================\n",
            "Name: Lance\n",
            "\n",
            "Yes, I know about whales. But what others should I learn about?\n",
            "==================================\u001b[1m Ai Message \u001b[0m==================================\n",
            "\n",
            "That's great that you know about whales! There are many other fascinating ocean mammals you can learn about. Here are a few:\n",
            "\n",
            "1. **Dolphins**: Highly intelligent and social animals, dolphins are known for their playful behavior and sophisticated communication skills. There are many species of dolphins, including the well-known bottlenose dolphin.\n",
            "\n",
            "2. **Porpoises**: Often confused with dolphins, porpoises are smaller and have different body shapes and teeth. They are generally more reclusive and less acrobatic than dolphins.\n",
            "\n",
            "3. **Seals**: Seals are part of the pinniped family, which also includes sea lions and walruses. They have streamlined bodies and flippers, making them excellent swimmers. Common types of seals include harbor seals and elephant seals.\n",
            "\n",
            "4. **Sea Lions**: Similar to seals but with some key differences, sea lions have external ear flaps and can rotate their hind flippers to walk on land. They are also very social and often gather in large groups.\n",
            "\n",
            "5. **Walruses**: Recognizable by their long tusks and whiskers, walruses are large marine mammals that are found in Arctic regions. They use their tusks to help them climb out of the water and to break through ice.\n",
            "\n",
            "6. **Manatees and Dugongs**: These gentle giants are often referred to as sea cows. Manatees are found in the Atlantic Ocean, while dugongs are found in the Indian and Pacific Oceans. They are herbivores and spend most of their time grazing on underwater vegetation.\n",
            "\n",
            "7. **Sea Otters**: Known for their playful behavior and use of tools, sea otters are an important part of the marine ecosystem. They have thick fur to keep them warm in cold waters and are often seen floating on their backs.\n",
            "\n",
            "8. **Polar Bears**: While not exclusively marine, polar bears spend a significant amount of time in the ocean, particularly in Arctic regions. They are excellent swimmers and rely on sea ice to hunt seals, their primary food source.\n",
            "\n",
            "9. **Narwhals**: Often called the \"unicorns of the sea,\" narwhals have a long, spiral tusk that is actually an elongated tooth. They are found in Arctic waters and are known for their deep diving abilities.\n",
            "\n",
            "10. **Orcas (Killer Whales)**: Though they are technically a type of dolphin, orcas are often considered separately due to their size and distinctive black-and-white coloring. They are apex predators and have complex social structures.\n",
            "\n",
            "Each of these ocean mammals has unique behaviors, adaptations, and ecological roles, making them fascinating subjects for study.\n",
            "================================\u001b[1m Human Message \u001b[0m=================================\n",
            "Name: Lance\n",
            "\n",
            "Tell me more about Narwhals!\n"
          ]
        }
      ],
      "source": [
        "for m in messages:\n",
        "    m.pretty_print()"
      ]
    },
    {
      "cell_type": "code",
      "execution_count": null,
      "id": "23349705-a059-47b5-9760-d8f64e687393",
      "metadata": {
        "id": "23349705-a059-47b5-9760-d8f64e687393",
        "outputId": "763b1258-32e6-4950-81f6-55c7cbfca483"
      },
      "outputs": [
        {
          "name": "stdout",
          "output_type": "stream",
          "text": [
            "==================================\u001b[1m Ai Message \u001b[0m==================================\n",
            "Name: Bot\n",
            "\n",
            "Hi.\n",
            "================================\u001b[1m Human Message \u001b[0m=================================\n",
            "Name: Lance\n",
            "\n",
            "Hi.\n",
            "==================================\u001b[1m Ai Message \u001b[0m==================================\n",
            "Name: Bot\n",
            "\n",
            "So you said you were researching ocean mammals?\n",
            "================================\u001b[1m Human Message \u001b[0m=================================\n",
            "Name: Lance\n",
            "\n",
            "Yes, I know about whales. But what others should I learn about?\n",
            "==================================\u001b[1m Ai Message \u001b[0m==================================\n",
            "\n",
            "That's great that you know about whales! There are many other fascinating ocean mammals you can learn about. Here are a few:\n",
            "\n",
            "1. **Dolphins**: Highly intelligent and social animals, dolphins are known for their playful behavior and sophisticated communication skills. There are many species of dolphins, including the well-known bottlenose dolphin.\n",
            "\n",
            "2. **Porpoises**: Often confused with dolphins, porpoises are smaller and have different body shapes and teeth. They are generally more reclusive and less acrobatic than dolphins.\n",
            "\n",
            "3. **Seals**: Seals are part of the pinniped family, which also includes sea lions and walruses. They have streamlined bodies and flippers, making them excellent swimmers. Common types of seals include harbor seals and elephant seals.\n",
            "\n",
            "4. **Sea Lions**: Similar to seals but with some key differences, sea lions have external ear flaps and can rotate their hind flippers to walk on land. They are also very social and often gather in large groups.\n",
            "\n",
            "5. **Walruses**: Recognizable by their long tusks and whiskers, walruses are large marine mammals that are found in Arctic regions. They use their tusks to help them climb out of the water and to break through ice.\n",
            "\n",
            "6. **Manatees and Dugongs**: These gentle giants are often referred to as sea cows. Manatees are found in the Atlantic Ocean, while dugongs are found in the Indian and Pacific Oceans. They are herbivores and spend most of their time grazing on underwater vegetation.\n",
            "\n",
            "7. **Sea Otters**: Known for their playful behavior and use of tools, sea otters are an important part of the marine ecosystem. They have thick fur to keep them warm in cold waters and are often seen floating on their backs.\n",
            "\n",
            "8. **Polar Bears**: While not exclusively marine, polar bears spend a significant amount of time in the ocean, particularly in Arctic regions. They are excellent swimmers and rely on sea ice to hunt seals, their primary food source.\n",
            "\n",
            "9. **Narwhals**: Often called the \"unicorns of the sea,\" narwhals have a long, spiral tusk that is actually an elongated tooth. They are found in Arctic waters and are known for their deep diving abilities.\n",
            "\n",
            "10. **Orcas (Killer Whales)**: Though they are technically a type of dolphin, orcas are often considered separately due to their size and distinctive black-and-white coloring. They are apex predators and have complex social structures.\n",
            "\n",
            "Each of these ocean mammals has unique behaviors, adaptations, and ecological roles, making them fascinating subjects for study.\n",
            "================================\u001b[1m Human Message \u001b[0m=================================\n",
            "Name: Lance\n",
            "\n",
            "Tell me more about Narwhals!\n",
            "==================================\u001b[1m Ai Message \u001b[0m==================================\n",
            "\n",
            "Of course! Narwhals (Monodon monoceros) are fascinating marine mammals that belong to the family Monodontidae, which also includes the beluga whale. They are best known for the long, spiral tusk that protrudes from the head of the males, which has earned them the nickname \"unicorns of the sea.\"\n",
            "\n",
            "Here are some key facts about narwhals:\n",
            "\n",
            "### Physical Characteristics\n",
            "- **Tusk**: The most distinctive feature of the narwhal is the tusk, which is actually an elongated tooth. It can grow up to 10 feet (3 meters) long and is usually found in males, though some females may also develop smaller tusks. The tusk grows in a spiral pattern and is thought to have sensory capabilities, with millions of nerve endings.\n",
            "- **Body**: Narwhals have a stocky body with a mottled black and white skin pattern. They lack a dorsal fin, which is thought to be an adaptation to swimming under ice.\n",
            "- **Size**: Adult narwhals typically range from 13 to 20 feet (4 to 6 meters) in length, with males generally being larger than females.\n",
            "- **Weight**: They can weigh between 1,760 to 3,530 pounds (800 to 1,600 kilograms).\n",
            "\n",
            "### Habitat and Distribution\n",
            "- Narwhals are native to the Arctic waters of Canada, Greenland, Norway, and Russia. They are especially common in the Baffin Bay and the waters surrounding Greenland.\n",
            "- They prefer deep waters and are often found in areas with heavy sea ice.\n",
            "\n",
            "### Behavior and Diet\n",
            "- **Diving**: Narwhals are deep divers and can reach depths of up to 5,000 feet (1,500 meters) in search of food. They can hold their breath for up to 25 minutes.\n",
            "- **Diet**: Their diet primarily consists of fish such as Arctic cod and Greenland halibut, as well as squid and shrimp.\n",
            "- **Social Structure**: Narwhals are social animals and are often found in groups called pods, which typically consist of 5 to 10 individuals but can sometimes number in the hundreds.\n",
            "\n",
            "### Reproduction and Lifespan\n",
            "- Females give birth to a single calf after a gestation period of about 14 to 15 months. Calves are usually born in the spring or early summer.\n",
            "- Narwhals have a long lifespan and can live up to 50 years, although some individuals may live even longer.\n",
            "\n",
            "### Conservation Status\n",
            "- Narwhals are currently classified as \"Near Threatened\" by the International Union for Conservation of Nature (IUCN). Their main threats include climate change, which affects their sea ice habitat, and human activities such as shipping and oil exploration.\n",
            "- Indigenous communities in the Arctic have traditionally hunted narwhals for their meat, blubber, and tusks, which are used for various purposes, including art and tools.\n",
            "\n",
            "### Cultural Significance\n",
            "- The narwhal's tusk has fascinated humans for centuries and was often sold as a \"unicorn horn\" in medieval Europe, believed to possess magical properties.\n",
            "- Narwhals hold significant cultural and economic value for indigenous Arctic communities.\n",
            "\n",
            "Overall, narwhals are remarkable creatures with unique adaptations that allow them to thrive in some of the planet's harshest environments.\n"
          ]
        }
      ],
      "source": [
        "# Invoke, using message filtering\n",
        "output = graph.invoke({'messages': messages})\n",
        "for m in output['messages']:\n",
        "    m.pretty_print()"
      ]
    },
    {
      "cell_type": "markdown",
      "id": "42e1d8d2-e297-4d78-b54c-d12b3c866745",
      "metadata": {
        "id": "42e1d8d2-e297-4d78-b54c-d12b3c866745"
      },
      "source": [
        "The state has all of the mesages.\n",
        "\n",
        "But, let's look at the LangSmith trace to see that the model invocation only uses the last message:\n",
        "\n",
        "https://smith.langchain.com/public/75aca3ce-ef19-4b92-94be-0178c7a660d9/r"
      ]
    },
    {
      "cell_type": "markdown",
      "id": "fc40d930-3c1f-47fe-8d2a-ce174873353c",
      "metadata": {
        "id": "fc40d930-3c1f-47fe-8d2a-ce174873353c"
      },
      "source": [
        "## Trim messages\n",
        "\n",
        "Another approach is to [trim messages](https://python.langchain.com/v0.2/docs/how_to/trim_messages/#getting-the-last-max_tokens-tokens), based upon a set number of tokens.\n",
        "\n",
        "This restricts the message history to a specified number of tokens.\n",
        "\n",
        "While filtering only returns a post-hoc subset of the messages between agents, trimming restricts the number of tokens that a chat model can use to respond.\n",
        "\n",
        "See the `trim_messages` below."
      ]
    },
    {
      "cell_type": "code",
      "execution_count": 41,
      "id": "2ff99b81-cf03-4cc2-b44f-44829a73e1fd",
      "metadata": {
        "colab": {
          "base_uri": "https://localhost:8080/",
          "height": 1000
        },
        "id": "2ff99b81-cf03-4cc2-b44f-44829a73e1fd",
        "outputId": "3be715de-732d-4ca8-b488-647f159d25ee"
      },
      "outputs": [
        {
          "output_type": "display_data",
          "data": {
            "image/png": "[encoded data removed]",
            "text/plain": [
              "<IPython.core.display.Image object>"
            ]
          },
          "metadata": {}
        },
        {
          "output_type": "stream",
          "name": "stderr",
          "text": [
            "WARNING:langsmith.client:Failed to send compressed multipart ingest: langsmith.utils.LangSmithAuthError: Authentication failed for https://api.smith.langchain.com/runs/multipart. HTTPError('401 Client Error: Unauthorized for url: https://api.smith.langchain.com/runs/multipart', '{\"error\":\"Unauthorized\"}\\n')trace=a450e695-c5fd-4837-a86b-5c7f01d7b4c7,id=a450e695-c5fd-4837-a86b-5c7f01d7b4c7; trace=a450e695-c5fd-4837-a86b-5c7f01d7b4c7,id=4e70fc08-161b-4acb-b49c-4b229476cb62\n",
            "WARNING:langsmith.client:Failed to send compressed multipart ingest: langsmith.utils.LangSmithAuthError: Authentication failed for https://api.smith.langchain.com/runs/multipart. HTTPError('401 Client Error: Unauthorized for url: https://api.smith.langchain.com/runs/multipart', '{\"error\":\"Unauthorized\"}\\n')trace=a450e695-c5fd-4837-a86b-5c7f01d7b4c7,id=a524e884-81b0-4e2c-aabf-238061f8de63\n"
          ]
        },
        {
          "output_type": "stream",
          "name": "stdout",
          "text": [
            "==================================\u001b[1m Ai Message \u001b[0m==================================\n",
            "Name: Bot\n",
            "\n",
            "Hi.\n",
            "================================\u001b[1m Human Message \u001b[0m=================================\n",
            "Name: Lance\n",
            "\n",
            "Hi.\n",
            "==================================\u001b[1m Ai Message \u001b[0m==================================\n",
            "Name: Bot\n",
            "\n",
            "So you said you were researching ocean mammals?\n",
            "================================\u001b[1m Human Message \u001b[0m=================================\n",
            "Name: Lance\n",
            "\n",
            "Yes, I know about whales. But what others should I learn about?\n",
            "==================================\u001b[1m Ai Message \u001b[0m==================================\n",
            "\n",
            "In addition to whales, here are some fascinating ocean mammals you might want to explore:\n",
            "\n",
            "1. **Dolphins** - Known for their intelligence and playful behavior, dolphins are social animals often found in pods.\n",
            "\n",
            "2. **Porpoises** - Similar to dolphins but generally smaller, porpoises have a more rounded snout and are known for being shy.\n",
            "\n",
            "3. **Sea Lions** - These pinnipeds are known for their external ear flaps and can often be seen lounging on rocks or beaches.\n",
            "\n",
            "4. **Seals** - Unlike sea lions, true seals lack external ear flaps and have a more streamlined body for swimming.\n",
            "\n",
            "5. **Manatees** - Also known as sea cows, these herbivorous mammals are gentle and often inhabit shallow coastal areas and rivers.\n",
            "\n",
            "6. **Dugongs** - Similar to manatees, dugongs are also herbivorous and are found in warm coastal waters, primarily in the Indo-Pacific region.\n",
            "\n",
            "7. **Narwhals** - Often called the \"unicorns of the sea,\" narwhals are known for their long, spiral tusks and are found in Arctic waters.\n",
            "\n",
            "8. **Beluga Whales** - These white whales are known for their vocalizations and are often found in Arctic and sub-Arctic regions.\n",
            "\n",
            "9. **Orcas (Killer Whales)** - These highly social and intelligent creatures belong to the dolphin family and are known for their complex social structures and hunting techniques.\n",
            "\n",
            "10. **Polar Bears** - Although they primarily live on land, polar bears are excellent swimmers and rely on sea ice for hunting seals.\n",
            "\n",
            "Each of these mammals has unique adaptations and behaviors that make them fascinating subjects of study. Would you like more information on any specific species?\n"
          ]
        }
      ],
      "source": [
        "from IPython.display import Image, display\n",
        "from langgraph.graph import MessagesState, StateGraph, START, END\n",
        "from langchain_openai import ChatOpenAI\n",
        "from langchain_core.messages import AIMessage, HumanMessage, trim_messages\n",
        "\n",
        "# Initialize LLM with API key\n",
        "llm = ChatOpenAI(model=\"gpt-4o-mini\", openai_api_key=\"api key to be used here\")\n",
        "\n",
        "# Node: Trim messages by token count before sending to LLM\n",
        "def chat_model_node(state: MessagesState):\n",
        "    messages_trimmed = trim_messages(\n",
        "        state[\"messages\"],\n",
        "        max_tokens=100,\n",
        "        strategy=\"last\",\n",
        "        token_counter=ChatOpenAI(model=\"gpt-4o-mini\"),\n",
        "        allow_partial=False,\n",
        "    )\n",
        "    return {\"messages\": [llm.invoke(messages_trimmed)]}\n",
        "\n",
        "# Build the graph\n",
        "builder = StateGraph(MessagesState)\n",
        "builder.add_node(\"chat_model\", chat_model_node)\n",
        "builder.add_edge(START, \"chat_model\")\n",
        "builder.add_edge(\"chat_model\", END)\n",
        "graph = builder.compile()\n",
        "\n",
        "# View the graph\n",
        "display(Image(graph.get_graph().draw_mermaid_png()))\n",
        "\n",
        "# Pre-populated conversation\n",
        "messages = [\n",
        "    AIMessage(\"Hi.\", name=\"Bot\", id=\"1\"),\n",
        "    HumanMessage(\"Hi.\", name=\"Lance\", id=\"2\"),\n",
        "    AIMessage(\"So you said you were researching ocean mammals?\", name=\"Bot\", id=\"3\"),\n",
        "    HumanMessage(\"Yes, I know about whales. But what others should I learn about?\", name=\"Lance\", id=\"4\")\n",
        "]\n",
        "\n",
        "# Invoke the graph with trimmed messages\n",
        "output = graph.invoke({'messages': messages})\n",
        "\n",
        "# Print AI responses neatly\n",
        "for m in output['messages']:\n",
        "    m.pretty_print()\n"
      ]
    },
    {
      "cell_type": "code",
      "execution_count": 43,
      "id": "24df63ac-da29-4874-b3df-7e390e97cc8a",
      "metadata": {
        "colab": {
          "base_uri": "https://localhost:8080/",
          "height": 1000
        },
        "id": "24df63ac-da29-4874-b3df-7e390e97cc8a",
        "outputId": "4587af1a-ab20-4faa-a3b2-f04bc8bb21fa"
      },
      "outputs": [
        {
          "output_type": "display_data",
          "data": {
            "image/png": "[encoded data removed]",
            "text/plain": [
              "<IPython.core.display.Image object>"
            ]
          },
          "metadata": {}
        },
        {
          "output_type": "stream",
          "name": "stderr",
          "text": [
            "WARNING:langsmith.client:Failed to send compressed multipart ingest: langsmith.utils.LangSmithAuthError: Authentication failed for https://api.smith.langchain.com/runs/multipart. HTTPError('401 Client Error: Unauthorized for url: https://api.smith.langchain.com/runs/multipart', '{\"error\":\"Unauthorized\"}\\n')trace=2ad27afc-522d-49d9-81b5-4a4b9ebe4eea,id=2ad27afc-522d-49d9-81b5-4a4b9ebe4eea; trace=2ad27afc-522d-49d9-81b5-4a4b9ebe4eea,id=d3885368-43d7-4b77-a360-0bf54be3ffa3; trace=2ad27afc-522d-49d9-81b5-4a4b9ebe4eea,id=40fa24a6-823e-48dd-9743-8e560dad12da\n"
          ]
        },
        {
          "output_type": "stream",
          "name": "stdout",
          "text": [
            "==================================\u001b[1m Ai Message \u001b[0m==================================\n",
            "Name: Bot\n",
            "\n",
            "Hi.\n",
            "================================\u001b[1m Human Message \u001b[0m=================================\n",
            "Name: Lance\n",
            "\n",
            "Hi.\n",
            "==================================\u001b[1m Ai Message \u001b[0m==================================\n",
            "Name: Bot\n",
            "\n",
            "So you said you were researching ocean mammals?\n",
            "================================\u001b[1m Human Message \u001b[0m=================================\n",
            "Name: Lance\n",
            "\n",
            "Yes, I know about whales. But what others should I learn about?\n",
            "==================================\u001b[1m Ai Message \u001b[0m==================================\n",
            "\n",
            "In addition to whales, here are some fascinating ocean mammals you might want to explore:\n",
            "\n",
            "1. **Dolphins** - Known for their intelligence and playful behavior, dolphins are social animals often found in pods.\n",
            "\n",
            "2. **Porpoises** - Similar to dolphins but generally smaller, porpoises have a more rounded snout and are known for being shy.\n",
            "\n",
            "3. **Sea Lions** - These pinnipeds are known for their external ear flaps and can often be seen lounging on rocks or beaches.\n",
            "\n",
            "4. **Seals** - Unlike sea lions, true seals lack external ear flaps and have a more streamlined body for swimming.\n",
            "\n",
            "5. **Manatees** - Also known as sea cows, these herbivorous mammals are gentle and often inhabit shallow coastal areas and rivers.\n",
            "\n",
            "6. **Dugongs** - Similar to manatees, dugongs are also herbivorous and are found in warm coastal waters, primarily in the Indo-Pacific region.\n",
            "\n",
            "7. **Narwhals** - Often called the \"unicorns of the sea,\" narwhals are known for their long, spiral tusks and are found in Arctic waters.\n",
            "\n",
            "8. **Beluga Whales** - These white whales are known for their vocalizations and are often found in Arctic and sub-Arctic regions.\n",
            "\n",
            "9. **Orcas (Killer Whales)** - These highly social and intelligent creatures belong to the dolphin family and are known for their complex social structures and hunting techniques.\n",
            "\n",
            "10. **Polar Bears** - Although they primarily live on land, polar bears are excellent swimmers and rely on sea ice for hunting seals.\n",
            "\n",
            "Each of these mammals has unique adaptations and behaviors that make them fascinating subjects of study. Would you like more information on any specific species?\n",
            "================================\u001b[1m Human Message \u001b[0m=================================\n",
            "Name: Lance\n",
            "\n",
            "Tell me where Orcas live!\n",
            "==================================\u001b[1m Ai Message \u001b[0m==================================\n",
            "\n",
            "Orcas, also known as killer whales, are found in oceans worldwide, but they tend to prefer colder coastal waters. They inhabit a variety of marine environments, including:\n",
            "\n",
            "1. **Polar Regions**: Orcas are commonly found in the Arctic and Antarctic regions, where they hunt for seals and other marine mammals.\n",
            "\n",
            "2. **Coastal Waters**: They often inhabit coastal areas and can be seen in bays and estuaries. Areas like the Pacific Northwest of North America, including the waters around Washington and British Columbia, are well-known orca habitats.\n",
            "\n",
            "3. **Open Oceans**: Orcas also travel in deep ocean waters, and can be spotted in all major oceans, from the Atlantic to the Indian and Pacific Oceans.\n",
            "\n",
            "4. **Warm Waters**: While they are predominantly found in colder regions, orcas can also inhabit warmer waters near equatorial regions.\n",
            "\n",
            "Overall, orcas are highly adaptable and can thrive in a variety of marine settings.\n"
          ]
        },
        {
          "output_type": "stream",
          "name": "stderr",
          "text": [
            "WARNING:langsmith.client:Failed to send compressed multipart ingest: langsmith.utils.LangSmithAuthError: Authentication failed for https://api.smith.langchain.com/runs/multipart. HTTPError('401 Client Error: Unauthorized for url: https://api.smith.langchain.com/runs/multipart', '{\"error\":\"Unauthorized\"}\\n')trace=2ad27afc-522d-49d9-81b5-4a4b9ebe4eea,id=40fa24a6-823e-48dd-9743-8e560dad12da; trace=2ad27afc-522d-49d9-81b5-4a4b9ebe4eea,id=d3885368-43d7-4b77-a360-0bf54be3ffa3; trace=2ad27afc-522d-49d9-81b5-4a4b9ebe4eea,id=2ad27afc-522d-49d9-81b5-4a4b9ebe4eea; trace=ac0b6283-8b3e-441e-a297-0f4e99dd9555,id=ac0b6283-8b3e-441e-a297-0f4e99dd9555; trace=ac0b6283-8b3e-441e-a297-0f4e99dd9555,id=3ef4675f-4188-4026-9e61-6624fddaa89e; trace=ac0b6283-8b3e-441e-a297-0f4e99dd9555,id=bcb661bc-e315-4cf0-be13-073533d0ebae\n"
          ]
        },
        {
          "output_type": "stream",
          "name": "stdout",
          "text": [
            "==================================\u001b[1m Ai Message \u001b[0m==================================\n",
            "Name: Bot\n",
            "\n",
            "Hi.\n",
            "================================\u001b[1m Human Message \u001b[0m=================================\n",
            "Name: Lance\n",
            "\n",
            "Hi.\n",
            "==================================\u001b[1m Ai Message \u001b[0m==================================\n",
            "Name: Bot\n",
            "\n",
            "So you said you were researching ocean mammals?\n",
            "================================\u001b[1m Human Message \u001b[0m=================================\n",
            "Name: Lance\n",
            "\n",
            "Yes, I know about whales. But what others should I learn about?\n",
            "==================================\u001b[1m Ai Message \u001b[0m==================================\n",
            "\n",
            "In addition to whales, here are some fascinating ocean mammals you might want to explore:\n",
            "\n",
            "1. **Dolphins** - Known for their intelligence and playful behavior, dolphins are social animals often found in pods.\n",
            "\n",
            "2. **Porpoises** - Similar to dolphins but generally smaller, porpoises have a more rounded snout and are known for being shy.\n",
            "\n",
            "3. **Sea Lions** - These pinnipeds are known for their external ear flaps and can often be seen lounging on rocks or beaches.\n",
            "\n",
            "4. **Seals** - Unlike sea lions, true seals lack external ear flaps and have a more streamlined body for swimming.\n",
            "\n",
            "5. **Manatees** - Also known as sea cows, these herbivorous mammals are gentle and often inhabit shallow coastal areas and rivers.\n",
            "\n",
            "6. **Dugongs** - Similar to manatees, dugongs are also herbivorous and are found in warm coastal waters, primarily in the Indo-Pacific region.\n",
            "\n",
            "7. **Narwhals** - Often called the \"unicorns of the sea,\" narwhals are known for their long, spiral tusks and are found in Arctic waters.\n",
            "\n",
            "8. **Beluga Whales** - These white whales are known for their vocalizations and are often found in Arctic and sub-Arctic regions.\n",
            "\n",
            "9. **Orcas (Killer Whales)** - These highly social and intelligent creatures belong to the dolphin family and are known for their complex social structures and hunting techniques.\n",
            "\n",
            "10. **Polar Bears** - Although they primarily live on land, polar bears are excellent swimmers and rely on sea ice for hunting seals.\n",
            "\n",
            "Each of these mammals has unique adaptations and behaviors that make them fascinating subjects of study. Would you like more information on any specific species?\n",
            "================================\u001b[1m Human Message \u001b[0m=================================\n",
            "Name: Lance\n",
            "\n",
            "Tell me where Orcas live!\n",
            "==================================\u001b[1m Ai Message \u001b[0m==================================\n",
            "\n",
            "Orcas, also known as killer whales, are found in oceans worldwide, but they tend to prefer colder coastal waters. They inhabit a variety of marine environments, including:\n",
            "\n",
            "1. **Polar Regions**: Orcas are commonly found in the Arctic and Antarctic regions, where they hunt for seals and other marine mammals.\n",
            "\n",
            "2. **Coastal Waters**: They often inhabit coastal areas and can be seen in bays and estuaries. Areas like the Pacific Northwest of North America, including the waters around Washington and British Columbia, are well-known orca habitats.\n",
            "\n",
            "3. **Open Oceans**: Orcas also travel in deep ocean waters, and can be spotted in all major oceans, from the Atlantic to the Indian and Pacific Oceans.\n",
            "\n",
            "4. **Warm Waters**: While they are predominantly found in colder regions, orcas can also inhabit warmer waters near equatorial regions.\n",
            "\n",
            "Overall, orcas are highly adaptable and can thrive in a variety of marine settings.\n",
            "================================\u001b[1m Human Message \u001b[0m=================================\n",
            "Name: Lance\n",
            "\n",
            "And what about dolphins?\n",
            "==================================\u001b[1m Ai Message \u001b[0m==================================\n",
            "\n",
            "What would you like to know about dolphins? They are fascinating creatures known for their intelligence, social behavior, and acrobatic displays. Dolphins are part of the cetacean family, which also includes whales and porpoises. If you have specific questions or topics in mind, feel free to ask!\n"
          ]
        }
      ],
      "source": [
        "from IPython.display import Image, display\n",
        "from langgraph.graph import MessagesState, StateGraph, START, END\n",
        "from langchain_openai import ChatOpenAI\n",
        "from langchain_core.messages import AIMessage, HumanMessage, trim_messages\n",
        "\n",
        "# ==========================\n",
        "# Initialize LLM with your API key\n",
        "llm = ChatOpenAI(model=\"gpt-4o-mini\", openai_api_key=\"api key to be used here\")\n",
        "# ==========================\n",
        "\n",
        "# Node: Trim messages by token count before sending to LLM\n",
        "def chat_model_node(state: MessagesState):\n",
        "    messages_trimmed = trim_messages(\n",
        "        state[\"messages\"],\n",
        "        max_tokens=100,\n",
        "        strategy=\"last\",\n",
        "        token_counter=ChatOpenAI(model=\"gpt-4o-mini\"),\n",
        "        allow_partial=False,\n",
        "    )\n",
        "    return {\"messages\": [llm.invoke(messages_trimmed)]}\n",
        "\n",
        "# Build the graph\n",
        "builder = StateGraph(MessagesState)\n",
        "builder.add_node(\"chat_model\", chat_model_node)\n",
        "builder.add_edge(START, \"chat_model\")\n",
        "builder.add_edge(\"chat_model\", END)\n",
        "graph = builder.compile()\n",
        "\n",
        "# View the graph\n",
        "display(Image(graph.get_graph().draw_mermaid_png()))\n",
        "\n",
        "# ==========================\n",
        "# Pre-populated conversation\n",
        "messages = [\n",
        "    AIMessage(\"Hi.\", name=\"Bot\", id=\"1\"),\n",
        "    HumanMessage(\"Hi.\", name=\"Lance\", id=\"2\"),\n",
        "    AIMessage(\"So you said you were researching ocean mammals?\", name=\"Bot\", id=\"3\"),\n",
        "    HumanMessage(\"Yes, I know about whales. But what others should I learn about?\", name=\"Lance\", id=\"4\")\n",
        "]\n",
        "\n",
        "# Function to continue conversation\n",
        "def chat(user_text):\n",
        "    global output  # declare global so we can store last AI output\n",
        "    # Append last AI response if exists\n",
        "    if 'output' in globals() and output and output['messages']:\n",
        "        messages.append(output['messages'][-1])\n",
        "    # Append new user message\n",
        "    messages.append(HumanMessage(user_text, name=\"Lance\"))\n",
        "\n",
        "    # Trim messages to last few tokens automatically via chat_model_node\n",
        "    output = graph.invoke({'messages': messages})\n",
        "\n",
        "    # Print AI responses\n",
        "    for m in output['messages']:\n",
        "        m.pretty_print()\n",
        "\n",
        "# ==========================\n",
        "# Example usage\n",
        "chat(\"Tell me where Orcas live!\")\n",
        "chat(\"And what about dolphins?\")\n"
      ]
    },
    {
      "cell_type": "code",
      "execution_count": 44,
      "id": "6d9d8971-c75c-43ca-a209-eb1d07b2ead0",
      "metadata": {
        "colab": {
          "base_uri": "https://localhost:8080/",
          "height": 1000
        },
        "id": "6d9d8971-c75c-43ca-a209-eb1d07b2ead0",
        "outputId": "8aea22cb-d328-4452-c2bf-e22a2230938c"
      },
      "outputs": [
        {
          "output_type": "display_data",
          "data": {
            "image/png": "[encoded data removed]",
            "text/plain": [
              "<IPython.core.display.Image object>"
            ]
          },
          "metadata": {}
        },
        {
          "output_type": "stream",
          "name": "stderr",
          "text": [
            "WARNING:langsmith.client:Failed to send compressed multipart ingest: langsmith.utils.LangSmithAuthError: Authentication failed for https://api.smith.langchain.com/runs/multipart. HTTPError('401 Client Error: Unauthorized for url: https://api.smith.langchain.com/runs/multipart', '{\"error\":\"Unauthorized\"}\\n')trace=fbebac48-0646-4994-b7b8-20795a49e31e,id=fbebac48-0646-4994-b7b8-20795a49e31e; trace=fbebac48-0646-4994-b7b8-20795a49e31e,id=125c301c-6997-4b71-bfb3-60fb0014da31; trace=fbebac48-0646-4994-b7b8-20795a49e31e,id=5131ce8e-7dd2-49f6-a381-154600f110bc\n"
          ]
        },
        {
          "output_type": "stream",
          "name": "stdout",
          "text": [
            "==================================\u001b[1m Ai Message \u001b[0m==================================\n",
            "Name: Bot\n",
            "\n",
            "Hi.\n",
            "================================\u001b[1m Human Message \u001b[0m=================================\n",
            "Name: Lance\n",
            "\n",
            "Hi.\n",
            "==================================\u001b[1m Ai Message \u001b[0m==================================\n",
            "Name: Bot\n",
            "\n",
            "So you said you were researching ocean mammals?\n",
            "================================\u001b[1m Human Message \u001b[0m=================================\n",
            "Name: Lance\n",
            "\n",
            "Yes, I know about whales. But what others should I learn about?\n",
            "================================\u001b[1m Human Message \u001b[0m=================================\n",
            "Name: Lance\n",
            "\n",
            "Tell me where Orcas live!\n",
            "==================================\u001b[1m Ai Message \u001b[0m==================================\n",
            "\n",
            "Orcas, or killer whales, are found in oceans all around the world. They inhabit both cold and warm waters, making them one of the most widely distributed marine mammals. Typically, they are commonly sighted in coastal areas, but they can also be found in deep oceanic waters. Major populations are known to reside in regions like the North Pacific (including areas off the coasts of Alaska and Washington), the North Atlantic, and around the Antarctic. They prefer areas with abundant prey, such as fish and seals, and their distribution can vary based on food availability and environmental conditions.\n"
          ]
        },
        {
          "output_type": "stream",
          "name": "stderr",
          "text": [
            "WARNING:langsmith.client:Failed to send compressed multipart ingest: langsmith.utils.LangSmithAuthError: Authentication failed for https://api.smith.langchain.com/runs/multipart. HTTPError('401 Client Error: Unauthorized for url: https://api.smith.langchain.com/runs/multipart', '{\"error\":\"Unauthorized\"}\\n')trace=fbebac48-0646-4994-b7b8-20795a49e31e,id=5131ce8e-7dd2-49f6-a381-154600f110bc; trace=fbebac48-0646-4994-b7b8-20795a49e31e,id=125c301c-6997-4b71-bfb3-60fb0014da31; trace=fbebac48-0646-4994-b7b8-20795a49e31e,id=fbebac48-0646-4994-b7b8-20795a49e31e; trace=d19bee94-4283-4be6-acc1-b48beb2232a8,id=d19bee94-4283-4be6-acc1-b48beb2232a8; trace=d19bee94-4283-4be6-acc1-b48beb2232a8,id=5305b53a-4ac8-48ad-9a9a-75ca6e589fea; trace=d19bee94-4283-4be6-acc1-b48beb2232a8,id=e6138b90-2702-4fd6-948f-caad4070ae9a\n"
          ]
        },
        {
          "output_type": "stream",
          "name": "stdout",
          "text": [
            "==================================\u001b[1m Ai Message \u001b[0m==================================\n",
            "Name: Bot\n",
            "\n",
            "Hi.\n",
            "================================\u001b[1m Human Message \u001b[0m=================================\n",
            "Name: Lance\n",
            "\n",
            "Hi.\n",
            "==================================\u001b[1m Ai Message \u001b[0m==================================\n",
            "Name: Bot\n",
            "\n",
            "So you said you were researching ocean mammals?\n",
            "================================\u001b[1m Human Message \u001b[0m=================================\n",
            "Name: Lance\n",
            "\n",
            "Yes, I know about whales. But what others should I learn about?\n",
            "================================\u001b[1m Human Message \u001b[0m=================================\n",
            "Name: Lance\n",
            "\n",
            "Tell me where Orcas live!\n",
            "==================================\u001b[1m Ai Message \u001b[0m==================================\n",
            "\n",
            "Orcas, or killer whales, are found in oceans all around the world. They inhabit both cold and warm waters, making them one of the most widely distributed marine mammals. Typically, they are commonly sighted in coastal areas, but they can also be found in deep oceanic waters. Major populations are known to reside in regions like the North Pacific (including areas off the coasts of Alaska and Washington), the North Atlantic, and around the Antarctic. They prefer areas with abundant prey, such as fish and seals, and their distribution can vary based on food availability and environmental conditions.\n",
            "================================\u001b[1m Human Message \u001b[0m=================================\n",
            "Name: Lance\n",
            "\n",
            "And what about dolphins?\n",
            "==================================\u001b[1m Ai Message \u001b[0m==================================\n",
            "\n",
            "Dolphins are fascinating marine mammals known for their intelligence, social behavior, and acrobatic displays. They belong to the family Delphinidae and are found in oceans and seas around the world. Here are some key points about dolphins:\n",
            "\n",
            "1. **Intelligence**: Dolphins are highly intelligent animals with complex brains. They are capable of problem-solving, using tools, and even understanding abstract concepts.\n",
            "\n",
            "2. **Communication**: Dolphins communicate using a variety of sounds, including clicks, whistles, and body language. They have been observed using these sounds for navigation, hunting, and social interaction.\n",
            "\n",
            "3. **Social Structure**: Dolphins are social animals that live in groups called pods. These pods can vary in size and often consist of family members. They exhibit strong social bonds and engage in cooperative behaviors such as hunting and playing.\n",
            "\n",
            "4. **Playfulness**: Dolphins are known for their playful nature. They often engage in activities such as surfing on waves, leaping out of the water, and playing with other marine life.\n",
            "\n",
            "5. **Echolocation**: Dolphins use echolocation to navigate and hunt for food. They emit sound waves that bounce off objects and return to them, allowing them to identify the location, size, and shape of objects in their environment.\n",
            "\n",
            "6. **Conservation Status**: While some dolphin species are abundant, others are endangered due to factors such as habitat loss, pollution, fishing practices, and climate change. Conservation efforts are essential to protect these remarkable creatures.\n",
            "\n",
            "Dolphins have captured human interest for centuries, leading to various cultural representations and scientific studies. Their playful and intelligent nature continues to inspire awe and fascination worldwide.\n"
          ]
        },
        {
          "output_type": "stream",
          "name": "stderr",
          "text": [
            "WARNING:langsmith.client:Failed to send compressed multipart ingest: langsmith.utils.LangSmithAuthError: Authentication failed for https://api.smith.langchain.com/runs/multipart. HTTPError('401 Client Error: Unauthorized for url: https://api.smith.langchain.com/runs/multipart', '{\"error\":\"Unauthorized\"}\\n')trace=d19bee94-4283-4be6-acc1-b48beb2232a8,id=e6138b90-2702-4fd6-948f-caad4070ae9a; trace=d19bee94-4283-4be6-acc1-b48beb2232a8,id=5305b53a-4ac8-48ad-9a9a-75ca6e589fea; trace=d19bee94-4283-4be6-acc1-b48beb2232a8,id=d19bee94-4283-4be6-acc1-b48beb2232a8; trace=0ebf1347-8d27-490d-b4b5-4e569fc80370,id=0ebf1347-8d27-490d-b4b5-4e569fc80370; trace=0ebf1347-8d27-490d-b4b5-4e569fc80370,id=13a34cbf-8b3b-4db5-b5a8-5d5d1e776e0d; trace=0ebf1347-8d27-490d-b4b5-4e569fc80370,id=ebde5816-c825-4eac-b559-b9357cda3d27\n"
          ]
        },
        {
          "output_type": "stream",
          "name": "stdout",
          "text": [
            "==================================\u001b[1m Ai Message \u001b[0m==================================\n",
            "Name: Bot\n",
            "\n",
            "Hi.\n",
            "================================\u001b[1m Human Message \u001b[0m=================================\n",
            "Name: Lance\n",
            "\n",
            "Hi.\n",
            "==================================\u001b[1m Ai Message \u001b[0m==================================\n",
            "Name: Bot\n",
            "\n",
            "So you said you were researching ocean mammals?\n",
            "================================\u001b[1m Human Message \u001b[0m=================================\n",
            "Name: Lance\n",
            "\n",
            "Yes, I know about whales. But what others should I learn about?\n",
            "================================\u001b[1m Human Message \u001b[0m=================================\n",
            "Name: Lance\n",
            "\n",
            "Tell me where Orcas live!\n",
            "==================================\u001b[1m Ai Message \u001b[0m==================================\n",
            "\n",
            "Orcas, or killer whales, are found in oceans all around the world. They inhabit both cold and warm waters, making them one of the most widely distributed marine mammals. Typically, they are commonly sighted in coastal areas, but they can also be found in deep oceanic waters. Major populations are known to reside in regions like the North Pacific (including areas off the coasts of Alaska and Washington), the North Atlantic, and around the Antarctic. They prefer areas with abundant prey, such as fish and seals, and their distribution can vary based on food availability and environmental conditions.\n",
            "================================\u001b[1m Human Message \u001b[0m=================================\n",
            "Name: Lance\n",
            "\n",
            "And what about dolphins?\n",
            "==================================\u001b[1m Ai Message \u001b[0m==================================\n",
            "\n",
            "Dolphins are fascinating marine mammals known for their intelligence, social behavior, and acrobatic displays. They belong to the family Delphinidae and are found in oceans and seas around the world. Here are some key points about dolphins:\n",
            "\n",
            "1. **Intelligence**: Dolphins are highly intelligent animals with complex brains. They are capable of problem-solving, using tools, and even understanding abstract concepts.\n",
            "\n",
            "2. **Communication**: Dolphins communicate using a variety of sounds, including clicks, whistles, and body language. They have been observed using these sounds for navigation, hunting, and social interaction.\n",
            "\n",
            "3. **Social Structure**: Dolphins are social animals that live in groups called pods. These pods can vary in size and often consist of family members. They exhibit strong social bonds and engage in cooperative behaviors such as hunting and playing.\n",
            "\n",
            "4. **Playfulness**: Dolphins are known for their playful nature. They often engage in activities such as surfing on waves, leaping out of the water, and playing with other marine life.\n",
            "\n",
            "5. **Echolocation**: Dolphins use echolocation to navigate and hunt for food. They emit sound waves that bounce off objects and return to them, allowing them to identify the location, size, and shape of objects in their environment.\n",
            "\n",
            "6. **Conservation Status**: While some dolphin species are abundant, others are endangered due to factors such as habitat loss, pollution, fishing practices, and climate change. Conservation efforts are essential to protect these remarkable creatures.\n",
            "\n",
            "Dolphins have captured human interest for centuries, leading to various cultural representations and scientific studies. Their playful and intelligent nature continues to inspire awe and fascination worldwide.\n",
            "================================\u001b[1m Human Message \u001b[0m=================================\n",
            "Name: Lance\n",
            "\n",
            "Can you give me a fun fact about Narwhals?\n",
            "==================================\u001b[1m Ai Message \u001b[0m==================================\n",
            "\n",
            "Sure! One fun fact about narwhals is that their long, spiral tusk, which can grow up to 10 feet long, is actually an elongated tooth! This unique tusk is thought to play a role in social interactions and possibly even in mate selection, making narwhals quite fascinating creatures of the Arctic seas.\n"
          ]
        }
      ],
      "source": [
        "from IPython.display import Image, display\n",
        "from langgraph.graph import MessagesState, StateGraph, START, END\n",
        "from langchain_openai import ChatOpenAI\n",
        "from langchain_core.messages import AIMessage, HumanMessage, trim_messages\n",
        "\n",
        "# ==========================\n",
        "# Initialize LLM\n",
        "llm = ChatOpenAI(model=\"gpt-4o-mini\", openai_api_key=\"api key to be used here\")\n",
        "# ==========================\n",
        "\n",
        "# Node: Trim messages before sending to LLM\n",
        "def chat_model_node(state: MessagesState):\n",
        "    trimmed = trim_messages(\n",
        "        state[\"messages\"],\n",
        "        max_tokens=100,                     # Maximum tokens to keep\n",
        "        strategy=\"last\",                    # Keep recent messages\n",
        "        token_counter=ChatOpenAI(model=\"gpt-4o-mini\"),  # Token counter\n",
        "        allow_partial=False                  # Only full messages\n",
        "    )\n",
        "    return {\"messages\": [llm.invoke(trimmed)]}\n",
        "\n",
        "# Build the graph\n",
        "builder = StateGraph(MessagesState)\n",
        "builder.add_node(\"chat_model\", chat_model_node)\n",
        "builder.add_edge(START, \"chat_model\")\n",
        "builder.add_edge(\"chat_model\", END)\n",
        "graph = builder.compile()\n",
        "\n",
        "# Display the graph\n",
        "display(Image(graph.get_graph().draw_mermaid_png()))\n",
        "\n",
        "# ==========================\n",
        "# Pre-populated conversation\n",
        "messages = [\n",
        "    AIMessage(\"Hi.\", name=\"Bot\", id=\"1\"),\n",
        "    HumanMessage(\"Hi.\", name=\"Lance\", id=\"2\"),\n",
        "    AIMessage(\"So you said you were researching ocean mammals?\", name=\"Bot\", id=\"3\"),\n",
        "    HumanMessage(\"Yes, I know about whales. But what others should I learn about?\", name=\"Lance\", id=\"4\")\n",
        "]\n",
        "\n",
        "# Initialize output variable\n",
        "output = None\n",
        "\n",
        "# Function to continue conversation\n",
        "def chat(user_text):\n",
        "    global output\n",
        "    # Append last AI response if exists\n",
        "    if output and output['messages']:\n",
        "        messages.append(output['messages'][-1])\n",
        "    # Append new user message\n",
        "    messages.append(HumanMessage(user_text, name=\"Lance\"))\n",
        "\n",
        "    # Invoke the graph\n",
        "    output = graph.invoke({'messages': messages})\n",
        "\n",
        "    # Print AI responses\n",
        "    for m in output['messages']:\n",
        "        m.pretty_print()\n",
        "\n",
        "# ==========================\n",
        "# Example usage\n",
        "chat(\"Tell me where Orcas live!\")\n",
        "chat(\"And what about dolphins?\")\n",
        "chat(\"Can you give me a fun fact about Narwhals?\")\n"
      ]
    },
    {
      "cell_type": "code",
      "execution_count": 46,
      "id": "ed70a269-a869-4fa0-a1df-29736a432c51",
      "metadata": {
        "colab": {
          "base_uri": "https://localhost:8080/",
          "height": 1000
        },
        "id": "ed70a269-a869-4fa0-a1df-29736a432c51",
        "outputId": "df34d8b7-f23b-492b-d4e3-b3efc63f5eb2"
      },
      "outputs": [
        {
          "output_type": "display_data",
          "data": {
            "image/png": "[encoded data removed]",
            "text/plain": [
              "<IPython.core.display.Image object>"
            ]
          },
          "metadata": {}
        },
        {
          "output_type": "stream",
          "name": "stderr",
          "text": [
            "WARNING:langsmith.client:Failed to send compressed multipart ingest: langsmith.utils.LangSmithAuthError: Authentication failed for https://api.smith.langchain.com/runs/multipart. HTTPError('401 Client Error: Unauthorized for url: https://api.smith.langchain.com/runs/multipart', '{\"error\":\"Unauthorized\"}\\n')trace=8a728f4f-d05a-4967-8c77-1180ca3d0432,id=8a728f4f-d05a-4967-8c77-1180ca3d0432; trace=8a728f4f-d05a-4967-8c77-1180ca3d0432,id=27a55bb5-29f2-4734-87d3-dfcbdf1ea0cc; trace=8a728f4f-d05a-4967-8c77-1180ca3d0432,id=1f07fbd1-444f-4d94-8cdc-88affd5daa90\n"
          ]
        },
        {
          "output_type": "stream",
          "name": "stdout",
          "text": [
            "==================================\u001b[1m Ai Message \u001b[0m==================================\n",
            "Name: Bot\n",
            "\n",
            "Hi.\n",
            "================================\u001b[1m Human Message \u001b[0m=================================\n",
            "Name: Lance\n",
            "\n",
            "Hi.\n",
            "==================================\u001b[1m Ai Message \u001b[0m==================================\n",
            "Name: Bot\n",
            "\n",
            "So you said you were researching ocean mammals?\n",
            "================================\u001b[1m Human Message \u001b[0m=================================\n",
            "Name: Lance\n",
            "\n",
            "Yes, I know about whales. But what others should I learn about?\n",
            "================================\u001b[1m Human Message \u001b[0m=================================\n",
            "Name: Lance\n",
            "\n",
            "Tell me where Orcas live!\n",
            "==================================\u001b[1m Ai Message \u001b[0m==================================\n",
            "\n",
            "Orcas, also known as killer whales, are found in oceans all around the world. They inhabit a variety of environments, including coastal waters, open oceans, and even some river systems. They are most commonly found in colder waters, such as the Arctic and Antarctic regions, but they can also be seen in warmer waters as well. Orcas are highly adaptable and can thrive in various marine ecosystems, from the frigid waters of the North Pacific to the tropical waters around the equator.\n"
          ]
        },
        {
          "output_type": "stream",
          "name": "stderr",
          "text": [
            "WARNING:langsmith.client:Failed to send compressed multipart ingest: langsmith.utils.LangSmithAuthError: Authentication failed for https://api.smith.langchain.com/runs/multipart. HTTPError('401 Client Error: Unauthorized for url: https://api.smith.langchain.com/runs/multipart', '{\"error\":\"Unauthorized\"}\\n')trace=8a728f4f-d05a-4967-8c77-1180ca3d0432,id=1f07fbd1-444f-4d94-8cdc-88affd5daa90; trace=8a728f4f-d05a-4967-8c77-1180ca3d0432,id=27a55bb5-29f2-4734-87d3-dfcbdf1ea0cc; trace=8a728f4f-d05a-4967-8c77-1180ca3d0432,id=8a728f4f-d05a-4967-8c77-1180ca3d0432; trace=55182504-9bbc-4409-b1a6-473c0cdf9aea,id=55182504-9bbc-4409-b1a6-473c0cdf9aea; trace=55182504-9bbc-4409-b1a6-473c0cdf9aea,id=9211e2b2-c1e4-4424-ae8e-ecd7f631d6ad; trace=55182504-9bbc-4409-b1a6-473c0cdf9aea,id=4034ca8a-ca65-4529-afec-2e53d456cd41\n"
          ]
        },
        {
          "output_type": "stream",
          "name": "stdout",
          "text": [
            "==================================\u001b[1m Ai Message \u001b[0m==================================\n",
            "Name: Bot\n",
            "\n",
            "Hi.\n",
            "================================\u001b[1m Human Message \u001b[0m=================================\n",
            "Name: Lance\n",
            "\n",
            "Hi.\n",
            "==================================\u001b[1m Ai Message \u001b[0m==================================\n",
            "Name: Bot\n",
            "\n",
            "So you said you were researching ocean mammals?\n",
            "================================\u001b[1m Human Message \u001b[0m=================================\n",
            "Name: Lance\n",
            "\n",
            "Yes, I know about whales. But what others should I learn about?\n",
            "================================\u001b[1m Human Message \u001b[0m=================================\n",
            "Name: Lance\n",
            "\n",
            "Tell me where Orcas live!\n",
            "==================================\u001b[1m Ai Message \u001b[0m==================================\n",
            "\n",
            "Orcas, also known as killer whales, are found in oceans all around the world. They inhabit a variety of environments, including coastal waters, open oceans, and even some river systems. They are most commonly found in colder waters, such as the Arctic and Antarctic regions, but they can also be seen in warmer waters as well. Orcas are highly adaptable and can thrive in various marine ecosystems, from the frigid waters of the North Pacific to the tropical waters around the equator.\n",
            "================================\u001b[1m Human Message \u001b[0m=================================\n",
            "Name: Lance\n",
            "\n",
            "And what about dolphins?\n",
            "==================================\u001b[1m Ai Message \u001b[0m==================================\n",
            "\n",
            "Dolphins are fascinating marine mammals known for their intelligence, social behavior, and agility in the water. They belong to the family Delphinidae and are part of the cetacean order, which includes whales and porpoises. Dolphins are highly social animals, often found in groups called pods, and they communicate using a variety of clicks, whistles, and body movements.\n",
            "\n",
            "There are many species of dolphins, with the bottlenose dolphin being one of the most well-known. They exhibit playful behavior and are often seen riding the waves created by boats. Dolphins are also known for their problem-solving abilities and have been observed using tools, such as marine sponges, to protect their snouts while foraging on the seafloor.\n",
            "\n",
            "Dolphins play a crucial role in marine ecosystems and are often indicators of ocean health. Unfortunately, they face threats from habitat loss, pollution, and fishing practices. Conservation efforts are important to protect these remarkable creatures and their habitats. If you have specific questions about dolphins or a particular aspect of them, feel free to ask!\n"
          ]
        },
        {
          "output_type": "stream",
          "name": "stderr",
          "text": [
            "WARNING:langsmith.client:Failed to send compressed multipart ingest: langsmith.utils.LangSmithAuthError: Authentication failed for https://api.smith.langchain.com/runs/multipart. HTTPError('401 Client Error: Unauthorized for url: https://api.smith.langchain.com/runs/multipart', '{\"error\":\"Unauthorized\"}\\n')trace=55182504-9bbc-4409-b1a6-473c0cdf9aea,id=4034ca8a-ca65-4529-afec-2e53d456cd41; trace=55182504-9bbc-4409-b1a6-473c0cdf9aea,id=9211e2b2-c1e4-4424-ae8e-ecd7f631d6ad; trace=55182504-9bbc-4409-b1a6-473c0cdf9aea,id=55182504-9bbc-4409-b1a6-473c0cdf9aea; trace=0138a2fa-06a0-471a-a9cc-1b0d2186c7de,id=0138a2fa-06a0-471a-a9cc-1b0d2186c7de; trace=0138a2fa-06a0-471a-a9cc-1b0d2186c7de,id=1e78503c-8f64-464e-8f54-8f860404a232; trace=0138a2fa-06a0-471a-a9cc-1b0d2186c7de,id=94b1f29d-2301-433e-82ca-9a7755213786\n"
          ]
        },
        {
          "output_type": "stream",
          "name": "stdout",
          "text": [
            "==================================\u001b[1m Ai Message \u001b[0m==================================\n",
            "Name: Bot\n",
            "\n",
            "Hi.\n",
            "================================\u001b[1m Human Message \u001b[0m=================================\n",
            "Name: Lance\n",
            "\n",
            "Hi.\n",
            "==================================\u001b[1m Ai Message \u001b[0m==================================\n",
            "Name: Bot\n",
            "\n",
            "So you said you were researching ocean mammals?\n",
            "================================\u001b[1m Human Message \u001b[0m=================================\n",
            "Name: Lance\n",
            "\n",
            "Yes, I know about whales. But what others should I learn about?\n",
            "================================\u001b[1m Human Message \u001b[0m=================================\n",
            "Name: Lance\n",
            "\n",
            "Tell me where Orcas live!\n",
            "==================================\u001b[1m Ai Message \u001b[0m==================================\n",
            "\n",
            "Orcas, also known as killer whales, are found in oceans all around the world. They inhabit a variety of environments, including coastal waters, open oceans, and even some river systems. They are most commonly found in colder waters, such as the Arctic and Antarctic regions, but they can also be seen in warmer waters as well. Orcas are highly adaptable and can thrive in various marine ecosystems, from the frigid waters of the North Pacific to the tropical waters around the equator.\n",
            "================================\u001b[1m Human Message \u001b[0m=================================\n",
            "Name: Lance\n",
            "\n",
            "And what about dolphins?\n",
            "==================================\u001b[1m Ai Message \u001b[0m==================================\n",
            "\n",
            "Dolphins are fascinating marine mammals known for their intelligence, social behavior, and agility in the water. They belong to the family Delphinidae and are part of the cetacean order, which includes whales and porpoises. Dolphins are highly social animals, often found in groups called pods, and they communicate using a variety of clicks, whistles, and body movements.\n",
            "\n",
            "There are many species of dolphins, with the bottlenose dolphin being one of the most well-known. They exhibit playful behavior and are often seen riding the waves created by boats. Dolphins are also known for their problem-solving abilities and have been observed using tools, such as marine sponges, to protect their snouts while foraging on the seafloor.\n",
            "\n",
            "Dolphins play a crucial role in marine ecosystems and are often indicators of ocean health. Unfortunately, they face threats from habitat loss, pollution, and fishing practices. Conservation efforts are important to protect these remarkable creatures and their habitats. If you have specific questions about dolphins or a particular aspect of them, feel free to ask!\n",
            "================================\u001b[1m Human Message \u001b[0m=================================\n",
            "Name: Lance\n",
            "\n",
            "Can you give me a fun fact about Narwhals?\n",
            "==================================\u001b[1m Ai Message \u001b[0m==================================\n",
            "\n",
            "Sure! One fun fact about narwhals is that their long, spiral tusk, which can grow up to 10 feet in length, is actually an elongated tooth! This tusk is primarily found in males, and it is believed to play a role in mating displays and social interactions. Interestingly, some females can also grow a tusk, but it is much rarer.\n"
          ]
        }
      ],
      "source": [
        "from IPython.display import Image, display\n",
        "from langgraph.graph import MessagesState, StateGraph, START, END\n",
        "from langchain_openai import ChatOpenAI\n",
        "from langchain_core.messages import AIMessage, HumanMessage, trim_messages\n",
        "\n",
        "# ==========================\n",
        "# Initialize the LLM\n",
        "llm = ChatOpenAI(model=\"gpt-4o-mini\", openai_api_key=\"api key to be used here\")\n",
        "# ==========================\n",
        "\n",
        "# Node: Trim messages before sending to LLM\n",
        "def chat_model_node(state: MessagesState):\n",
        "    trimmed = trim_messages(\n",
        "        state[\"messages\"],\n",
        "        max_tokens=100,                     # Maximum tokens to keep\n",
        "        strategy=\"last\",                    # Keep recent messages\n",
        "        token_counter=ChatOpenAI(model=\"gpt-4o-mini\"),  # Token counter\n",
        "        allow_partial=False                  # Only full messages\n",
        "    )\n",
        "    return {\"messages\": [llm.invoke(trimmed)]}\n",
        "\n",
        "# Build the graph\n",
        "builder = StateGraph(MessagesState)\n",
        "builder.add_node(\"chat_model\", chat_model_node)\n",
        "builder.add_edge(START, \"chat_model\")\n",
        "builder.add_edge(\"chat_model\", END)\n",
        "graph = builder.compile()\n",
        "\n",
        "# Display the graph\n",
        "display(Image(graph.get_graph().draw_mermaid_png()))\n",
        "\n",
        "# ==========================\n",
        "# Pre-populated conversation\n",
        "messages = [\n",
        "    AIMessage(\"Hi.\", name=\"Bot\", id=\"1\"),\n",
        "    HumanMessage(\"Hi.\", name=\"Lance\", id=\"2\"),\n",
        "    AIMessage(\"So you said you were researching ocean mammals?\", name=\"Bot\", id=\"3\"),\n",
        "    HumanMessage(\"Yes, I know about whales. But what others should I learn about?\", name=\"Lance\", id=\"4\")\n",
        "]\n",
        "\n",
        "# Initialize output variable\n",
        "output = None\n",
        "\n",
        "# Function to continue conversation\n",
        "def chat(user_text):\n",
        "    global output\n",
        "    # Append last AI response if exists\n",
        "    if output and output['messages']:\n",
        "        messages.append(output['messages'][-1])\n",
        "    # Append new user message\n",
        "    messages.append(HumanMessage(user_text, name=\"Lance\"))\n",
        "\n",
        "    # Invoke the graph with trimming applied inside the node\n",
        "    output = graph.invoke({'messages': messages})\n",
        "\n",
        "    # Print AI responses\n",
        "    for m in output['messages']:\n",
        "        m.pretty_print()\n",
        "\n",
        "# ==========================\n",
        "# Example usage\n",
        "chat(\"Tell me where Orcas live!\")\n",
        "chat(\"And what about dolphins?\")\n",
        "chat(\"Can you give me a fun fact about Narwhals?\")\n"
      ]
    },
    {
      "cell_type": "markdown",
      "id": "38b3db67-380e-46b5-9a6a-20100ba52008",
      "metadata": {
        "id": "38b3db67-380e-46b5-9a6a-20100ba52008"
      },
      "source": [
        "Let's look at the LangSmith trace to see the model invocation:\n",
        "\n",
        "https://smith.langchain.com/public/b153f7e9-f1a5-4d60-8074-f0d7ab5b42ef/r"
      ]
    }
  ],
  "metadata": {
    "kernelspec": {
      "display_name": "Python 3 (ipykernel)",
      "language": "python",
      "name": "python3"
    },
    "language_info": {
      "codemirror_mode": {
        "name": "ipython",
        "version": 3
      },
      "file_extension": ".py",
      "mimetype": "text/x-python",
      "name": "python",
      "nbconvert_exporter": "python",
      "pygments_lexer": "ipython3",
      "version": "3.12.1"
    },
    "colab": {
      "provenance": []
    }
  },
  "nbformat": 4,
  "nbformat_minor": 5
}