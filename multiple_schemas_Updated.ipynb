{
  "cells": [
    {
      "cell_type": "markdown",
      "id": "e2996fea",
      "metadata": {
        "id": "e2996fea"
      },
      "source": [
        "[![Open in Colab](https://colab.research.google.com/assets/colab-badge.svg)](https://colab.research.google.com/github/langchain-ai/langchain-academy/blob/main/module-2/multiple-schemas.ipynb) [![Open in LangChain Academy](https://cdn.prod.website-files.com/65b8cd72835ceeacd4449a53/66e9eba12c7b7688aa3dbb5e_LCA-badge-green.svg)](https://academy.langchain.com/courses/take/intro-to-langgraph/lessons/58239434-lesson-3-multiple-schemas)"
      ]
    },
    {
      "cell_type": "markdown",
      "id": "693d9912-8d56-46a2-a445-3ee5651fe433",
      "metadata": {
        "id": "693d9912-8d56-46a2-a445-3ee5651fe433"
      },
      "source": [
        "# Multiple Schemas\n",
        "\n",
        "## Review\n",
        "\n",
        "We just covered state schema and reducers.\n",
        "\n",
        "Typically, all graph nodes communicate with a single schema.\n",
        "\n",
        "Also, this single schema contains the graph's input and output keys / channels.\n",
        "\n",
        "## Goals\n",
        "\n",
        "But, there are cases where we may want a bit more control over this:\n",
        "\n",
        "* Internal nodes may pass information that is *not required* in the graph's input / output.\n",
        "\n",
        "* We may also want to use different input / output schemas for the graph. The output might, for example, only contain a single relevant output key.\n",
        "\n",
        "We'll discuss a few ways to customize graphs with multiple schemas."
      ]
    },
    {
      "cell_type": "code",
      "execution_count": 1,
      "id": "4d727cc2-5a43-4eb5-9d69-82bbbcc35bd9",
      "metadata": {
        "id": "4d727cc2-5a43-4eb5-9d69-82bbbcc35bd9"
      },
      "outputs": [],
      "source": [
        "%%capture --no-stderr\n",
        "%pip install --quiet -U langgraph"
      ]
    },
    {
      "cell_type": "markdown",
      "id": "29b3d109-6bf2-4271-9775-556ee4bd900d",
      "metadata": {
        "id": "29b3d109-6bf2-4271-9775-556ee4bd900d"
      },
      "source": [
        "## Private State\n",
        "\n",
        "First, let's cover the case of passing [private state](https://langchain-ai.github.io/langgraph/how-tos/pass_private_state/) between nodes.\n",
        "\n",
        "This is useful for anything needed as part of the intermediate working logic of the graph, but not relevant for the overall graph input or output.\n",
        "\n",
        "We'll define an `OverallState` and a `PrivateState`.\n",
        "\n",
        "`node_2` uses `PrivateState` as input, but writes out to `OverallState`."
      ]
    },
    {
      "cell_type": "code",
      "execution_count": 6,
      "id": "038ca2e4-7d6d-49d5-b213-b38469cde434",
      "metadata": {
        "colab": {
          "base_uri": "https://localhost:8080/",
          "height": 368
        },
        "id": "038ca2e4-7d6d-49d5-b213-b38469cde434",
        "outputId": "f7d34b9a-4506-4ba4-b782-9a7ac9e4a65f"
      },
      "outputs": [
        {
          "output_type": "stream",
          "name": "stdout",
          "text": [
            "✅ Graph successfully built with customized schemas and logic.\n"
          ]
        },
        {
          "output_type": "display_data",
          "data": {
            "image/png": "[encoded data removed]",
            "text/plain": [
              "<IPython.core.display.Image object>"
            ]
          },
          "metadata": {}
        }
      ],
      "source": [
        "from typing_extensions import TypedDict\n",
        "from IPython.display import Image, display\n",
        "from langgraph.graph import StateGraph, START, END\n",
        "\n",
        "# Define the overall schema shared between graph nodes\n",
        "class OverallState(TypedDict):\n",
        "    foo: int\n",
        "    status: str  # Added to show how the graph can hold additional non-essential info\n",
        "\n",
        "# Define private schema (used internally)\n",
        "class PrivateState(TypedDict):\n",
        "    baz: int\n",
        "\n",
        "# Node 1: Processes input and generates an internal private value\n",
        "def node_1(state: OverallState) -> PrivateState:\n",
        "    print(\"---Node 1---\")\n",
        "    baz_value = state[\"foo\"] * 2   # Modified logic: multiply instead of add\n",
        "    print(f\"Internal (private) value computed: baz = {baz_value}\")\n",
        "    return {\"baz\": baz_value}\n",
        "\n",
        "# Node 2: Consumes private value and updates main state\n",
        "def node_2(state: PrivateState) -> OverallState:\n",
        "    print(\"---Node 2---\")\n",
        "    foo_value = state[\"baz\"] - 1   # Slightly different transformation\n",
        "    print(f\"Output (public) value computed: foo = {foo_value}\")\n",
        "    return {\"foo\": foo_value, \"status\": \"processed\"}  # Adds an extra key for output schema\n",
        "\n",
        "# Build graph with OverallState as the base schema\n",
        "builder = StateGraph(OverallState)\n",
        "\n",
        "# Register nodes\n",
        "builder.add_node(\"node_1\", node_1)\n",
        "builder.add_node(\"node_2\", node_2)\n",
        "\n",
        "# Define graph flow\n",
        "builder.add_edge(START, \"node_1\")\n",
        "builder.add_edge(\"node_1\", \"node_2\")\n",
        "builder.add_edge(\"node_2\", END)\n",
        "\n",
        "# Compile and visualize the graph\n",
        "graph = builder.compile()\n",
        "\n",
        "print(\"✅ Graph successfully built with customized schemas and logic.\")\n",
        "display(Image(graph.get_graph().draw_mermaid_png()))\n"
      ]
    },
    {
      "cell_type": "code",
      "execution_count": 3,
      "id": "3dc9cd64-4bd3-4c0a-8f8f-d58c551428e3",
      "metadata": {
        "colab": {
          "base_uri": "https://localhost:8080/"
        },
        "id": "3dc9cd64-4bd3-4c0a-8f8f-d58c551428e3",
        "outputId": "791ad25e-eb68-437c-847c-96539c7e6b0e"
      },
      "outputs": [
        {
          "output_type": "stream",
          "name": "stdout",
          "text": [
            "---Node 1---\n",
            "---Node 2---\n"
          ]
        },
        {
          "output_type": "execute_result",
          "data": {
            "text/plain": [
              "{'foo': 3}"
            ]
          },
          "metadata": {},
          "execution_count": 3
        }
      ],
      "source": [
        "graph.invoke({\"foo\" : 1})"
      ]
    },
    {
      "cell_type": "markdown",
      "id": "50a29f37-f653-4a56-ad0a-345d7f632ea0",
      "metadata": {
        "id": "50a29f37-f653-4a56-ad0a-345d7f632ea0"
      },
      "source": [
        "`baz` is only included in `PrivateState`.\n",
        "\n",
        "`node_2` uses `PrivateState` as input, but writes out to `OverallState`.\n",
        "\n",
        "So, we can see that `baz` is excluded from the graph output because it is not in `OverallState`."
      ]
    },
    {
      "cell_type": "markdown",
      "id": "75a8362f-009b-4ec2-abe5-8fb318e39966",
      "metadata": {
        "id": "75a8362f-009b-4ec2-abe5-8fb318e39966"
      },
      "source": [
        "## Input / Output Schema\n",
        "\n",
        "By default, `StateGraph` takes in a single schema and all nodes are expected to communicate with that schema.\n",
        "\n",
        "However, it is also possible to [define explicit input and output schemas for a graph](https://langchain-ai.github.io/langgraph/how-tos/input_output_schema/?h=input+outp).\n",
        "\n",
        "Often, in these cases, we define an \"internal\" schema that contains *all* keys relevant to graph operations.\n",
        "\n",
        "But, we use specific `input` and `output` schemas to constrain the input and output.\n",
        "\n",
        "First, let's just run the graph with a single schema."
      ]
    },
    {
      "cell_type": "code",
      "execution_count": 7,
      "id": "5323068a-907a-438c-8db5-46e5d452ad72",
      "metadata": {
        "colab": {
          "base_uri": "https://localhost:8080/",
          "height": 368
        },
        "id": "5323068a-907a-438c-8db5-46e5d452ad72",
        "outputId": "30975641-7db1-4db1-b2dd-391a52278ee5"
      },
      "outputs": [
        {
          "output_type": "stream",
          "name": "stdout",
          "text": [
            "✅ Custom conversational graph built successfully.\n"
          ]
        },
        {
          "output_type": "display_data",
          "data": {
            "image/png": "[encoded data removed]",
            "text/plain": [
              "<IPython.core.display.Image object>"
            ]
          },
          "metadata": {}
        }
      ],
      "source": [
        "from typing_extensions import TypedDict\n",
        "from IPython.display import Image, display\n",
        "from langgraph.graph import StateGraph, START, END\n",
        "\n",
        "# Define schema for overall conversation state\n",
        "class OverallState(TypedDict):\n",
        "    question: str\n",
        "    answer: str\n",
        "    notes: str\n",
        "    confidence: float  # Added new field to hold confidence level of the answer\n",
        "\n",
        "# Node 1: Think through the question and generate notes\n",
        "def thinking_node(state: OverallState):\n",
        "    print(\"---Thinking Node---\")\n",
        "    thought = f\"Analyzing the question: '{state['question']}'\"\n",
        "    print(thought)\n",
        "    # Simulate reasoning and generate internal notes\n",
        "    return {\n",
        "        \"notes\": f\"{thought} ... possible clue: Lance is involved.\",\n",
        "        \"answer\": \"\",\n",
        "        \"confidence\": 0.6  # intermediate confidence\n",
        "    }\n",
        "\n",
        "# Node 2: Use notes to produce the final answer\n",
        "def answer_node(state: OverallState):\n",
        "    print(\"---Answer Node---\")\n",
        "    if \"Lance\" in state[\"notes\"]:\n",
        "        final_answer = \"Goodbye Lance\"\n",
        "        confidence = 0.95\n",
        "    else:\n",
        "        final_answer = \"Not enough context\"\n",
        "        confidence = 0.3\n",
        "    print(f\"Final Answer: {final_answer} (Confidence: {confidence})\")\n",
        "    return {\"answer\": final_answer, \"confidence\": confidence, \"notes\": state[\"notes\"]}\n",
        "\n",
        "# Build the graph\n",
        "graph = StateGraph(OverallState)\n",
        "graph.add_node(\"thinking_node\", thinking_node)\n",
        "graph.add_node(\"answer_node\", answer_node)\n",
        "\n",
        "# Define edges\n",
        "graph.add_edge(START, \"thinking_node\")\n",
        "graph.add_edge(\"thinking_node\", \"answer_node\")\n",
        "graph.add_edge(\"answer_node\", END)\n",
        "\n",
        "# Compile and visualize\n",
        "graph = graph.compile()\n",
        "print(\"✅ Custom conversational graph built successfully.\")\n",
        "display(Image(graph.get_graph().draw_mermaid_png()))\n"
      ]
    },
    {
      "cell_type": "markdown",
      "id": "853fc90c-bf82-4d51-b3a5-ceb0b0ae5233",
      "metadata": {
        "id": "853fc90c-bf82-4d51-b3a5-ceb0b0ae5233"
      },
      "source": [
        "Notice that the output of invoke contains all keys in `OverallState`."
      ]
    },
    {
      "cell_type": "code",
      "execution_count": 8,
      "id": "507d35e6-f65c-4e89-b26e-a0ef7b90be83",
      "metadata": {
        "colab": {
          "base_uri": "https://localhost:8080/"
        },
        "id": "507d35e6-f65c-4e89-b26e-a0ef7b90be83",
        "outputId": "c962ed9e-4279-40af-e6c1-28efb37b5eda"
      },
      "outputs": [
        {
          "output_type": "stream",
          "name": "stdout",
          "text": [
            "---Thinking Node---\n",
            "Analyzing the question: 'why'\n",
            "---Answer Node---\n",
            "Final Answer: Goodbye Lance (Confidence: 0.95)\n"
          ]
        },
        {
          "output_type": "execute_result",
          "data": {
            "text/plain": [
              "{'question': 'why',\n",
              " 'answer': 'Goodbye Lance',\n",
              " 'notes': \"Analyzing the question: 'why' ... possible clue: Lance is involved.\",\n",
              " 'confidence': 0.95}"
            ]
          },
          "metadata": {},
          "execution_count": 8
        }
      ],
      "source": [
        "graph.invoke({\"question\":\"why\"})"
      ]
    },
    {
      "cell_type": "markdown",
      "id": "e5a899c3-e1b0-48eb-9a36-8c787e378ef0",
      "metadata": {
        "id": "e5a899c3-e1b0-48eb-9a36-8c787e378ef0"
      },
      "source": [
        "Now, let's use a specific `input` and `output` schema with our graph.\n",
        "\n",
        "Here, `input` / `output` schemas perform *filtering* on what keys are permitted on the input and output of the graph.\n",
        "\n",
        "In addition, we can use a type hint `state: InputState` to specify the input schema of each of our nodes.\n",
        "\n",
        "This is important when the graph is using multiple schemas.\n",
        "\n",
        "We use type hints below to, for example, show that the output of `answer_node` will be filtered to `OutputState`."
      ]
    },
    {
      "cell_type": "code",
      "execution_count": 9,
      "id": "682b3d10-c78a-41c2-a5ff-842e1688c95f",
      "metadata": {
        "colab": {
          "base_uri": "https://localhost:8080/",
          "height": 461
        },
        "id": "682b3d10-c78a-41c2-a5ff-842e1688c95f",
        "outputId": "458b8ba0-ca75-40bd-bebf-d418c2cdb857"
      },
      "outputs": [
        {
          "output_type": "stream",
          "name": "stdout",
          "text": [
            "✅ Graph compiled successfully with custom schemas.\n"
          ]
        },
        {
          "output_type": "display_data",
          "data": {
            "image/png": "[encoded data removed]",
            "text/plain": [
              "<IPython.core.display.Image object>"
            ]
          },
          "metadata": {}
        },
        {
          "output_type": "stream",
          "name": "stdout",
          "text": [
            "---Thinking Node---\n",
            "---Answer Node---\n",
            "\n",
            "Graph Output:\n",
            "{'answer': 'Final Answer: Processing your question thoughtfully... (based on internal notes)', 'summary': 'Reasoned through 1 step(s).'}\n"
          ]
        }
      ],
      "source": [
        "from typing_extensions import TypedDict\n",
        "from IPython.display import Image, display\n",
        "from langgraph.graph import StateGraph, START, END\n",
        "\n",
        "# Define separate schemas for input, output, and overall processing\n",
        "class InputState(TypedDict):\n",
        "    question: str\n",
        "\n",
        "class OutputState(TypedDict):\n",
        "    answer: str\n",
        "    summary: str  # Added to demonstrate richer output schema\n",
        "\n",
        "class OverallState(TypedDict):\n",
        "    question: str\n",
        "    answer: str\n",
        "    notes: str\n",
        "    reasoning_steps: int  # Added to show internal tracking between nodes\n",
        "\n",
        "# Node 1: Think about the question and generate intermediate notes\n",
        "def thinking_node(state: InputState):\n",
        "    print(\"---Thinking Node---\")\n",
        "    question_text = state[\"question\"].strip().lower()\n",
        "    if \"bye\" in question_text:\n",
        "        response = \"Seems like you’re saying goodbye.\"\n",
        "    else:\n",
        "        response = \"Processing your question thoughtfully...\"\n",
        "    notes = f\"Identified intent from question: '{question_text}'.\"\n",
        "    return {\"answer\": response, \"notes\": notes, \"reasoning_steps\": 1}\n",
        "\n",
        "# Node 2: Produce a final answer and a summary for output\n",
        "def answer_node(state: OverallState) -> OutputState:\n",
        "    print(\"---Answer Node---\")\n",
        "    final_answer = f\"Final Answer: {state['answer']} (based on internal notes)\"\n",
        "    summary = f\"Reasoned through {state['reasoning_steps']} step(s).\"\n",
        "    return {\"answer\": final_answer, \"summary\": summary}\n",
        "\n",
        "# Build graph that uses different schemas for input/output\n",
        "graph = StateGraph(OverallState, input_schema=InputState, output_schema=OutputState)\n",
        "\n",
        "# Add nodes\n",
        "graph.add_node(\"thinking_node\", thinking_node)\n",
        "graph.add_node(\"answer_node\", answer_node)\n",
        "\n",
        "# Define edges\n",
        "graph.add_edge(START, \"thinking_node\")\n",
        "graph.add_edge(\"thinking_node\", \"answer_node\")\n",
        "graph.add_edge(\"answer_node\", END)\n",
        "\n",
        "# Compile and visualize\n",
        "graph = graph.compile()\n",
        "print(\"✅ Graph compiled successfully with custom schemas.\")\n",
        "display(Image(graph.get_graph().draw_mermaid_png()))\n",
        "\n",
        "# Invoke graph with a custom input\n",
        "result = graph.invoke({\"question\": \"Hi there\"})\n",
        "print(\"\\nGraph Output:\")\n",
        "print(result)\n"
      ]
    },
    {
      "cell_type": "markdown",
      "id": "f1e5ff21",
      "metadata": {
        "id": "f1e5ff21"
      },
      "source": [
        "We can see the `output` schema constrains the output to only the `answer` key."
      ]
    },
    {
      "cell_type": "markdown",
      "id": "dad97b85",
      "metadata": {
        "id": "dad97b85"
      },
      "source": []
    }
  ],
  "metadata": {
    "kernelspec": {
      "display_name": "lc-academy-env",
      "language": "python",
      "name": "python3"
    },
    "language_info": {
      "codemirror_mode": {
        "name": "ipython",
        "version": 3
      },
      "file_extension": ".py",
      "mimetype": "text/x-python",
      "name": "python",
      "nbconvert_exporter": "python",
      "pygments_lexer": "ipython3",
      "version": "3.11.8"
    },
    "colab": {
      "provenance": []
    }
  },
  "nbformat": 4,
  "nbformat_minor": 5
}