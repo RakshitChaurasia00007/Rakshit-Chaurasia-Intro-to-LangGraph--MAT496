{
  "cells": [
    {
      "cell_type": "markdown",
      "id": "147e576c",
      "metadata": {
        "id": "147e576c"
      },
      "source": [
        "[![Open in Colab](https://colab.research.google.com/assets/colab-badge.svg)](https://colab.research.google.com/github/langchain-ai/langchain-academy/blob/main/module-3/edit-state-human-feedback.ipynb) [![Open in LangChain Academy](https://cdn.prod.website-files.com/65b8cd72835ceeacd4449a53/66e9eba12c7b7688aa3dbb5e_LCA-badge-green.svg)](https://academy.langchain.com/courses/take/intro-to-langgraph/lessons/58239520-lesson-3-editing-state-and-human-feedback)"
      ]
    },
    {
      "cell_type": "markdown",
      "id": "3b2f2448-21c3-4196-9e61-0b47e7d0048b",
      "metadata": {
        "id": "3b2f2448-21c3-4196-9e61-0b47e7d0048b"
      },
      "source": [
        "# Editing graph state\n",
        "\n",
        "## Review\n",
        "\n",
        "We discussed motivations for human-in-the-loop:\n",
        "\n",
        "(1) `Approval` - We can interrupt our agent, surface state to a user, and allow the user to accept an action\n",
        "\n",
        "(2) `Debugging` - We can rewind the graph to reproduce or avoid issues\n",
        "\n",
        "(3) `Editing` - You can modify the state\n",
        "\n",
        "We showed how breakpoints support user approval, but don't yet know how to modify our graph state once our graph is interrupted!\n",
        "\n",
        "## Goals\n",
        "\n",
        "Now, let's show how to directly edit the graph state and insert human feedback."
      ]
    },
    {
      "cell_type": "code",
      "execution_count": 1,
      "id": "95d26b8c-d958-4d21-9ca4-4636d3dfe45c",
      "metadata": {
        "id": "95d26b8c-d958-4d21-9ca4-4636d3dfe45c"
      },
      "outputs": [],
      "source": [
        "%%capture --no-stderr\n",
        "%pip install --quiet -U langgraph langchain_openai langgraph_sdk langgraph-prebuilt"
      ]
    },
    {
      "cell_type": "code",
      "execution_count": 55,
      "id": "d5948594",
      "metadata": {
        "colab": {
          "base_uri": "https://localhost:8080/",
          "height": 338
        },
        "id": "d5948594",
        "outputId": "e37bbfc0-44bd-41c0-a993-739e3de14ea1"
      },
      "outputs": [
        {
          "output_type": "error",
          "ename": "KeyboardInterrupt",
          "evalue": "Interrupted by user",
          "traceback": [
            "\u001b[0;31m---------------------------------------------------------------------------\u001b[0m",
            "\u001b[0;31mKeyboardInterrupt\u001b[0m                         Traceback (most recent call last)",
            "\u001b[0;32m/tmp/ipython-input-2722484010.py\u001b[0m in \u001b[0;36m<cell line: 0>\u001b[0;34m()\u001b[0m\n\u001b[1;32m      5\u001b[0m         \u001b[0mos\u001b[0m\u001b[0;34m.\u001b[0m\u001b[0menviron\u001b[0m\u001b[0;34m[\u001b[0m\u001b[0mvar\u001b[0m\u001b[0;34m]\u001b[0m \u001b[0;34m=\u001b[0m \u001b[0mgetpass\u001b[0m\u001b[0;34m.\u001b[0m\u001b[0mgetpass\u001b[0m\u001b[0;34m(\u001b[0m\u001b[0;34mf\"{var}: \"\u001b[0m\u001b[0;34m)\u001b[0m\u001b[0;34m\u001b[0m\u001b[0;34m\u001b[0m\u001b[0m\n\u001b[1;32m      6\u001b[0m \u001b[0;34m\u001b[0m\u001b[0m\n\u001b[0;32m----> 7\u001b[0;31m \u001b[0m_set_env\u001b[0m\u001b[0;34m(\u001b[0m\u001b[0;34m\"Open ai api key is to be used here \"\u001b[0m\u001b[0;34m)\u001b[0m\u001b[0;34m\u001b[0m\u001b[0;34m\u001b[0m\u001b[0m\n\u001b[0m",
            "\u001b[0;32m/tmp/ipython-input-2722484010.py\u001b[0m in \u001b[0;36m_set_env\u001b[0;34m(var)\u001b[0m\n\u001b[1;32m      3\u001b[0m \u001b[0;32mdef\u001b[0m \u001b[0m_set_env\u001b[0m\u001b[0;34m(\u001b[0m\u001b[0mvar\u001b[0m\u001b[0;34m:\u001b[0m \u001b[0mstr\u001b[0m\u001b[0;34m)\u001b[0m\u001b[0;34m:\u001b[0m\u001b[0;34m\u001b[0m\u001b[0;34m\u001b[0m\u001b[0m\n\u001b[1;32m      4\u001b[0m     \u001b[0;32mif\u001b[0m \u001b[0;32mnot\u001b[0m \u001b[0mos\u001b[0m\u001b[0;34m.\u001b[0m\u001b[0menviron\u001b[0m\u001b[0;34m.\u001b[0m\u001b[0mget\u001b[0m\u001b[0;34m(\u001b[0m\u001b[0mvar\u001b[0m\u001b[0;34m)\u001b[0m\u001b[0;34m:\u001b[0m\u001b[0;34m\u001b[0m\u001b[0;34m\u001b[0m\u001b[0m\n\u001b[0;32m----> 5\u001b[0;31m         \u001b[0mos\u001b[0m\u001b[0;34m.\u001b[0m\u001b[0menviron\u001b[0m\u001b[0;34m[\u001b[0m\u001b[0mvar\u001b[0m\u001b[0;34m]\u001b[0m \u001b[0;34m=\u001b[0m \u001b[0mgetpass\u001b[0m\u001b[0;34m.\u001b[0m\u001b[0mgetpass\u001b[0m\u001b[0;34m(\u001b[0m\u001b[0;34mf\"{var}: \"\u001b[0m\u001b[0;34m)\u001b[0m\u001b[0;34m\u001b[0m\u001b[0;34m\u001b[0m\u001b[0m\n\u001b[0m\u001b[1;32m      6\u001b[0m \u001b[0;34m\u001b[0m\u001b[0m\n\u001b[1;32m      7\u001b[0m \u001b[0m_set_env\u001b[0m\u001b[0;34m(\u001b[0m\u001b[0;34m\"Open ai api key is to be used here \"\u001b[0m\u001b[0;34m)\u001b[0m\u001b[0;34m\u001b[0m\u001b[0;34m\u001b[0m\u001b[0m\n",
            "\u001b[0;32m/usr/local/lib/python3.12/dist-packages/ipykernel/kernelbase.py\u001b[0m in \u001b[0;36mgetpass\u001b[0;34m(self, prompt, stream)\u001b[0m\n\u001b[1;32m   1157\u001b[0m                 \u001b[0mstacklevel\u001b[0m\u001b[0;34m=\u001b[0m\u001b[0;36m2\u001b[0m\u001b[0;34m,\u001b[0m\u001b[0;34m\u001b[0m\u001b[0;34m\u001b[0m\u001b[0m\n\u001b[1;32m   1158\u001b[0m             )\n\u001b[0;32m-> 1159\u001b[0;31m         return self._input_request(\n\u001b[0m\u001b[1;32m   1160\u001b[0m             \u001b[0mprompt\u001b[0m\u001b[0;34m,\u001b[0m\u001b[0;34m\u001b[0m\u001b[0;34m\u001b[0m\u001b[0m\n\u001b[1;32m   1161\u001b[0m             \u001b[0mself\u001b[0m\u001b[0;34m.\u001b[0m\u001b[0m_parent_ident\u001b[0m\u001b[0;34m[\u001b[0m\u001b[0;34m\"shell\"\u001b[0m\u001b[0;34m]\u001b[0m\u001b[0;34m,\u001b[0m\u001b[0;34m\u001b[0m\u001b[0;34m\u001b[0m\u001b[0m\n",
            "\u001b[0;32m/usr/local/lib/python3.12/dist-packages/ipykernel/kernelbase.py\u001b[0m in \u001b[0;36m_input_request\u001b[0;34m(self, prompt, ident, parent, password)\u001b[0m\n\u001b[1;32m   1217\u001b[0m             \u001b[0;32mexcept\u001b[0m \u001b[0mKeyboardInterrupt\u001b[0m\u001b[0;34m:\u001b[0m\u001b[0;34m\u001b[0m\u001b[0;34m\u001b[0m\u001b[0m\n\u001b[1;32m   1218\u001b[0m                 \u001b[0;31m# re-raise KeyboardInterrupt, to truncate traceback\u001b[0m\u001b[0;34m\u001b[0m\u001b[0;34m\u001b[0m\u001b[0m\n\u001b[0;32m-> 1219\u001b[0;31m                 \u001b[0;32mraise\u001b[0m \u001b[0mKeyboardInterrupt\u001b[0m\u001b[0;34m(\u001b[0m\u001b[0;34m\"Interrupted by user\"\u001b[0m\u001b[0;34m)\u001b[0m \u001b[0;32mfrom\u001b[0m \u001b[0;32mNone\u001b[0m\u001b[0;34m\u001b[0m\u001b[0;34m\u001b[0m\u001b[0m\n\u001b[0m\u001b[1;32m   1220\u001b[0m             \u001b[0;32mexcept\u001b[0m \u001b[0mException\u001b[0m\u001b[0;34m:\u001b[0m\u001b[0;34m\u001b[0m\u001b[0;34m\u001b[0m\u001b[0m\n\u001b[1;32m   1221\u001b[0m                 \u001b[0mself\u001b[0m\u001b[0;34m.\u001b[0m\u001b[0mlog\u001b[0m\u001b[0;34m.\u001b[0m\u001b[0mwarning\u001b[0m\u001b[0;34m(\u001b[0m\u001b[0;34m\"Invalid Message:\"\u001b[0m\u001b[0;34m,\u001b[0m \u001b[0mexc_info\u001b[0m\u001b[0;34m=\u001b[0m\u001b[0;32mTrue\u001b[0m\u001b[0;34m)\u001b[0m\u001b[0;34m\u001b[0m\u001b[0;34m\u001b[0m\u001b[0m\n",
            "\u001b[0;31mKeyboardInterrupt\u001b[0m: Interrupted by user"
          ]
        }
      ],
      "source": [
        "import os, getpass\n",
        "\n",
        "def _set_env(var: str):\n",
        "    if not os.environ.get(var):\n",
        "        os.environ[var] = getpass.getpass(f\"{var}: \")\n",
        "\n",
        "_set_env(\"Open ai api key is to be used here \")"
      ]
    },
    {
      "cell_type": "markdown",
      "id": "65a8df1f-a76a-4803-a532-ea9802106ac8",
      "metadata": {
        "id": "65a8df1f-a76a-4803-a532-ea9802106ac8"
      },
      "source": [
        "## Editing state\n",
        "\n",
        "Previously, we introduced breakpoints.\n",
        "\n",
        "We used them to interrupt the graph and await user approval before executing the next node.\n",
        "\n",
        "But breakpoints are also [opportunities to modify the graph state](https://langchain-ai.github.io/langgraph/how-tos/human_in_the_loop/edit-graph-state/).\n",
        "\n",
        "Let's set up our agent with a breakpoint before the `assistant` node."
      ]
    },
    {
      "cell_type": "code",
      "execution_count": 54,
      "id": "bcf24f05-ac2b-455e-846c-0c50ac86e1f4",
      "metadata": {
        "id": "bcf24f05-ac2b-455e-846c-0c50ac86e1f4"
      },
      "outputs": [],
      "source": [
        "\n",
        "import os, getpass\n",
        "\n",
        "if \"OPENAI_API_KEY\" not in os.environ:\n",
        "    os.environ[\"OPENAI_API_KEY\"] = getpass.getpass(\"Open ai API key is to be used HERE \")\n",
        "\n",
        "from langchain_openai import ChatOpenAI\n",
        "\n",
        "# --- Core arithmetic functions ---\n",
        "def multiply(a: int, b: int) -> int:\n",
        "    \"\"\"Multiply two integers.\"\"\"\n",
        "    return a * b\n",
        "\n",
        "def add(a: int, b: int) -> int:\n",
        "    \"\"\"Add two integers.\"\"\"\n",
        "    return a + b\n",
        "\n",
        "def divide(a: int, b: int) -> float:\n",
        "    \"\"\"Safely divide a by b and handle division by zero.\"\"\"\n",
        "    try:\n",
        "        return a / b\n",
        "    except ZeroDivisionError:\n",
        "        return float(\"inf\")\n",
        "\n",
        "# --- New tweak: feedback-aware operation ---\n",
        "def adjust_value(a: int, feedback: str) -> int:\n",
        "    \"\"\"Dynamically adjust a value based on human feedback text.\"\"\"\n",
        "    if \"increase\" in feedback.lower():\n",
        "        return a + 1\n",
        "    elif \"decrease\" in feedback.lower():\n",
        "        return a - 1\n",
        "    return a\n",
        "\n",
        "# --- Define tools (no new arithmetic tools added, just feedback-linked one) ---\n",
        "tools = [add, multiply, divide, adjust_value]\n",
        "\n",
        "# Bind tools to LLM\n",
        "llm = ChatOpenAI(model=\"gpt-4o-mini\")  # switched to lighter variant for quicker feedback loops\n",
        "llm_with_tools = llm.bind_tools(tools)\n"
      ]
    },
    {
      "cell_type": "code",
      "execution_count": 6,
      "id": "5dfe84af-5c62-4c3f-8ed7-96b5261f0b7b",
      "metadata": {
        "colab": {
          "base_uri": "https://localhost:8080/",
          "height": 308
        },
        "id": "5dfe84af-5c62-4c3f-8ed7-96b5261f0b7b",
        "outputId": "5bf84cd0-a7d6-4103-de91-c830e1231381"
      },
      "outputs": [
        {
          "output_type": "display_data",
          "data": {
            "image/png": "[encoded data removed]",
            "text/plain": [
              "<IPython.core.display.Image object>"
            ]
          },
          "metadata": {}
        }
      ],
      "source": [
        "from IPython.display import Image, display\n",
        "\n",
        "from langgraph.checkpoint.memory import MemorySaver\n",
        "from langgraph.graph import MessagesState, START, StateGraph\n",
        "from langgraph.prebuilt import tools_condition, ToolNode\n",
        "from langchain_core.messages import HumanMessage, SystemMessage\n",
        "\n",
        "# --- System setup ---\n",
        "sys_msg = SystemMessage(content=\"You are an interactive assistant that performs arithmetic and adapts based on user feedback.\")\n",
        "\n",
        "# --- Node definition ---\n",
        "def assistant(state: MessagesState):\n",
        "    \"\"\"Invoke LLM with tool awareness and handle dynamic state changes.\"\"\"\n",
        "    response = llm_with_tools.invoke([sys_msg] + state[\"messages\"])\n",
        "\n",
        "    #  New tweak: if feedback exists, modify the latest state before returning\n",
        "    if state.get(\"feedback\"):\n",
        "        state[\"messages\"].append(HumanMessage(content=f\"Feedback noted: {state['feedback']}\"))\n",
        "    return {\"messages\": [response]}\n",
        "\n",
        "# --- Graph definition ---\n",
        "builder = StateGraph(MessagesState)\n",
        "\n",
        "# Define functional nodes\n",
        "builder.add_node(\"assistant\", assistant)\n",
        "builder.add_node(\"tools\", ToolNode(tools))\n",
        "\n",
        "# --- Control flow edges ---\n",
        "builder.add_edge(START, \"assistant\")\n",
        "builder.add_conditional_edges(\"assistant\", tools_condition)\n",
        "builder.add_edge(\"tools\", \"assistant\")\n",
        "\n",
        "# --- New tweak: introduce custom breakpoint for direct human-in-the-loop edit ---\n",
        "# This allows pausing before 'tools' node to inspect or modify graph state\n",
        "memory = MemorySaver()\n",
        "graph = builder.compile(interrupt_before=[\"tools\"], checkpointer=memory)\n",
        "\n",
        "# --- Visualization ---\n",
        "display(Image(graph.get_graph(xray=True).draw_mermaid_png()))\n"
      ]
    },
    {
      "cell_type": "markdown",
      "id": "92a47fd5-1f60-41dc-9206-698ed8ece530",
      "metadata": {
        "id": "92a47fd5-1f60-41dc-9206-698ed8ece530"
      },
      "source": [
        "Let's run!\n",
        "\n",
        "We can see the graph is interrupted before the chat model responds."
      ]
    },
    {
      "cell_type": "code",
      "execution_count": 11,
      "id": "a2ce488d-00e4-492e-a62c-dd98702c313f",
      "metadata": {
        "colab": {
          "base_uri": "https://localhost:8080/"
        },
        "id": "a2ce488d-00e4-492e-a62c-dd98702c313f",
        "outputId": "3dd7bfe5-3d45-4a45-ae60-12c27bbeec17"
      },
      "outputs": [
        {
          "output_type": "stream",
          "name": "stdout",
          "text": [
            "================================\u001b[1m Human Message \u001b[0m=================================\n",
            "\n",
            "Multiply 2 and 3\n",
            "Provide feedback (e.g., 'increase precision' or 'simplify result'): increase precision\n",
            "🪄 Injected feedback into graph state: increase precision\n",
            "==================================\u001b[1m Ai Message \u001b[0m==================================\n",
            "\n",
            "Result: 6 (mocked multiplication output).\n"
          ]
        }
      ],
      "source": [
        "# --- Mock setup for offline / no-API testing ---\n",
        "from langchain_core.messages import AIMessage, HumanMessage\n",
        "\n",
        "class MockLLM:\n",
        "    \"\"\"Simulates an LLM that performs basic arithmetic reasoning offline.\"\"\"\n",
        "    def invoke(self, messages):\n",
        "        last = messages[-1].content.lower()\n",
        "        if \"multiply\" in last:\n",
        "            return AIMessage(content=\"Result: 6 (mocked multiplication output).\")\n",
        "        elif \"add\" in last:\n",
        "            return AIMessage(content=\"Result: 5 (mocked addition output).\")\n",
        "        elif \"divide\" in last:\n",
        "            return AIMessage(content=\"Result: 2.0 (mocked division output).\")\n",
        "        else:\n",
        "            return AIMessage(content=\"Mocked assistant reply (no tool detected).\")\n",
        "\n",
        "# Replace the real LLM with our mock one\n",
        "llm_with_tools = MockLLM()\n",
        "\n",
        "# --- Input and thread configuration ---\n",
        "initial_input = {\"messages\": [HumanMessage(content=\"Multiply 2 and 3\")]}\n",
        "thread = {\"configurable\": {\"thread_id\": \"1\"}}\n",
        "\n",
        "# --- Run graph with human-in-the-loop interaction (offline-safe) ---\n",
        "for event in graph.stream(initial_input, thread, stream_mode=\"values\"):\n",
        "    event[\"messages\"][-1].pretty_print()\n",
        "\n",
        "    #  Simulate human feedback injection into the graph state\n",
        "    if \"Multiply\" in event[\"messages\"][-1].content:\n",
        "        feedback = input(\"Provide feedback (e.g., 'increase precision' or 'simplify result'): \")\n",
        "        event[\"feedback\"] = feedback\n",
        "        print(f\"🪄 Injected feedback into graph state: {feedback}\")\n"
      ]
    },
    {
      "cell_type": "code",
      "execution_count": null,
      "id": "4be478ef-bd60-4d32-8a05-5f56c93a8396",
      "metadata": {
        "id": "4be478ef-bd60-4d32-8a05-5f56c93a8396",
        "outputId": "d9da80ad-05c8-4ceb-efa9-491752eb48c3"
      },
      "outputs": [
        {
          "data": {
            "text/plain": [
              "StateSnapshot(values={'messages': [HumanMessage(content='Multiply 2 and 3', id='e7edcaba-bfed-4113-a85b-25cc39d6b5a7')]}, next=('assistant',), config={'configurable': {'thread_id': '1', 'checkpoint_ns': '', 'checkpoint_id': '1ef6a412-5b2d-601a-8000-4af760ea1d0d'}}, metadata={'source': 'loop', 'writes': None, 'step': 0, 'parents': {}}, created_at='2024-09-03T22:09:10.966883+00:00', parent_config={'configurable': {'thread_id': '1', 'checkpoint_ns': '', 'checkpoint_id': '1ef6a412-5b28-6ace-bfff-55d7a2c719ae'}}, tasks=(PregelTask(id='dbee122a-db69-51a7-b05b-a21fab160696', name='assistant', error=None, interrupts=(), state=None),))"
            ]
          },
          "execution_count": 4,
          "metadata": {},
          "output_type": "execute_result"
        }
      ],
      "source": [
        "state = graph.get_state(thread)\n",
        "state"
      ]
    },
    {
      "cell_type": "markdown",
      "id": "36ef63a1-2ab8-416d-babf-d35054e294f0",
      "metadata": {
        "id": "36ef63a1-2ab8-416d-babf-d35054e294f0"
      },
      "source": [
        "Now, we can directly apply a state update.\n",
        "\n",
        "Remember, updates to the `messages` key will use the `add_messages` reducer:\n",
        "\n",
        "* If we want to over-write the existing message, we can supply the message `id`.\n",
        "* If we simply want to append to our list of messages, then we can pass a message without an `id` specified, as shown below."
      ]
    },
    {
      "cell_type": "code",
      "execution_count": 13,
      "id": "9179cff1-e529-473a-9ce2-e23b932c2063",
      "metadata": {
        "colab": {
          "base_uri": "https://localhost:8080/"
        },
        "id": "9179cff1-e529-473a-9ce2-e23b932c2063",
        "outputId": "39359ea6-35a6-4839-d6a1-2c3e15f389b0"
      },
      "outputs": [
        {
          "output_type": "stream",
          "name": "stdout",
          "text": [
            "✅ Graph state updated successfully with new human feedback and input correction.\n"
          ]
        }
      ],
      "source": [
        "# --- Directly update graph state to simulate human correction ---\n",
        "graph.update_state(\n",
        "    thread,\n",
        "    {\n",
        "        \"messages\": [HumanMessage(content=\"No, actually multiply 3 and 3!\")],\n",
        "        \"feedback\": \"User corrected input after reviewing the result.\"\n",
        "    },\n",
        ")\n",
        "\n",
        "print(\"✅ Graph state updated successfully with new human feedback and input correction.\")\n"
      ]
    },
    {
      "cell_type": "markdown",
      "id": "d77b8d6a-8c7b-4f7a-b723-121af25ac829",
      "metadata": {
        "id": "d77b8d6a-8c7b-4f7a-b723-121af25ac829"
      },
      "source": [
        "Let's have a look.\n",
        "\n",
        "We called `update_state` with a new message.\n",
        "\n",
        "The `add_messages` reducer appends it to our state key, `messages`."
      ]
    },
    {
      "cell_type": "code",
      "execution_count": 14,
      "id": "141b6aab-ec6d-44f3-beb1-6c22ac5f2158",
      "metadata": {
        "colab": {
          "base_uri": "https://localhost:8080/"
        },
        "id": "141b6aab-ec6d-44f3-beb1-6c22ac5f2158",
        "outputId": "b4cc76da-a8f6-4e00-f698-ff87d028dd3a"
      },
      "outputs": [
        {
          "output_type": "stream",
          "name": "stdout",
          "text": [
            "🧩 Current Graph State (after manual update and feedback):\n",
            "================================\u001b[1m Human Message \u001b[0m=================================\n",
            "\n",
            "Multiply 2 and 3\n",
            "================================\u001b[1m Human Message \u001b[0m=================================\n",
            "\n",
            "Multiply 2 and 3\n",
            "================================\u001b[1m Human Message \u001b[0m=================================\n",
            "\n",
            "Multiply 2 and 3\n",
            "================================\u001b[1m Human Message \u001b[0m=================================\n",
            "\n",
            "Multiply 2 and 3\n",
            "================================\u001b[1m Human Message \u001b[0m=================================\n",
            "\n",
            "Multiply 2 and 3\n",
            "==================================\u001b[1m Ai Message \u001b[0m==================================\n",
            "\n",
            "Result: 6 (mocked multiplication output).\n",
            "================================\u001b[1m Human Message \u001b[0m=================================\n",
            "\n",
            "No, actually multiply 3 and 3!\n",
            "================================\u001b[1m Human Message \u001b[0m=================================\n",
            "\n",
            "No, actually multiply 3 and 3!\n"
          ]
        }
      ],
      "source": [
        "# --- Retrieve and inspect the latest updated graph state ---\n",
        "new_state = graph.get_state(thread).values\n",
        "\n",
        "print(\"🧩 Current Graph State (after manual update and feedback):\")\n",
        "for msg in new_state[\"messages\"]:\n",
        "    msg.pretty_print()\n",
        "\n",
        "#  Optional: show feedback key to confirm human intervention was stored\n",
        "if \"feedback\" in new_state:\n",
        "    print(f\"\\n💬 Stored Human Feedback: {new_state['feedback']}\")\n"
      ]
    },
    {
      "cell_type": "markdown",
      "id": "e4041959-cc3a-4168-8cf7-06d1711921d8",
      "metadata": {
        "id": "e4041959-cc3a-4168-8cf7-06d1711921d8"
      },
      "source": [
        "Now, let's proceed with our agent, simply by passing `None` and allowing it proceed from the current state.\n",
        "\n",
        "We emit the current and then proceed to execute the remaining nodes."
      ]
    },
    {
      "cell_type": "code",
      "execution_count": 16,
      "id": "f166bed2-87c9-41ec-b235-0305721c2d6b",
      "metadata": {
        "colab": {
          "base_uri": "https://localhost:8080/"
        },
        "id": "f166bed2-87c9-41ec-b235-0305721c2d6b",
        "outputId": "b78894f5-bcfb-43f6-e7c2-b9874a63547e"
      },
      "outputs": [
        {
          "output_type": "stream",
          "name": "stdout",
          "text": [
            " Resuming graph execution from the updated state...\n",
            "\n",
            "================================\u001b[1m Human Message \u001b[0m=================================\n",
            "\n",
            "No, actually multiply 3 and 3!\n"
          ]
        }
      ],
      "source": [
        "# --- Resume the graph from the manually updated state ---\n",
        "print(\" Resuming graph execution from the updated state...\\n\")\n",
        "\n",
        "for event in graph.stream(None, thread, stream_mode=\"values\"):\n",
        "    event[\"messages\"][-1].pretty_print()\n",
        "\n",
        "    # 🧠 New tweak: confirm feedback influence\n",
        "    if \"feedback\" in event:\n",
        "        print(f\"\\n💬 Active Feedback Context: {event['feedback']}\")\n"
      ]
    },
    {
      "cell_type": "markdown",
      "id": "b18dc1ca",
      "metadata": {
        "id": "b18dc1ca"
      },
      "source": [
        "Now, we're back at the `assistant`, which has our `breakpoint`.\n",
        "\n",
        "We can again pass `None` to proceed."
      ]
    },
    {
      "cell_type": "code",
      "execution_count": 19,
      "id": "f5952731-0170-4589-a399-ee787df35400",
      "metadata": {
        "colab": {
          "base_uri": "https://localhost:8080/"
        },
        "id": "f5952731-0170-4589-a399-ee787df35400",
        "outputId": "da3e76f7-a193-4bfa-ca84-a31c0858e35a"
      },
      "outputs": [
        {
          "output_type": "stream",
          "name": "stdout",
          "text": [
            "Resuming the graph from the updated state...\n",
            "\n",
            "================================\u001b[1m Human Message \u001b[0m=================================\n",
            "\n",
            "No, actually multiply 3 and 3!\n"
          ]
        }
      ],
      "source": [
        "#  Continue execution from the current graph state\n",
        "print(\"Resuming the graph from the updated state...\\n\")\n",
        "\n",
        "for event in graph.stream(None, thread, stream_mode=\"values\"):\n",
        "    event[\"messages\"][-1].pretty_print()\n",
        "\n",
        "    # 💡 Added tweak: Log which node is being executed for better traceability\n",
        "    if \"next\" in event:\n",
        "        print(f\"\\n[Debug] Next node scheduled → {event['next']}\")\n"
      ]
    },
    {
      "cell_type": "markdown",
      "id": "bc22c3e9-b00c-4ead-b752-a682b45b3718",
      "metadata": {
        "id": "bc22c3e9-b00c-4ead-b752-a682b45b3718"
      },
      "source": [
        "### Editing graph state in Studio\n",
        "\n",
        "**⚠️ Notice**\n",
        "\n",
        "Since filming these videos, we've updated Studio so that it can now be run locally and accessed through your browser. This is the preferred way to run Studio instead of using the Desktop App shown in the video. It is now called _LangSmith Studio_ instead of _LangGraph Studio_. Detailed setup instructions are available in the \"Getting Setup\" guide at the start of the course. You can find a description of Studio [here](https://docs.langchain.com/langsmith/studio), and specific details for local deployment [here](https://docs.langchain.com/langsmith/quick-start-studio#local-development-server).  \n",
        "To start the local development server, run the following command in your terminal in the `/studio` directory in this module:\n",
        "\n",
        "```\n",
        "langgraph dev\n",
        "```\n",
        "\n",
        "You should see the following output:\n",
        "```\n",
        "- 🚀 API: http://127.0.0.1:2024\n",
        "- 🎨 Studio UI: https://smith.langchain.com/studio/?baseUrl=http://127.0.0.1:2024\n",
        "- 📚 API Docs: http://127.0.0.1:2024/docs\n",
        "```\n",
        "\n",
        "Open your browser and navigate to the **Studio UI** URL shown above.\n",
        "\n",
        "The LangGraph API [supports editing graph state](https://langchain-ai.github.io/langgraph/cloud/how-tos/human_in_the_loop_edit_state/#initial-invocation)."
      ]
    },
    {
      "cell_type": "code",
      "execution_count": 20,
      "id": "642aabab-f822-4917-9d66-3314ac5008fd",
      "metadata": {
        "id": "642aabab-f822-4917-9d66-3314ac5008fd"
      },
      "outputs": [],
      "source": [
        "# This is the URL of the local development server\n",
        "from langgraph_sdk import get_client\n",
        "client = get_client(url=\"http://127.0.0.1:2024\")"
      ]
    },
    {
      "cell_type": "markdown",
      "id": "be74cb09",
      "metadata": {
        "id": "be74cb09"
      },
      "source": [
        "Our agent is defined in `studio/agent.py`.\n",
        "\n",
        "If you look at the code, you'll see that it *does not* have a breakpoint!\n",
        "\n",
        "Of course, we can add it to `agent.py`, but one very nice feature of the API is that we can pass in a breakpoint!\n",
        "\n",
        "Here, we pass a `interrupt_before=[\"assistant\"]`."
      ]
    },
    {
      "cell_type": "code",
      "execution_count": 23,
      "id": "1c352f9e-6a0f-4a94-a083-b85b0233efa9",
      "metadata": {
        "colab": {
          "base_uri": "https://localhost:8080/"
        },
        "id": "1c352f9e-6a0f-4a94-a083-b85b0233efa9",
        "outputId": "94fe6f24-8add-421e-f172-e46f68ab54c5"
      },
      "outputs": [
        {
          "output_type": "stream",
          "name": "stdout",
          "text": [
            "📨 Event Type: metadata\n",
            " No new message detected at this event.\n",
            "------------------------------------------------------------\n",
            "📨 Event Type: values\n",
            " Latest State Message → Multiply 2 and 3\n",
            "------------------------------------------------------------\n",
            "📨 Event Type: interrupt\n",
            " Latest State Message → Breakpoint before human_feedback\n",
            "------------------------------------------------------------\n"
          ]
        }
      ],
      "source": [
        "#  Initialize input and create mock async thread for interaction\n",
        "initial_input = {\"messages\": \"Multiply 2 and 3\"}\n",
        "thread = {\"thread_id\": \"mock-thread-01\"}  #  replaced client.threads.create() to avoid connection\n",
        "\n",
        "#  Simulated async stream (offline-safe)\n",
        "import asyncio\n",
        "\n",
        "async def mock_stream_simulator(input_data, interrupt_before):\n",
        "    \"\"\"Simulate event stream for human-in-the-loop learning without API calls.\"\"\"\n",
        "    events = [\n",
        "        {\"event\": \"metadata\", \"messages\": []},\n",
        "        {\"event\": \"values\", \"messages\": [{\"content\": input_data[\"messages\"]}]},\n",
        "        {\"event\": \"interrupt\", \"messages\": [{\"content\": f\"Breakpoint before {interrupt_before[0]}\"}]},\n",
        "    ]\n",
        "    for e in events:\n",
        "        await asyncio.sleep(0.5)\n",
        "        yield e\n",
        "\n",
        "#  Run simulated event loop\n",
        "async for chunk in mock_stream_simulator(initial_input, [\"human_feedback\"]):\n",
        "    print(f\" Event Type: {chunk['event']}\")\n",
        "    msgs = chunk.get(\"messages\", [])\n",
        "    if msgs:\n",
        "        print(\" Latest State Message →\", msgs[-1][\"content\"])\n",
        "    else:\n",
        "        print(\" No new message detected at this event.\")\n",
        "    print(\"-\" * 60)\n"
      ]
    },
    {
      "cell_type": "markdown",
      "id": "13065dd9-5f43-47d6-ac2a-9dc15c0c54e6",
      "metadata": {
        "id": "13065dd9-5f43-47d6-ac2a-9dc15c0c54e6"
      },
      "source": [
        "We can get the current state"
      ]
    },
    {
      "cell_type": "code",
      "execution_count": 27,
      "id": "4da2c464-3e71-496a-badc-671aeee168b6",
      "metadata": {
        "colab": {
          "base_uri": "https://localhost:8080/"
        },
        "id": "4da2c464-3e71-496a-badc-671aeee168b6",
        "outputId": "b463b600-95c6-4fd8-854b-f7458b3beaf1"
      },
      "outputs": [
        {
          "output_type": "stream",
          "name": "stdout",
          "text": [
            " Current Graph State Snapshot:\n",
            "{'thread_id': 'mock-thread-01', 'state': {'messages': [{'role': 'user', 'content': 'Multiply 2 and 3'}, {'role': 'assistant', 'content': 'The result is 6.'}], 'feedback': None}, 'status': 'active'}\n"
          ]
        }
      ],
      "source": [
        "# Simulated way to inspect current thread state without any API connection\n",
        "\n",
        "# Instead of making a client call, we’ll just hold the simulated state in a local dict\n",
        "current_state = {\n",
        "    \"thread_id\": thread[\"thread_id\"],\n",
        "    \"state\": {\n",
        "        \"messages\": [\n",
        "            {\"role\": \"user\", \"content\": \"Multiply 2 and 3\"},\n",
        "            {\"role\": \"assistant\", \"content\": \"The result is 6.\"},\n",
        "        ],\n",
        "        \"feedback\": None,\n",
        "    },\n",
        "    \"status\": \"active\"\n",
        "}\n",
        "\n",
        "# Display the simulated current state\n",
        "print(\" Current Graph State Snapshot:\")\n",
        "print(current_state)\n"
      ]
    },
    {
      "cell_type": "markdown",
      "id": "4527bbf1-0927-41a6-aeef-d15e32bbbdc3",
      "metadata": {
        "id": "4527bbf1-0927-41a6-aeef-d15e32bbbdc3"
      },
      "source": [
        "We can look at the last message in state."
      ]
    },
    {
      "cell_type": "code",
      "execution_count": 28,
      "id": "801ae2d9-0551-46b8-aee2-82293cee4011",
      "metadata": {
        "colab": {
          "base_uri": "https://localhost:8080/"
        },
        "id": "801ae2d9-0551-46b8-aee2-82293cee4011",
        "outputId": "a0ce4edb-9d5a-41a5-abfe-98eb26e7f4cf"
      },
      "outputs": [
        {
          "output_type": "stream",
          "name": "stdout",
          "text": [
            "Last Message in Current State:\n",
            "{'role': 'assistant', 'content': 'The result is 6.'}\n"
          ]
        }
      ],
      "source": [
        "# Extract the last message safely from simulated state\n",
        "last_message = current_state['state']['messages'][-1]\n",
        "\n",
        "# Display the message\n",
        "print(\"Last Message in Current State:\")\n",
        "print(last_message)\n"
      ]
    },
    {
      "cell_type": "markdown",
      "id": "f0581ba8-db3d-474d-9042-b1c7f3461caf",
      "metadata": {
        "id": "f0581ba8-db3d-474d-9042-b1c7f3461caf"
      },
      "source": [
        "We can edit it!"
      ]
    },
    {
      "cell_type": "code",
      "execution_count": 30,
      "id": "86b12be7-7e4a-40d0-8521-dced7c393c71",
      "metadata": {
        "colab": {
          "base_uri": "https://localhost:8080/"
        },
        "id": "86b12be7-7e4a-40d0-8521-dced7c393c71",
        "outputId": "57e04377-da9c-4ce5-ee5f-25608b3ace1a"
      },
      "outputs": [
        {
          "output_type": "stream",
          "name": "stdout",
          "text": [
            "{'role': 'assistant', 'content': 'The result is 6.'}\n"
          ]
        }
      ],
      "source": [
        "# Apply the modified message back to current_state\n",
        "current_state['state']['messages'][-1] = last_message\n",
        "\n",
        "# Optional: verify the change\n",
        "print(current_state['state']['messages'][-1])\n"
      ]
    },
    {
      "cell_type": "code",
      "execution_count": 31,
      "id": "f84f2c24-f281-4591-90e5-de3a5547c9da",
      "metadata": {
        "colab": {
          "base_uri": "https://localhost:8080/"
        },
        "id": "f84f2c24-f281-4591-90e5-de3a5547c9da",
        "outputId": "df6364a8-4363-4cf5-e4bf-497bb6dbc138"
      },
      "outputs": [
        {
          "output_type": "execute_result",
          "data": {
            "text/plain": [
              "{'type': 'human', 'content': 'No, actually multiply 3 and 3!'}"
            ]
          },
          "metadata": {},
          "execution_count": 31
        }
      ],
      "source": [
        "{\n",
        "    \"type\": \"human\",\n",
        "    \"content\": \"No, actually multiply 3 and 3!\"\n",
        "}\n"
      ]
    },
    {
      "cell_type": "markdown",
      "id": "ce7b4280-6ae7-4246-9c87-44e0daa6c654",
      "metadata": {
        "id": "ce7b4280-6ae7-4246-9c87-44e0daa6c654"
      },
      "source": [
        "Remember, as we said before, updates to the `messages` key will use the same `add_messages` reducer.\n",
        "\n",
        "If we want to over-write the existing message, then we can supply the message `id`.\n",
        "\n",
        "Here, we did that. We only modified the message `content`, as shown above."
      ]
    },
    {
      "cell_type": "code",
      "execution_count": 34,
      "id": "84d33b6e-32ff-4eca-8114-345e508f3481",
      "metadata": {
        "colab": {
          "base_uri": "https://localhost:8080/"
        },
        "id": "84d33b6e-32ff-4eca-8114-345e508f3481",
        "outputId": "b029c735-1b5f-4b89-f7a6-d3e0c2c812bf"
      },
      "outputs": [
        {
          "output_type": "execute_result",
          "data": {
            "text/plain": [
              "{'configurable': {'thread_id': '1',\n",
              "  'checkpoint_ns': '',\n",
              "  'checkpoint_id': '1f0b3427-1145-6bd5-800c-a2dbdb4619d5'}}"
            ]
          },
          "metadata": {},
          "execution_count": 34
        }
      ],
      "source": [
        "graph.update_state(\n",
        "    {\"configurable\": {\"thread_id\": \"1\"}},\n",
        "    {\"messages\": [last_message]}\n",
        ")\n"
      ]
    },
    {
      "cell_type": "markdown",
      "id": "1f07f0d1-7083-4827-babd-d3702eb59a37",
      "metadata": {
        "id": "1f07f0d1-7083-4827-babd-d3702eb59a37"
      },
      "source": [
        "Now, we resume by passing `None`."
      ]
    },
    {
      "cell_type": "code",
      "execution_count": 38,
      "id": "ef18d12d-e0a6-487a-9f32-ad30e2634a20",
      "metadata": {
        "colab": {
          "base_uri": "https://localhost:8080/"
        },
        "id": "ef18d12d-e0a6-487a-9f32-ad30e2634a20",
        "outputId": "589e3727-7b43-4cc5-c4a7-a089cf168a3c"
      },
      "outputs": [
        {
          "output_type": "stream",
          "name": "stdout",
          "text": [
            " Event Type: <class 'dict'>\n",
            "Latest Message: The result is 6.\n",
            "------------------------------------------------------------\n"
          ]
        }
      ],
      "source": [
        "#  Offline simulation of streaming events from the graph — no API calls, fully local\n",
        "\n",
        "# Use the same thread_id structure expected by LangGraph\n",
        "thread = {\"configurable\": {\"thread_id\": \"1\"}}\n",
        "\n",
        "# Continue streaming from the updated state\n",
        "for event in graph.stream(\n",
        "    None,  # no new input since we're resuming from last updated state\n",
        "    thread,\n",
        "    stream_mode=\"values\",\n",
        "    interrupt_before=[\"assistant\"],  # breakpoint before assistant node to inspect flow\n",
        "):\n",
        "    print(f\" Event Type: {type(event)}\")\n",
        "\n",
        "    # Safely extract latest messages from each event\n",
        "    if \"messages\" in event and event[\"messages\"]:\n",
        "        latest_message = event[\"messages\"][-1]\n",
        "        print(\"Latest Message:\", latest_message.content)\n",
        "    else:\n",
        "        print(\" No new messages in this event.\")\n",
        "\n",
        "    print(\"-\" * 60)\n"
      ]
    },
    {
      "cell_type": "markdown",
      "id": "6a82dd35-cbc8-486d-8e20-10d0c4d138d6",
      "metadata": {
        "id": "6a82dd35-cbc8-486d-8e20-10d0c4d138d6"
      },
      "source": [
        "We get the result of the tool call as `9`, as expected."
      ]
    },
    {
      "cell_type": "code",
      "execution_count": 39,
      "id": "1d1bb3c7-dc26-4c32-b3df-865f41ef3c73",
      "metadata": {
        "colab": {
          "base_uri": "https://localhost:8080/"
        },
        "id": "1d1bb3c7-dc26-4c32-b3df-865f41ef3c73",
        "outputId": "ffcae1ca-7130-48e3-f20b-7e6b5ca6cca4"
      },
      "outputs": [
        {
          "output_type": "stream",
          "name": "stdout",
          "text": [
            " Streaming graph events locally...\n",
            "\n",
            " Event 1: dict\n",
            " Message: The result is 6.\n",
            "------------------------------------------------------------\n",
            "✅ Finished local event streaming.\n"
          ]
        }
      ],
      "source": [
        "#  Offline simulation of client.runs.stream()\n",
        "# Works fully locally using LangGraph — no API key or network call required.\n",
        "\n",
        "from time import sleep\n",
        "\n",
        "thread = {\"configurable\": {\"thread_id\": \"1\"}}\n",
        "\n",
        "print(\" Streaming graph events locally...\\n\")\n",
        "\n",
        "# Simulate async streaming by iterating events from local graph\n",
        "for i, event in enumerate(graph.stream(\n",
        "    None,                     # no new input; resumes from updated state\n",
        "    thread,\n",
        "    stream_mode=\"values\",     # same as original\n",
        "    interrupt_before=[\"assistant\"],  # breakpoint before assistant node\n",
        ")):\n",
        "    print(f\" Event {i+1}: {type(event).__name__}\")\n",
        "\n",
        "    # Extract and print the latest message (if available)\n",
        "    if \"messages\" in event and event[\"messages\"]:\n",
        "        latest_msg = event[\"messages\"][-1]\n",
        "        print(\" Message:\", latest_msg.content)\n",
        "    else:\n",
        "        print(\" No message in this event.\")\n",
        "\n",
        "    print(\"-\" * 60)\n",
        "    sleep(0.4)  # small delay to mimic streaming feel\n",
        "\n",
        "print(\"✅ Finished local event streaming.\")\n"
      ]
    },
    {
      "cell_type": "markdown",
      "id": "6914c5ca-27e4-421c-835a-9e4327dac12f",
      "metadata": {
        "id": "6914c5ca-27e4-421c-835a-9e4327dac12f"
      },
      "source": [
        "## Awaiting user input\n",
        "\n",
        "So, it's clear that we can edit our agent state after a breakpoint.\n",
        "\n",
        "Now, what if we want to allow for human feedback to perform this state update?\n",
        "\n",
        "We'll add a node that [serves as a placeholder for human feedback](https://langchain-ai.github.io/langgraph/how-tos/human_in_the_loop/wait-user-input/#setup) within our agent.\n",
        "\n",
        "This `human_feedback` node allow the user to add feedback directly to state.\n",
        "\n",
        "We specify the breakpoint using `interrupt_before` our `human_feedback` node.\n",
        "\n",
        "We set up a checkpointer to save the state of the graph up until this node."
      ]
    },
    {
      "cell_type": "code",
      "execution_count": 41,
      "id": "e4b475ff-681f-4660-80dd-d6ade7bd48e3",
      "metadata": {
        "colab": {
          "base_uri": "https://localhost:8080/"
        },
        "id": "e4b475ff-681f-4660-80dd-d6ade7bd48e3",
        "outputId": "da92864c-4d48-4373-86fd-395747fb7e1f"
      },
      "outputs": [
        {
          "output_type": "execute_result",
          "data": {
            "text/plain": [
              "<langgraph.graph.state.StateGraph at 0x7927ff3b5100>"
            ]
          },
          "metadata": {},
          "execution_count": 41
        }
      ],
      "source": [
        "from langgraph.prebuilt import tools_condition as base_condition\n",
        "\n",
        "def custom_tools_condition(state):\n",
        "    result = base_condition(state)\n",
        "    return \"toolset\" if result == \"tools\" else result\n",
        "\n",
        "builder.add_conditional_edges(\n",
        "    \"assistant_node\",\n",
        "    custom_tools_condition,\n",
        ")\n"
      ]
    },
    {
      "cell_type": "markdown",
      "id": "32d4ceb6-a224-4307-8196-3f53d367df5c",
      "metadata": {
        "id": "32d4ceb6-a224-4307-8196-3f53d367df5c"
      },
      "source": [
        "We will get feedback from the user.\n",
        "\n",
        "We use `.update_state` to update the state of the graph with the human response we get, as before.\n",
        "\n",
        "We use the `as_node=\"human_feedback\"` parameter to apply this state update as the specified node, `human_feedback`."
      ]
    },
    {
      "cell_type": "code",
      "execution_count": 46,
      "id": "3fc7bcd6-660c-4a8a-ad8d-e6698dcf6201",
      "metadata": {
        "colab": {
          "base_uri": "https://localhost:8080/"
        },
        "id": "3fc7bcd6-660c-4a8a-ad8d-e6698dcf6201",
        "outputId": "adca9cbb-23a9-487e-8157-05f527bf85ac"
      },
      "outputs": [
        {
          "output_type": "stream",
          "name": "stdout",
          "text": [
            "\n",
            "--- Streaming Assistant Output ---\n",
            "\n",
            "================================\u001b[1m Human Message \u001b[0m=================================\n",
            "\n",
            "Multiply 2 and 3\n",
            "\n",
            "--- Human Feedback Phase ---\n",
            "\n",
            "Enter your feedback or correction: correction\n",
            "\n",
            "--- Continuing Execution ---\n",
            "\n",
            "================================\u001b[1m Human Message \u001b[0m=================================\n",
            "\n",
            "correction\n",
            "==================================\u001b[1m Ai Message \u001b[0m==================================\n",
            "\n",
            "Mock response: Hello!\n"
          ]
        }
      ],
      "source": [
        "# --- Imports ---\n",
        "from langgraph.graph import StateGraph, START, END\n",
        "from langgraph.checkpoint.memory import MemorySaver\n",
        "from langchain_core.messages import HumanMessage, AIMessage, SystemMessage\n",
        "from langgraph.graph.message import MessagesState\n",
        "from IPython.display import Image\n",
        "\n",
        "# --- Mock LLM function (offline-safe) ---\n",
        "def mock_llm_with_tools(messages):\n",
        "    \"\"\"Simple fake LLM to simulate behavior without API calls.\"\"\"\n",
        "    user_content = messages[-1].content.lower()\n",
        "    if \"multiply\" in user_content:\n",
        "        try:\n",
        "            nums = [int(x) for x in user_content.split() if x.isdigit()]\n",
        "            result = nums[0] * nums[1]\n",
        "            return AIMessage(content=f\"Result: {result} (mocked multiplication output).\")\n",
        "        except Exception:\n",
        "            return AIMessage(content=\"Error: unable to multiply.\")\n",
        "    return AIMessage(content=\"Mock response: Hello!\")\n",
        "\n",
        "# --- Nodes ---\n",
        "def human_feedback(state: MessagesState):\n",
        "    \"\"\"Pause for human feedback\"\"\"\n",
        "    return state\n",
        "\n",
        "def assistant(state: MessagesState):\n",
        "    \"\"\"Simulated assistant node\"\"\"\n",
        "    sys_msg = SystemMessage(content=\"You are a helpful assistant.\")\n",
        "    return {\"messages\": [mock_llm_with_tools([sys_msg] + state[\"messages\"])]}\n",
        "\n",
        "# --- Build Graph ---\n",
        "builder = StateGraph(MessagesState)\n",
        "\n",
        "# Add nodes\n",
        "builder.add_node(\"human_feedback\", human_feedback)\n",
        "builder.add_node(\"assistant\", assistant)\n",
        "\n",
        "# Add edges\n",
        "builder.add_edge(START, \"human_feedback\")\n",
        "builder.add_edge(\"human_feedback\", \"assistant\")\n",
        "builder.add_edge(\"assistant\", END)\n",
        "\n",
        "# Memory checkpointer\n",
        "memory = MemorySaver()\n",
        "\n",
        "# Compile graph with interrupt point\n",
        "graph = builder.compile(interrupt_before=[\"human_feedback\"], checkpointer=memory)\n",
        "\n",
        "# --- Run Interaction ---\n",
        "initial_input = {\"messages\": [HumanMessage(content=\"Multiply 2 and 3\")]}\n",
        "thread = {\"configurable\": {\"thread_id\": \"demo-thread\"}}\n",
        "\n",
        "print(\"\\n--- Streaming Assistant Output ---\\n\")\n",
        "for event in graph.stream(initial_input, thread, stream_mode=\"values\"):\n",
        "    event[\"messages\"][-1].pretty_print()\n",
        "\n",
        "print(\"\\n--- Human Feedback Phase ---\\n\")\n",
        "user_input = input(\"Enter your feedback or correction: \")\n",
        "\n",
        "# ✅ Now 'human_feedback' exists in the graph\n",
        "graph.update_state(\n",
        "    thread,\n",
        "    {\"messages\": [HumanMessage(content=user_input)]},\n",
        "    as_node=\"human_feedback\"\n",
        ")\n",
        "\n",
        "print(\"\\n--- Continuing Execution ---\\n\")\n",
        "for event in graph.stream(None, thread, stream_mode=\"values\"):\n",
        "    event[\"messages\"][-1].pretty_print()\n"
      ]
    },
    {
      "cell_type": "code",
      "execution_count": 53,
      "id": "abf4cf5f-c0cb-4fdb-be6b-271ae4e967e2",
      "metadata": {
        "colab": {
          "base_uri": "https://localhost:8080/",
          "height": 1000
        },
        "id": "abf4cf5f-c0cb-4fdb-be6b-271ae4e967e2",
        "outputId": "7429612c-fba7-4d94-e782-09600ddc1dde"
      },
      "outputs": [
        {
          "output_type": "stream",
          "name": "stdout",
          "text": [
            "\n",
            "--- 🔄 Starting Smart Human-in-the-Loop Execution ---\n",
            "\n",
            "================================\u001b[1m Human Message \u001b[0m=================================\n",
            "\n",
            "Multiply 2 and 3\n",
            "==================================\u001b[1m Ai Message \u001b[0m==================================\n",
            "\n",
            "🧮 Computed Output → 6\n",
            "💡 Quick Note: Verify the arithmetic step.\n",
            "\n",
            "--- 🧠 Human Feedback Phase (Round 1) ---\n",
            "💬 Injected Feedback → Add a short explanation to the result.\n",
            "================================\u001b[1m Human Message \u001b[0m=================================\n",
            "\n",
            "Add a short explanation to the result.\n",
            "==================================\u001b[1m Ai Message \u001b[0m==================================\n",
            "\n",
            "💡 Mock response: Here's something insightful!\n",
            "\n",
            "--- 🧠 Human Feedback Phase (Round 2) ---\n",
            "💬 Injected Feedback → Looks good! Proceed with next query.\n",
            "================================\u001b[1m Human Message \u001b[0m=================================\n",
            "\n",
            "Looks good! Proceed with next query.\n",
            "==================================\u001b[1m Ai Message \u001b[0m==================================\n",
            "\n",
            "✨ Perfect! Seems like the model has reached an optimal output.\n",
            "\n",
            "--- 🧠 Human Feedback Phase (Round 3) ---\n",
            "💬 Injected Feedback → Try using simpler language.\n",
            "================================\u001b[1m Human Message \u001b[0m=================================\n",
            "\n",
            "Try using simpler language.\n",
            "==================================\u001b[1m Ai Message \u001b[0m==================================\n",
            "\n",
            "💡 Mock response: Here's something insightful!\n",
            "\n",
            "--- 🧠 Human Feedback Phase (Round 4) ---\n",
            "💬 Injected Feedback → Improve accuracy in calculation.\n",
            "================================\u001b[1m Human Message \u001b[0m=================================\n",
            "\n",
            "Improve accuracy in calculation.\n",
            "==================================\u001b[1m Ai Message \u001b[0m==================================\n",
            "\n",
            "💡 Mock response: Here's something insightful!\n",
            "\n",
            "--- 🧠 Human Feedback Phase (Round 5) ---\n",
            "💬 Injected Feedback → Add a short explanation to the result.\n",
            "================================\u001b[1m Human Message \u001b[0m=================================\n",
            "\n",
            "Add a short explanation to the result.\n",
            "==================================\u001b[1m Ai Message \u001b[0m==================================\n",
            "\n",
            "💡 Mock response: Here's something insightful!\n",
            "\n",
            "--- 🧠 Human Feedback Phase (Round 6) ---\n",
            "✅ Feedback cycle limit reached — stabilizing output.\n",
            "================================\u001b[1m Human Message \u001b[0m=================================\n",
            "\n",
            "Looks good! Final confirmation.\n",
            "==================================\u001b[1m Ai Message \u001b[0m==================================\n",
            "\n",
            "✨ Perfect! Seems like the model has reached an optimal output.\n",
            "\n",
            "--- 🧠 Human Feedback Phase (Round 7) ---\n",
            "✅ Feedback cycle limit reached — stabilizing output.\n",
            "================================\u001b[1m Human Message \u001b[0m=================================\n",
            "\n",
            "Looks good! Final confirmation.\n",
            "==================================\u001b[1m Ai Message \u001b[0m==================================\n",
            "\n",
            "✨ Perfect! Seems like the model has reached an optimal output.\n",
            "\n",
            "--- 🧠 Human Feedback Phase (Round 8) ---\n",
            "✅ Feedback cycle limit reached — stabilizing output.\n",
            "================================\u001b[1m Human Message \u001b[0m=================================\n",
            "\n",
            "Looks good! Final confirmation.\n",
            "==================================\u001b[1m Ai Message \u001b[0m==================================\n",
            "\n",
            "✨ Perfect! Seems like the model has reached an optimal output.\n",
            "\n",
            "--- 🧠 Human Feedback Phase (Round 9) ---\n",
            "✅ Feedback cycle limit reached — stabilizing output.\n",
            "================================\u001b[1m Human Message \u001b[0m=================================\n",
            "\n",
            "Looks good! Final confirmation.\n",
            "==================================\u001b[1m Ai Message \u001b[0m==================================\n",
            "\n",
            "✨ Perfect! Seems like the model has reached an optimal output.\n",
            "\n",
            "--- 🧠 Human Feedback Phase (Round 10) ---\n",
            "✅ Feedback cycle limit reached — stabilizing output.\n",
            "================================\u001b[1m Human Message \u001b[0m=================================\n",
            "\n",
            "Looks good! Final confirmation.\n",
            "==================================\u001b[1m Ai Message \u001b[0m==================================\n",
            "\n",
            "✨ Perfect! Seems like the model has reached an optimal output.\n",
            "\n",
            "--- 🧠 Human Feedback Phase (Round 11) ---\n",
            "✅ Feedback cycle limit reached — stabilizing output.\n",
            "================================\u001b[1m Human Message \u001b[0m=================================\n",
            "\n",
            "Looks good! Final confirmation.\n",
            "==================================\u001b[1m Ai Message \u001b[0m==================================\n",
            "\n",
            "✨ Perfect! Seems like the model has reached an optimal output.\n",
            "\n",
            "--- 🧠 Human Feedback Phase (Round 12) ---\n",
            "✅ Feedback cycle limit reached — stabilizing output.\n",
            "================================\u001b[1m Human Message \u001b[0m=================================\n",
            "\n",
            "Looks good! Final confirmation.\n",
            "==================================\u001b[1m Ai Message \u001b[0m==================================\n",
            "\n",
            "✨ Perfect! Seems like the model has reached an optimal output.\n"
          ]
        },
        {
          "output_type": "error",
          "ename": "GraphRecursionError",
          "evalue": "Recursion limit of 25 reached without hitting a stop condition. You can increase the limit by setting the `recursion_limit` config key.\nFor troubleshooting, visit: https://python.langchain.com/docs/troubleshooting/errors/GRAPH_RECURSION_LIMIT",
          "traceback": [
            "\u001b[0;31m---------------------------------------------------------------------------\u001b[0m",
            "\u001b[0;31mGraphRecursionError\u001b[0m                       Traceback (most recent call last)",
            "\u001b[0;32m/tmp/ipython-input-1236685922.py\u001b[0m in \u001b[0;36m<cell line: 0>\u001b[0;34m()\u001b[0m\n\u001b[1;32m     92\u001b[0m \u001b[0mprint\u001b[0m\u001b[0;34m(\u001b[0m\u001b[0;34m\"\\n--- 🔄 Starting Smart Human-in-the-Loop Execution ---\\n\"\u001b[0m\u001b[0;34m)\u001b[0m\u001b[0;34m\u001b[0m\u001b[0;34m\u001b[0m\u001b[0m\n\u001b[1;32m     93\u001b[0m \u001b[0;34m\u001b[0m\u001b[0m\n\u001b[0;32m---> 94\u001b[0;31m \u001b[0;32mfor\u001b[0m \u001b[0mevent\u001b[0m \u001b[0;32min\u001b[0m \u001b[0mgraph\u001b[0m\u001b[0;34m.\u001b[0m\u001b[0mstream\u001b[0m\u001b[0;34m(\u001b[0m\u001b[0minitial_input\u001b[0m\u001b[0;34m,\u001b[0m \u001b[0mthread\u001b[0m\u001b[0;34m,\u001b[0m \u001b[0mstream_mode\u001b[0m\u001b[0;34m=\u001b[0m\u001b[0;34m\"values\"\u001b[0m\u001b[0;34m)\u001b[0m\u001b[0;34m:\u001b[0m\u001b[0;34m\u001b[0m\u001b[0;34m\u001b[0m\u001b[0m\n\u001b[0m\u001b[1;32m     95\u001b[0m     \u001b[0mevent\u001b[0m\u001b[0;34m[\u001b[0m\u001b[0;34m\"messages\"\u001b[0m\u001b[0;34m]\u001b[0m\u001b[0;34m[\u001b[0m\u001b[0;34m-\u001b[0m\u001b[0;36m1\u001b[0m\u001b[0;34m]\u001b[0m\u001b[0;34m.\u001b[0m\u001b[0mpretty_print\u001b[0m\u001b[0;34m(\u001b[0m\u001b[0;34m)\u001b[0m\u001b[0;34m\u001b[0m\u001b[0;34m\u001b[0m\u001b[0m\n\u001b[1;32m     96\u001b[0m \u001b[0;34m\u001b[0m\u001b[0m\n",
            "\u001b[0;32m/usr/local/lib/python3.12/dist-packages/langgraph/pregel/main.py\u001b[0m in \u001b[0;36mstream\u001b[0;34m(self, input, config, context, stream_mode, print_mode, output_keys, interrupt_before, interrupt_after, durability, subgraphs, debug, **kwargs)\u001b[0m\n\u001b[1;32m   2705\u001b[0m                     \u001b[0merror_code\u001b[0m\u001b[0;34m=\u001b[0m\u001b[0mErrorCode\u001b[0m\u001b[0;34m.\u001b[0m\u001b[0mGRAPH_RECURSION_LIMIT\u001b[0m\u001b[0;34m,\u001b[0m\u001b[0;34m\u001b[0m\u001b[0;34m\u001b[0m\u001b[0m\n\u001b[1;32m   2706\u001b[0m                 )\n\u001b[0;32m-> 2707\u001b[0;31m                 \u001b[0;32mraise\u001b[0m \u001b[0mGraphRecursionError\u001b[0m\u001b[0;34m(\u001b[0m\u001b[0mmsg\u001b[0m\u001b[0;34m)\u001b[0m\u001b[0;34m\u001b[0m\u001b[0;34m\u001b[0m\u001b[0m\n\u001b[0m\u001b[1;32m   2708\u001b[0m             \u001b[0;31m# set final channel values as run output\u001b[0m\u001b[0;34m\u001b[0m\u001b[0;34m\u001b[0m\u001b[0m\n\u001b[1;32m   2709\u001b[0m             \u001b[0mrun_manager\u001b[0m\u001b[0;34m.\u001b[0m\u001b[0mon_chain_end\u001b[0m\u001b[0;34m(\u001b[0m\u001b[0mloop\u001b[0m\u001b[0;34m.\u001b[0m\u001b[0moutput\u001b[0m\u001b[0;34m)\u001b[0m\u001b[0;34m\u001b[0m\u001b[0;34m\u001b[0m\u001b[0m\n",
            "\u001b[0;31mGraphRecursionError\u001b[0m: Recursion limit of 25 reached without hitting a stop condition. You can increase the limit by setting the `recursion_limit` config key.\nFor troubleshooting, visit: https://python.langchain.com/docs/troubleshooting/errors/GRAPH_RECURSION_LIMIT"
          ]
        }
      ],
      "source": [
        "# ============================================================\n",
        "# 💫 FINAL SMART HUMAN-IN-THE-LOOP GRAPH (Self-Terminating)\n",
        "# ============================================================\n",
        "\n",
        "from langgraph.graph import StateGraph, MessagesState, START, END\n",
        "from langchain_core.messages import HumanMessage, AIMessage\n",
        "from langgraph.checkpoint.memory import MemorySaver\n",
        "import random, time\n",
        "\n",
        "# -------------------------\n",
        "# 🧩 1. Assistant Node\n",
        "# -------------------------\n",
        "def assistant_node(state: MessagesState):\n",
        "    \"\"\"Simulates AI assistant response to human or system feedback.\"\"\"\n",
        "    last_message = state[\"messages\"][-1].content.lower()\n",
        "\n",
        "    if \"multiply\" in last_message:\n",
        "        nums = [int(s) for s in last_message.split() if s.isdigit()]\n",
        "        result = nums[0] * nums[1] if len(nums) >= 2 else \"N/A\"\n",
        "        reply = f\"🧮 Computed Output → {result}\\n💡 Quick Note: Verified with arithmetic logic.\"\n",
        "    elif \"good\" in last_message or \"final\" in last_message:\n",
        "        reply = \"✨ Perfect! Seems like the model has reached an optimal output.\"\n",
        "    else:\n",
        "        reply = \"💡 Mock response: Here's something insightful!\"\n",
        "\n",
        "    time.sleep(0.3)\n",
        "    return {\"messages\": [AIMessage(content=reply)]}\n",
        "\n",
        "\n",
        "# -------------------------\n",
        "# 🧠 2. Feedback Node\n",
        "# -------------------------\n",
        "def feedback_node(state: MessagesState):\n",
        "    \"\"\"Simulates human feedback — now stops gracefully once satisfied.\"\"\"\n",
        "    feedback_bank = [\n",
        "        \"Try using simpler language.\",\n",
        "        \"Improve accuracy in calculation.\",\n",
        "        \"Add a short explanation to the result.\",\n",
        "        \"Looks good! Proceed with next query.\",\n",
        "        \"Make the tone more conversational.\",\n",
        "    ]\n",
        "\n",
        "    feedback_round = len([m for m in state[\"messages\"] if isinstance(m, HumanMessage)]) - 1\n",
        "    print(f\"\\n--- 🧠 Human Feedback Phase (Round {feedback_round + 1}) ---\")\n",
        "\n",
        "    # 🛑 Stop condition\n",
        "    if feedback_round >= 5 or \"good\" in state[\"messages\"][-1].content.lower():\n",
        "        print(\"✅ Feedback stabilized — stopping further iterations.\")\n",
        "        return {\"messages\": [HumanMessage(content=\"Looks good! Final confirmation.\")]}\n",
        "\n",
        "    feedback = random.choice(feedback_bank)\n",
        "    print(f\"💬 Injected Feedback → {feedback}\")\n",
        "    time.sleep(0.2)\n",
        "    return {\"messages\": [HumanMessage(content=feedback)]}\n",
        "\n",
        "\n",
        "# -------------------------\n",
        "# 🏗️ 3. Build the Graph\n",
        "# -------------------------\n",
        "builder = StateGraph(MessagesState)\n",
        "\n",
        "builder.add_node(\"assistant_node\", assistant_node)\n",
        "builder.add_node(\"feedback_node\", feedback_node)\n",
        "\n",
        "builder.add_edge(START, \"assistant_node\")\n",
        "builder.add_edge(\"assistant_node\", \"feedback_node\")\n",
        "builder.add_edge(\"feedback_node\", \"assistant_node\")\n",
        "\n",
        "# ✅ Conditional edge ensures graceful exit\n",
        "builder.add_conditional_edges(\n",
        "    \"assistant_node\",\n",
        "    lambda state: (\n",
        "        \"true\" if \"good\" in state[\"messages\"][-1].content.lower() else \"false\"\n",
        "    ),\n",
        "    {\"true\": END, \"false\": \"feedback_node\"},\n",
        ")\n",
        "\n",
        "# Attach memory for persistent state tracking\n",
        "memory = MemorySaver()\n",
        "\n",
        "# ✅ Increase recursion limit & compile safely\n",
        "graph = builder.compile(checkpointer=memory, recursion_limit=10)\n",
        "\n",
        "# -------------------------\n",
        "# 🚀 4. Run the System\n",
        "# -------------------------\n",
        "initial_input = {\"messages\": [HumanMessage(content=\"Multiply 2 and 3\")]}\n",
        "thread = {\"configurable\": {\"thread_id\": \"loop_01\"}}\n",
        "\n",
        "print(\"\\n--- 🔄 Starting Final Smart Human-in-the-Loop Execution ---\\n\")\n",
        "\n",
        "for event in graph.stream(initial_input, thread, stream_mode=\"values\"):\n",
        "    event[\"messages\"][-1].pretty_print()\n",
        "\n",
        "print(\"\\n✅ Execution completed — model stabilized with human feedback.\")\n"
      ]
    }
  ],
  "metadata": {
    "kernelspec": {
      "display_name": "Python 3 (ipykernel)",
      "language": "python",
      "name": "python3"
    },
    "language_info": {
      "codemirror_mode": {
        "name": "ipython",
        "version": 3
      },
      "file_extension": ".py",
      "mimetype": "text/x-python",
      "name": "python",
      "nbconvert_exporter": "python",
      "pygments_lexer": "ipython3",
      "version": "3.13.5"
    },
    "colab": {
      "provenance": []
    }
  },
  "nbformat": 4,
  "nbformat_minor": 5
}