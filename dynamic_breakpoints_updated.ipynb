{
  "cells": [
    {
      "cell_type": "markdown",
      "id": "2109e6a2",
      "metadata": {
        "id": "2109e6a2"
      },
      "source": [
        "[![Open in Colab](https://colab.research.google.com/assets/colab-badge.svg)](https://colab.research.google.com/github/langchain-ai/langchain-academy/blob/main/module-3/dynamic-breakpoints.ipynb) [![Open in LangChain Academy](https://cdn.prod.website-files.com/65b8cd72835ceeacd4449a53/66e9eba12c7b7688aa3dbb5e_LCA-badge-green.svg)](https://academy.langchain.com/courses/take/intro-to-langgraph/lessons/58239526-lesson-4-dynamic-breakpoints)"
      ]
    },
    {
      "cell_type": "markdown",
      "id": "d0cefea1-f982-4bb1-b691-27a855bfdccb",
      "metadata": {
        "id": "d0cefea1-f982-4bb1-b691-27a855bfdccb"
      },
      "source": [
        "# Dynamic breakpoints\n",
        "\n",
        "## Review\n",
        "\n",
        "We discussed motivations for human-in-the-loop:\n",
        "\n",
        "(1) `Approval` - We can interrupt our agent, surface state to a user, and allow the user to accept an action\n",
        "\n",
        "(2) `Debugging` - We can rewind the graph to reproduce or avoid issues\n",
        "\n",
        "(3) `Editing` - You can modify the state\n",
        "\n",
        "We covered breakpoints as a general way to stop the graph at specific steps, which enables use-cases like `Approval`\n",
        "\n",
        "We also showed how to edit graph state, and introduce human feedback.\n",
        "\n",
        "## Goals\n",
        "\n",
        "Breakpoints are set by the developer on a specific node during graph compilation.\n",
        "\n",
        "But, sometimes it is helpful to allow the graph **dynamically interrupt** itself!\n",
        "\n",
        "This is an internal breakpoint, and [can be achieved using `NodeInterrupt`](https://langchain-ai.github.io/langgraph/how-tos/human_in_the_loop/dynamic_breakpoints/#run-the-graph-with-dynamic-interrupt).\n",
        "\n",
        "This has a few specific benefits:\n",
        "\n",
        "(1) you can do it conditionally (from inside a node based on developer-defined logic).\n",
        "\n",
        "(2) you can communicate to the user why its interrupted (by passing whatever you want to the `NodeInterrupt`).\n",
        "\n",
        "Let's create a graph where a `NodeInterrupt` is thrown based upon length of the input."
      ]
    },
    {
      "cell_type": "code",
      "execution_count": 1,
      "id": "387d8d87-598a-485a-a99f-a9270a7c2e73",
      "metadata": {
        "id": "387d8d87-598a-485a-a99f-a9270a7c2e73"
      },
      "outputs": [],
      "source": [
        "%%capture --no-stderr\n",
        "%pip install --quiet -U langgraph langchain_openai langgraph_sdk"
      ]
    },
    {
      "cell_type": "code",
      "execution_count": 2,
      "id": "6248f166-2013-445a-b4ae-1fb7b92f8c32",
      "metadata": {
        "colab": {
          "base_uri": "https://localhost:8080/",
          "height": 548
        },
        "id": "6248f166-2013-445a-b4ae-1fb7b92f8c32",
        "outputId": "c80b1711-7c4f-42d4-f9dc-4bc169f49d32"
      },
      "outputs": [
        {
          "output_type": "display_data",
          "data": {
            "image/png": "[encoded data removed]",
            "text/plain": [
              "<IPython.core.display.Image object>"
            ]
          },
          "metadata": {}
        }
      ],
      "source": [
        "from IPython.display import Image, display\n",
        "from typing_extensions import TypedDict\n",
        "from langgraph.checkpoint.memory import MemorySaver\n",
        "from langgraph.errors import NodeInterrupt\n",
        "from langgraph.graph import START, END, StateGraph\n",
        "\n",
        "class State(TypedDict):\n",
        "    input: str\n",
        "    resumed: bool  # new flag to track if the graph has resumed\n",
        "\n",
        "def step_1(state: State) -> State:\n",
        "    print(\"---Step 1---\")\n",
        "    return state\n",
        "\n",
        "def step_2(state: State) -> State:\n",
        "    # Dynamically interrupt if input contains uppercase letters\n",
        "    if not state['input'].islower():\n",
        "        raise NodeInterrupt(f\"Input contains uppercase or invalid characters: {state['input']}\")\n",
        "\n",
        "    print(\"---Step 2---\")\n",
        "    return state\n",
        "\n",
        "def sanitize_input(state: State) -> State:\n",
        "    # New node to sanitize or fix input after an interruption\n",
        "    print(\"---Sanitize Input---\")\n",
        "    state['input'] = state['input'].lower().strip()\n",
        "    state['resumed'] = True\n",
        "    return state\n",
        "\n",
        "def step_3(state: State) -> State:\n",
        "    if state.get(\"resumed\"):\n",
        "        print(\"---Resumed Execution after Sanitize---\")\n",
        "    else:\n",
        "        print(\"---Step 3---\")\n",
        "    return state\n",
        "\n",
        "# Build graph\n",
        "builder = StateGraph(State)\n",
        "builder.add_node(\"step_1\", step_1)\n",
        "builder.add_node(\"step_2\", step_2)\n",
        "builder.add_node(\"sanitize_input\", sanitize_input)\n",
        "builder.add_node(\"step_3\", step_3)\n",
        "\n",
        "# Define flow\n",
        "builder.add_edge(START, \"step_1\")\n",
        "builder.add_edge(\"step_1\", \"step_2\")\n",
        "builder.add_edge(\"step_2\", \"sanitize_input\")  # added sanitization step before step_3\n",
        "builder.add_edge(\"sanitize_input\", \"step_3\")\n",
        "builder.add_edge(\"step_3\", END)\n",
        "\n",
        "# Setup memory\n",
        "memory = MemorySaver()\n",
        "\n",
        "# Compile graph\n",
        "graph = builder.compile(checkpointer=memory)\n",
        "\n",
        "# Visualize\n",
        "display(Image(graph.get_graph().draw_mermaid_png()))\n"
      ]
    },
    {
      "cell_type": "markdown",
      "id": "b2c6e5c8-0556-43d1-9eef-b3af32728f74",
      "metadata": {
        "id": "b2c6e5c8-0556-43d1-9eef-b3af32728f74"
      },
      "source": [
        "Let's run the graph with an input that's longer than 5 characters."
      ]
    },
    {
      "cell_type": "code",
      "execution_count": 3,
      "id": "de73c9ce-ccc5-4ffd-8d82-7018364e7c4f",
      "metadata": {
        "colab": {
          "base_uri": "https://localhost:8080/"
        },
        "id": "de73c9ce-ccc5-4ffd-8d82-7018364e7c4f",
        "outputId": "8409453a-4871-483a-d435-3a5d41018f7b"
      },
      "outputs": [
        {
          "output_type": "stream",
          "name": "stdout",
          "text": [
            "\n",
            "--- Running Graph ---\n",
            "{'input': 'Hello World'}\n",
            "---Step 1---\n",
            "{'input': 'Hello World'}\n",
            "{'__interrupt__': (Interrupt(value='Input contains uppercase or invalid characters: Hello World', id='placeholder-id'),)}\n",
            "\n",
            "--- Interrupted State ---\n",
            "('step_2',)\n",
            "(PregelTask(id='f2ea5ec5-c0cb-57ef-2c92-ab87be1558f3', name='step_2', path=('__pregel_pull', 'step_2'), error=None, interrupts=(Interrupt(value='Input contains uppercase or invalid characters: Hello World', id='placeholder-id'),), state=None, result=None),)\n",
            "\n",
            "--- Resuming Graph ---\n",
            "{'input': 'hello world', 'resumed': True}\n",
            "---Step 2---\n",
            "{'input': 'hello world', 'resumed': True}\n",
            "---Sanitize Input---\n",
            "{'input': 'hello world', 'resumed': True}\n",
            "---Resumed Execution after Sanitize---\n",
            "{'input': 'hello world', 'resumed': True}\n"
          ]
        },
        {
          "output_type": "stream",
          "name": "stderr",
          "text": [
            "/tmp/ipython-input-461272904.py:18: LangGraphDeprecatedSinceV10: NodeInterrupt is deprecated. Please use `langgraph.types.interrupt` instead. Deprecated in LangGraph V1.0 to be removed in V2.0.\n",
            "  raise NodeInterrupt(f\"Input contains uppercase or invalid characters: {state['input']}\")\n"
          ]
        }
      ],
      "source": [
        "initial_input = {\"input\": \"Hello World\"}  # input has uppercase to trigger NodeInterrupt\n",
        "thread_config = {\"configurable\": {\"thread_id\": \"1\"}}\n",
        "\n",
        "# Run the graph until interruption\n",
        "print(\"\\n--- Running Graph ---\")\n",
        "for event in graph.stream(initial_input, thread_config, stream_mode=\"values\"):\n",
        "    print(event)\n",
        "\n",
        "# Inspect the state after interruption\n",
        "state = graph.get_state(thread_config)\n",
        "print(\"\\n--- Interrupted State ---\")\n",
        "print(state.next)\n",
        "print(state.tasks)\n",
        "\n",
        "# Update input to lowercase to resume from interruption\n",
        "graph.update_state(thread_config, {\"input\": state.values['input'].lower(), \"resumed\": True})\n",
        "\n",
        "# Resume graph after sanitization\n",
        "print(\"\\n--- Resuming Graph ---\")\n",
        "for event in graph.stream(None, thread_config, stream_mode=\"values\"):\n",
        "    print(event)\n"
      ]
    },
    {
      "cell_type": "markdown",
      "id": "da79063f-5b67-49dd-8ef0-3eae4c480cb5",
      "metadata": {
        "id": "da79063f-5b67-49dd-8ef0-3eae4c480cb5"
      },
      "source": [
        "If we inspect the graph state at this point, we the node set to execute next (`step_2`).\n"
      ]
    },
    {
      "cell_type": "code",
      "execution_count": 4,
      "id": "34706f0d-379b-4236-a42e-c8e52b27fb22",
      "metadata": {
        "colab": {
          "base_uri": "https://localhost:8080/"
        },
        "id": "34706f0d-379b-4236-a42e-c8e52b27fb22",
        "outputId": "7c3d7661-5e5b-430e-a3f6-b4f9474be749"
      },
      "outputs": [
        {
          "output_type": "execute_result",
          "data": {
            "text/plain": [
              "{'configurable': {'thread_id': '1',\n",
              "  'checkpoint_ns': '',\n",
              "  'checkpoint_id': '1f0b3491-3c38-6f00-8006-4bdd1348131b'}}"
            ]
          },
          "metadata": {},
          "execution_count": 4
        }
      ],
      "source": [
        "graph.update_state(thread_config, {\"input\": \"hello world\", \"resumed\": True})\n"
      ]
    },
    {
      "cell_type": "markdown",
      "id": "3ed78755-f1e8-4c66-a4f8-a7ccff472c91",
      "metadata": {
        "id": "3ed78755-f1e8-4c66-a4f8-a7ccff472c91"
      },
      "source": [
        "We can see that the `Interrupt` is logged to state."
      ]
    },
    {
      "cell_type": "code",
      "execution_count": 5,
      "id": "93815a05-819a-4050-8834-73236fa910dc",
      "metadata": {
        "colab": {
          "base_uri": "https://localhost:8080/"
        },
        "id": "93815a05-819a-4050-8834-73236fa910dc",
        "outputId": "8b409e01-8c86-4aa6-a25a-981f5cfa8764"
      },
      "outputs": [
        {
          "output_type": "stream",
          "name": "stdout",
          "text": [
            "\n",
            "--- Interruption Details ---\n",
            "Node: step_2, Interrupt: (Interrupt(value='Input contains uppercase or invalid characters: Hello World', id='placeholder-id'),), Error: None\n"
          ]
        }
      ],
      "source": [
        "print(\"\\n--- Interruption Details ---\")\n",
        "for task in state.tasks:\n",
        "    print(f\"Node: {task.name}, Interrupt: {task.interrupts}, Error: {task.error}\")\n"
      ]
    },
    {
      "cell_type": "markdown",
      "id": "27d74573-b62c-4ac1-a142-d04c2dccfd08",
      "metadata": {
        "id": "27d74573-b62c-4ac1-a142-d04c2dccfd08"
      },
      "source": [
        "We can try to resume the graph from the breakpoint.\n",
        "\n",
        "But, this just re-runs the same node!\n",
        "\n",
        "Unless state is changed we will be stuck here."
      ]
    },
    {
      "cell_type": "code",
      "execution_count": 6,
      "id": "b735875e-62c6-4253-ba85-7ccf93a353b4",
      "metadata": {
        "colab": {
          "base_uri": "https://localhost:8080/"
        },
        "id": "b735875e-62c6-4253-ba85-7ccf93a353b4",
        "outputId": "d7163c72-1e24-40b2-c2f8-0da3cce7ddb4"
      },
      "outputs": [
        {
          "output_type": "stream",
          "name": "stdout",
          "text": [
            "\n",
            "--- Streaming Updated Values ---\n",
            "Updated Input State: {'input': 'hello world', 'resumed': True}\n"
          ]
        }
      ],
      "source": [
        "print(\"\\n--- Streaming Updated Values ---\")\n",
        "for event in graph.stream(None, thread_config, stream_mode=\"values\"):\n",
        "    if event.get(\"input\"):\n",
        "        print(\"Updated Input State:\", event)\n"
      ]
    },
    {
      "cell_type": "code",
      "execution_count": 7,
      "id": "1e3bc5e3-7a2f-49a1-8bdc-fd3597bd5fae",
      "metadata": {
        "colab": {
          "base_uri": "https://localhost:8080/"
        },
        "id": "1e3bc5e3-7a2f-49a1-8bdc-fd3597bd5fae",
        "outputId": "59e1b7b6-22cd-458a-a7fc-454c3edfbb05"
      },
      "outputs": [
        {
          "output_type": "stream",
          "name": "stdout",
          "text": [
            "No pending nodes — graph may have completed.\n"
          ]
        }
      ],
      "source": [
        "state = graph.get_state(thread_config)\n",
        "if state.next:\n",
        "    print(f\"Next node to execute: {state.next}\")\n",
        "else:\n",
        "    print(\"No pending nodes — graph may have completed.\")\n"
      ]
    },
    {
      "cell_type": "markdown",
      "id": "79ab61de-5c3f-44a5-b417-e36b1a2f26dd",
      "metadata": {
        "id": "79ab61de-5c3f-44a5-b417-e36b1a2f26dd"
      },
      "source": [
        "Now, we can update state."
      ]
    },
    {
      "cell_type": "code",
      "execution_count": 8,
      "id": "6f08dff4-3399-46de-a9ba-ba89b8cdb61e",
      "metadata": {
        "colab": {
          "base_uri": "https://localhost:8080/"
        },
        "id": "6f08dff4-3399-46de-a9ba-ba89b8cdb61e",
        "outputId": "9c046612-2566-4ec1-bf7c-c49c1b0d4c65"
      },
      "outputs": [
        {
          "output_type": "stream",
          "name": "stdout",
          "text": [
            "\n",
            "--- Updating State to Resume Execution ---\n"
          ]
        },
        {
          "output_type": "execute_result",
          "data": {
            "text/plain": [
              "{'configurable': {'thread_id': '1',\n",
              "  'checkpoint_ns': '',\n",
              "  'checkpoint_id': '1f0b3499-0a39-6e8c-8007-a54e70735153'}}"
            ]
          },
          "metadata": {},
          "execution_count": 8
        }
      ],
      "source": [
        "print(\"\\n--- Updating State to Resume Execution ---\")\n",
        "graph.update_state(thread_config, {\"input\": \"hi\"})\n"
      ]
    },
    {
      "cell_type": "code",
      "execution_count": 9,
      "id": "4cb3f62b-fccd-47c3-af1e-541969e4d804",
      "metadata": {
        "colab": {
          "base_uri": "https://localhost:8080/"
        },
        "id": "4cb3f62b-fccd-47c3-af1e-541969e4d804",
        "outputId": "523178a8-678d-4bc2-f5c3-ce657b406046"
      },
      "outputs": [
        {
          "output_type": "stream",
          "name": "stdout",
          "text": [
            "\n",
            "--- Continuing Execution ---\n",
            "Step 1: {'input': 'hi', 'resumed': True}\n"
          ]
        }
      ],
      "source": [
        "print(\"\\n--- Continuing Execution ---\")\n",
        "for step, event in enumerate(graph.stream(None, thread_config, stream_mode=\"values\"), start=1):\n",
        "    print(f\"Step {step}: {event}\")\n"
      ]
    },
    {
      "cell_type": "markdown",
      "id": "76e3dea8-8270-42c7-8d24-606b79b9c6aa",
      "metadata": {
        "id": "76e3dea8-8270-42c7-8d24-606b79b9c6aa"
      },
      "source": [
        "### Usage with LangGraph API\n",
        "\n",
        "**⚠️ Notice**\n",
        "\n",
        "Since filming these videos, we've updated Studio so that it can now be run locally and accessed through your browser. This is the preferred way to run Studio instead of using the Desktop App shown in the video. It is now called _LangSmith Studio_ instead of _LangGraph Studio_. Detailed setup instructions are available in the \"Getting Setup\" guide at the start of the course. You can find a description of Studio [here](https://docs.langchain.com/langsmith/studio), and specific details for local deployment [here](https://docs.langchain.com/langsmith/quick-start-studio#local-development-server).  \n",
        "To start the local development server, run the following command in your terminal in the `/studio` directory in this module:\n",
        "\n",
        "```\n",
        "langgraph dev\n",
        "```\n",
        "\n",
        "You should see the following output:\n",
        "```\n",
        "- 🚀 API: http://127.0.0.1:2024\n",
        "- 🎨 Studio UI: https://smith.langchain.com/studio/?baseUrl=http://127.0.0.1:2024\n",
        "- 📚 API Docs: http://127.0.0.1:2024/docs\n",
        "```\n",
        "\n",
        "Open your browser and navigate to the **Studio UI** URL shown above."
      ]
    },
    {
      "cell_type": "markdown",
      "id": "2390ff2e-6b1a-4c6e-b0ce-debd45085dc8",
      "metadata": {
        "id": "2390ff2e-6b1a-4c6e-b0ce-debd45085dc8"
      },
      "source": [
        "We connect to it via the SDK."
      ]
    },
    {
      "cell_type": "code",
      "execution_count": 15,
      "id": "8cb892cb-c79c-46bb-820b-d0479e71c5c4",
      "metadata": {
        "colab": {
          "base_uri": "https://localhost:8080/"
        },
        "id": "8cb892cb-c79c-46bb-820b-d0479e71c5c4",
        "outputId": "fe8ca718-53c9-4dd8-f1c6-2c02ed14e465"
      },
      "outputs": [
        {
          "output_type": "stream",
          "name": "stdout",
          "text": [
            "Simulating connection to local LangGraph Studio...\n",
            "Processing input: {'input': 'hello world'}\n",
            "Simulated NodeInterrupt -> [Interrupt(value='Dynamic breakpoint triggered due to long input.', id='placeholder-id')]\n"
          ]
        },
        {
          "output_type": "stream",
          "name": "stderr",
          "text": [
            "/tmp/ipython-input-3897247322.py:14: LangGraphDeprecatedSinceV10: NodeInterrupt is deprecated. Please use `langgraph.types.interrupt` instead. Deprecated in LangGraph V1.0 to be removed in V2.0.\n",
            "  raise NodeInterrupt(\"Dynamic breakpoint triggered due to long input.\")\n"
          ]
        }
      ],
      "source": [
        "import os\n",
        "os.environ[\"OPENAI_API_KEY\"] = \"openai api key to be used \"\n",
        "import os\n",
        "os.environ[\"LANGCHAIN_API_KEY\"] = \"lang key to be used here \"\n",
        "\n",
        "# Instead of connecting to local server\n",
        "print(\"Simulating connection to local LangGraph Studio...\")\n",
        "\n",
        "# Simulate dynamic interruption flow\n",
        "try:\n",
        "    input_data = {\"input\": \"hello world\"}\n",
        "    print(f\"Processing input: {input_data}\")\n",
        "    if len(input_data[\"input\"]) > 5:\n",
        "        raise NodeInterrupt(\"Dynamic breakpoint triggered due to long input.\")\n",
        "except NodeInterrupt as e:\n",
        "    print(f\"Simulated NodeInterrupt -> {e}\")\n"
      ]
    },
    {
      "cell_type": "code",
      "execution_count": 17,
      "id": "0ba7d9da",
      "metadata": {
        "colab": {
          "base_uri": "https://localhost:8080/"
        },
        "id": "0ba7d9da",
        "outputId": "a7fcab64-1e30-4349-d415-468a1cf4a488"
      },
      "outputs": [
        {
          "output_type": "stream",
          "name": "stdout",
          "text": [
            "Simulated current state: {'values': {'input': 'hello world'}, 'next': ['step_2'], 'interrupts': ['Dynamic breakpoint triggered due to long input.']}\n"
          ]
        }
      ],
      "source": [
        "# Simulate retrieval of current graph state without real server connection\n",
        "current_state = {\n",
        "    \"values\": {\"input\": \"hello world\"},\n",
        "    \"next\": [\"step_2\"],\n",
        "    \"interrupts\": [\"Dynamic breakpoint triggered due to long input.\"],\n",
        "}\n",
        "\n",
        "print(\"Simulated current state:\", current_state)\n"
      ]
    },
    {
      "cell_type": "code",
      "execution_count": 18,
      "id": "9610fc2b-ae39-4ffa-84af-b049e7d22cd6",
      "metadata": {
        "colab": {
          "base_uri": "https://localhost:8080/"
        },
        "id": "9610fc2b-ae39-4ffa-84af-b049e7d22cd6",
        "outputId": "067724a6-cc79-4846-a3e7-8c2b83b9cbc7"
      },
      "outputs": [
        {
          "output_type": "execute_result",
          "data": {
            "text/plain": [
              "['step_2']"
            ]
          },
          "metadata": {},
          "execution_count": 18
        }
      ],
      "source": [
        "current_state['next']"
      ]
    },
    {
      "cell_type": "code",
      "execution_count": 19,
      "id": "1e880cf0-18b1-4f7b-a770-24d45dd22757",
      "metadata": {
        "colab": {
          "base_uri": "https://localhost:8080/"
        },
        "id": "1e880cf0-18b1-4f7b-a770-24d45dd22757",
        "outputId": "cbc3923e-ff81-4c1d-ca75-84f8547d72db"
      },
      "outputs": [
        {
          "output_type": "stream",
          "name": "stdout",
          "text": [
            "State successfully updated locally: {'values': {'input': 'hi!'}, 'next': ['step_2'], 'interrupts': ['Dynamic breakpoint triggered due to long input.']}\n"
          ]
        }
      ],
      "source": [
        "# Simulate state update locally after NodeInterrupt\n",
        "current_state[\"values\"][\"input\"] = \"hi!\"\n",
        "print(\"State successfully updated locally:\", current_state)\n"
      ]
    },
    {
      "cell_type": "code",
      "execution_count": 20,
      "id": "16dc65b9-95c0-46eb-9f73-da0a35e70034",
      "metadata": {
        "colab": {
          "base_uri": "https://localhost:8080/"
        },
        "id": "16dc65b9-95c0-46eb-9f73-da0a35e70034",
        "outputId": "822a9350-bd16-4421-f713-34247b2d73b2"
      },
      "outputs": [
        {
          "output_type": "stream",
          "name": "stdout",
          "text": [
            "Resuming graph execution after state update...\n",
            "\n",
            "Receiving new event of type: metadata...\n",
            "{'run_id': 'sim123'}\n",
            "\n",
            "\n",
            "Receiving new event of type: values...\n",
            "{'input': 'hi!'}\n",
            "\n",
            "\n",
            "Receiving new event of type: values...\n",
            "{'status': 'Execution resumed successfully'}\n",
            "\n",
            "\n"
          ]
        }
      ],
      "source": [
        "# Simulate resumed graph execution after state update\n",
        "print(\"Resuming graph execution after state update...\\n\")\n",
        "\n",
        "simulated_events = [\n",
        "    {\"event\": \"metadata\", \"data\": {\"run_id\": \"sim123\"}},\n",
        "    {\"event\": \"values\", \"data\": {\"input\": \"hi!\"}},\n",
        "    {\"event\": \"values\", \"data\": {\"status\": \"Execution resumed successfully\"}}\n",
        "]\n",
        "\n",
        "for chunk in simulated_events:\n",
        "    print(f\"Receiving new event of type: {chunk['event']}...\")\n",
        "    print(chunk[\"data\"])\n",
        "    print(\"\\n\")\n"
      ]
    },
    {
      "cell_type": "code",
      "execution_count": 21,
      "id": "5f662b10-ad4c-45c7-a420-ded8ccae8faa",
      "metadata": {
        "colab": {
          "base_uri": "https://localhost:8080/"
        },
        "id": "5f662b10-ad4c-45c7-a420-ded8ccae8faa",
        "outputId": "bf64d8ae-3ce3-456d-e8ee-d64cbb996328"
      },
      "outputs": [
        {
          "output_type": "stream",
          "name": "stdout",
          "text": [
            "Fetched simulated current state:\n",
            " {'values': {'input': 'hi!'}, 'next': ['step_2'], 'tasks': [{'id': 'sim_001', 'name': 'step_2', 'error': None, 'interrupts': [], 'state': None}], 'metadata': {'step': 2, 'source': 'update', 'graph_id': 'dynamic_breakpoints'}}\n"
          ]
        }
      ],
      "source": [
        "# Simulate fetching the current thread state after resuming execution\n",
        "current_state = {\n",
        "    \"values\": {\"input\": \"hi!\"},\n",
        "    \"next\": [\"step_2\"],\n",
        "    \"tasks\": [\n",
        "        {\n",
        "            \"id\": \"sim_001\",\n",
        "            \"name\": \"step_2\",\n",
        "            \"error\": None,\n",
        "            \"interrupts\": [],\n",
        "            \"state\": None\n",
        "        }\n",
        "    ],\n",
        "    \"metadata\": {\n",
        "        \"step\": 2,\n",
        "        \"source\": \"update\",\n",
        "        \"graph_id\": \"dynamic_breakpoints\"\n",
        "    }\n",
        "}\n",
        "\n",
        "print(\"Fetched simulated current state:\\n\", current_state)\n"
      ]
    },
    {
      "cell_type": "code",
      "execution_count": null,
      "id": "873b3696-df61-4f2e-94d8-089b7072aafa",
      "metadata": {
        "id": "873b3696-df61-4f2e-94d8-089b7072aafa"
      },
      "outputs": [],
      "source": []
    }
  ],
  "metadata": {
    "kernelspec": {
      "display_name": "Python 3 (ipykernel)",
      "language": "python",
      "name": "python3"
    },
    "language_info": {
      "codemirror_mode": {
        "name": "ipython",
        "version": 3
      },
      "file_extension": ".py",
      "mimetype": "text/x-python",
      "name": "python",
      "nbconvert_exporter": "python",
      "pygments_lexer": "ipython3",
      "version": "3.13.5"
    },
    "colab": {
      "provenance": []
    }
  },
  "nbformat": 4,
  "nbformat_minor": 5
}